{
  "cells": [
    {
      "cell_type": "code",
      "execution_count": null,
      "metadata": {
        "id": "ewp-1TA0vpYx",
        "colab": {
          "base_uri": "https://localhost:8080/"
        },
        "outputId": "0b6eb431-66b9-4bf2-9807-bb278c58e368"
      },
      "outputs": [
        {
          "output_type": "stream",
          "name": "stdout",
          "text": [
            "Looking in indexes: https://pypi.org/simple, https://us-python.pkg.dev/colab-wheels/public/simple/\n",
            "Requirement already satisfied: plotly in /usr/local/lib/python3.7/dist-packages (5.5.0)\n",
            "Requirement already satisfied: tenacity>=6.2.0 in /usr/local/lib/python3.7/dist-packages (from plotly) (8.0.1)\n",
            "Requirement already satisfied: six in /usr/local/lib/python3.7/dist-packages (from plotly) (1.15.0)\n"
          ]
        }
      ],
      "source": [
        "pip install plotly"
      ]
    },
    {
      "cell_type": "code",
      "execution_count": null,
      "metadata": {
        "id": "vvz5fiwxvpYy",
        "colab": {
          "base_uri": "https://localhost:8080/"
        },
        "outputId": "b36f20dd-7138-4e3c-f5bc-b789ab93798e"
      },
      "outputs": [
        {
          "output_type": "stream",
          "name": "stdout",
          "text": [
            "Looking in indexes: https://pypi.org/simple, https://us-python.pkg.dev/colab-wheels/public/simple/\n",
            "Collecting mglearn\n",
            "  Downloading mglearn-0.1.9.tar.gz (540 kB)\n",
            "\u001b[K     |████████████████████████████████| 540 kB 8.7 MB/s \n",
            "\u001b[?25hRequirement already satisfied: numpy in /usr/local/lib/python3.7/dist-packages (from mglearn) (1.21.6)\n",
            "Requirement already satisfied: matplotlib in /usr/local/lib/python3.7/dist-packages (from mglearn) (3.2.2)\n",
            "Requirement already satisfied: scikit-learn in /usr/local/lib/python3.7/dist-packages (from mglearn) (1.0.2)\n",
            "Requirement already satisfied: pandas in /usr/local/lib/python3.7/dist-packages (from mglearn) (1.3.5)\n",
            "Requirement already satisfied: pillow in /usr/local/lib/python3.7/dist-packages (from mglearn) (7.1.2)\n",
            "Requirement already satisfied: cycler in /usr/local/lib/python3.7/dist-packages (from mglearn) (0.11.0)\n",
            "Requirement already satisfied: imageio in /usr/local/lib/python3.7/dist-packages (from mglearn) (2.9.0)\n",
            "Requirement already satisfied: joblib in /usr/local/lib/python3.7/dist-packages (from mglearn) (1.1.0)\n",
            "Requirement already satisfied: python-dateutil>=2.1 in /usr/local/lib/python3.7/dist-packages (from matplotlib->mglearn) (2.8.2)\n",
            "Requirement already satisfied: kiwisolver>=1.0.1 in /usr/local/lib/python3.7/dist-packages (from matplotlib->mglearn) (1.4.4)\n",
            "Requirement already satisfied: pyparsing!=2.0.4,!=2.1.2,!=2.1.6,>=2.0.1 in /usr/local/lib/python3.7/dist-packages (from matplotlib->mglearn) (3.0.9)\n",
            "Requirement already satisfied: typing-extensions in /usr/local/lib/python3.7/dist-packages (from kiwisolver>=1.0.1->matplotlib->mglearn) (4.1.1)\n",
            "Requirement already satisfied: six>=1.5 in /usr/local/lib/python3.7/dist-packages (from python-dateutil>=2.1->matplotlib->mglearn) (1.15.0)\n",
            "Requirement already satisfied: pytz>=2017.3 in /usr/local/lib/python3.7/dist-packages (from pandas->mglearn) (2022.2.1)\n",
            "Requirement already satisfied: scipy>=1.1.0 in /usr/local/lib/python3.7/dist-packages (from scikit-learn->mglearn) (1.7.3)\n",
            "Requirement already satisfied: threadpoolctl>=2.0.0 in /usr/local/lib/python3.7/dist-packages (from scikit-learn->mglearn) (3.1.0)\n",
            "Building wheels for collected packages: mglearn\n",
            "  Building wheel for mglearn (setup.py) ... \u001b[?25l\u001b[?25hdone\n",
            "  Created wheel for mglearn: filename=mglearn-0.1.9-py2.py3-none-any.whl size=582639 sha256=afd8b3f3f166ce58f8ab5b24826b9b14202a80e62ffecb3bc7dd024be5ad8e8c\n",
            "  Stored in directory: /root/.cache/pip/wheels/f1/17/e1/1720d6dcd70187b6b6c3750cb3508798f2b1d57c9d3214b08b\n",
            "Successfully built mglearn\n",
            "Installing collected packages: mglearn\n",
            "Successfully installed mglearn-0.1.9\n"
          ]
        }
      ],
      "source": [
        "pip install mglearn"
      ]
    },
    {
      "cell_type": "code",
      "execution_count": null,
      "metadata": {
        "execution": {
          "iopub.execute_input": "2022-09-16T11:59:56.414945Z",
          "iopub.status.busy": "2022-09-16T11:59:56.413838Z",
          "iopub.status.idle": "2022-09-16T12:00:10.483164Z",
          "shell.execute_reply": "2022-09-16T12:00:10.481745Z",
          "shell.execute_reply.started": "2022-09-16T11:59:56.414882Z"
        },
        "id": "H4xrOGlDvpYl",
        "colab": {
          "base_uri": "https://localhost:8080/"
        },
        "outputId": "49d6af0a-ec26-4e29-cb5a-108e5edbf679"
      },
      "outputs": [
        {
          "output_type": "stream",
          "name": "stdout",
          "text": [
            "Looking in indexes: https://pypi.org/simple, https://us-python.pkg.dev/colab-wheels/public/simple/\n",
            "Requirement already satisfied: openpyxl in /usr/local/lib/python3.7/dist-packages (3.0.10)\n",
            "Requirement already satisfied: et-xmlfile in /usr/local/lib/python3.7/dist-packages (from openpyxl) (1.1.0)\n"
          ]
        }
      ],
      "source": [
        "pip install openpyxl"
      ]
    },
    {
      "cell_type": "code",
      "execution_count": null,
      "metadata": {
        "execution": {
          "iopub.execute_input": "2022-09-16T11:59:54.154073Z",
          "iopub.status.busy": "2022-09-16T11:59:54.153300Z",
          "iopub.status.idle": "2022-09-16T11:59:55.256588Z",
          "shell.execute_reply": "2022-09-16T11:59:55.255471Z",
          "shell.execute_reply.started": "2022-09-16T11:59:54.153941Z"
        },
        "id": "gf7EF84ovpWu"
      },
      "outputs": [],
      "source": [
        "# Mengimport semua library\n",
        "import pandas as pd\n",
        "import numpy as np\n",
        "import seaborn as sns\n",
        "import matplotlib.pyplot as plt"
      ]
    },
    {
      "cell_type": "code",
      "execution_count": null,
      "metadata": {
        "execution": {
          "iopub.execute_input": "2022-09-16T11:59:55.258653Z",
          "iopub.status.busy": "2022-09-16T11:59:55.258324Z",
          "iopub.status.idle": "2022-09-16T11:59:55.310258Z",
          "shell.execute_reply": "2022-09-16T11:59:55.309403Z",
          "shell.execute_reply.started": "2022-09-16T11:59:55.258624Z"
        },
        "id": "uXh1V-V4vpXw",
        "colab": {
          "base_uri": "https://localhost:8080/",
          "height": 206
        },
        "outputId": "9896b6cb-4799-4a7d-a6b4-99d3c81e1817"
      },
      "outputs": [
        {
          "output_type": "execute_result",
          "data": {
            "text/plain": [
              "   Tahun  Bulan  Hari  Curah_hujan  Kelembaban  Suhu_maks  Suhu_min  Tekanan  \\\n",
              "0   2011      1     1         0.92       18.62      28.19     23.41   100.26   \n",
              "1   2011      1     2         2.80       18.55      28.96     23.23   100.32   \n",
              "2   2011      1     3         7.22       17.88      28.03     23.23   100.38   \n",
              "3   2011      1     4        14.05       18.07      27.65     22.26   100.32   \n",
              "4   2011      1     5        12.97       18.25      28.69     22.56   100.26   \n",
              "\n",
              "   Angin_permukaan  \n",
              "0             1.52  \n",
              "1             1.42  \n",
              "2             1.15  \n",
              "3             1.82  \n",
              "4             2.02  "
            ],
            "text/html": [
              "\n",
              "  <div id=\"df-9f39fc80-cf27-45f2-a1d0-ab3e7048e403\">\n",
              "    <div class=\"colab-df-container\">\n",
              "      <div>\n",
              "<style scoped>\n",
              "    .dataframe tbody tr th:only-of-type {\n",
              "        vertical-align: middle;\n",
              "    }\n",
              "\n",
              "    .dataframe tbody tr th {\n",
              "        vertical-align: top;\n",
              "    }\n",
              "\n",
              "    .dataframe thead th {\n",
              "        text-align: right;\n",
              "    }\n",
              "</style>\n",
              "<table border=\"1\" class=\"dataframe\">\n",
              "  <thead>\n",
              "    <tr style=\"text-align: right;\">\n",
              "      <th></th>\n",
              "      <th>Tahun</th>\n",
              "      <th>Bulan</th>\n",
              "      <th>Hari</th>\n",
              "      <th>Curah_hujan</th>\n",
              "      <th>Kelembaban</th>\n",
              "      <th>Suhu_maks</th>\n",
              "      <th>Suhu_min</th>\n",
              "      <th>Tekanan</th>\n",
              "      <th>Angin_permukaan</th>\n",
              "    </tr>\n",
              "  </thead>\n",
              "  <tbody>\n",
              "    <tr>\n",
              "      <th>0</th>\n",
              "      <td>2011</td>\n",
              "      <td>1</td>\n",
              "      <td>1</td>\n",
              "      <td>0.92</td>\n",
              "      <td>18.62</td>\n",
              "      <td>28.19</td>\n",
              "      <td>23.41</td>\n",
              "      <td>100.26</td>\n",
              "      <td>1.52</td>\n",
              "    </tr>\n",
              "    <tr>\n",
              "      <th>1</th>\n",
              "      <td>2011</td>\n",
              "      <td>1</td>\n",
              "      <td>2</td>\n",
              "      <td>2.80</td>\n",
              "      <td>18.55</td>\n",
              "      <td>28.96</td>\n",
              "      <td>23.23</td>\n",
              "      <td>100.32</td>\n",
              "      <td>1.42</td>\n",
              "    </tr>\n",
              "    <tr>\n",
              "      <th>2</th>\n",
              "      <td>2011</td>\n",
              "      <td>1</td>\n",
              "      <td>3</td>\n",
              "      <td>7.22</td>\n",
              "      <td>17.88</td>\n",
              "      <td>28.03</td>\n",
              "      <td>23.23</td>\n",
              "      <td>100.38</td>\n",
              "      <td>1.15</td>\n",
              "    </tr>\n",
              "    <tr>\n",
              "      <th>3</th>\n",
              "      <td>2011</td>\n",
              "      <td>1</td>\n",
              "      <td>4</td>\n",
              "      <td>14.05</td>\n",
              "      <td>18.07</td>\n",
              "      <td>27.65</td>\n",
              "      <td>22.26</td>\n",
              "      <td>100.32</td>\n",
              "      <td>1.82</td>\n",
              "    </tr>\n",
              "    <tr>\n",
              "      <th>4</th>\n",
              "      <td>2011</td>\n",
              "      <td>1</td>\n",
              "      <td>5</td>\n",
              "      <td>12.97</td>\n",
              "      <td>18.25</td>\n",
              "      <td>28.69</td>\n",
              "      <td>22.56</td>\n",
              "      <td>100.26</td>\n",
              "      <td>2.02</td>\n",
              "    </tr>\n",
              "  </tbody>\n",
              "</table>\n",
              "</div>\n",
              "      <button class=\"colab-df-convert\" onclick=\"convertToInteractive('df-9f39fc80-cf27-45f2-a1d0-ab3e7048e403')\"\n",
              "              title=\"Convert this dataframe to an interactive table.\"\n",
              "              style=\"display:none;\">\n",
              "        \n",
              "  <svg xmlns=\"http://www.w3.org/2000/svg\" height=\"24px\"viewBox=\"0 0 24 24\"\n",
              "       width=\"24px\">\n",
              "    <path d=\"M0 0h24v24H0V0z\" fill=\"none\"/>\n",
              "    <path d=\"M18.56 5.44l.94 2.06.94-2.06 2.06-.94-2.06-.94-.94-2.06-.94 2.06-2.06.94zm-11 1L8.5 8.5l.94-2.06 2.06-.94-2.06-.94L8.5 2.5l-.94 2.06-2.06.94zm10 10l.94 2.06.94-2.06 2.06-.94-2.06-.94-.94-2.06-.94 2.06-2.06.94z\"/><path d=\"M17.41 7.96l-1.37-1.37c-.4-.4-.92-.59-1.43-.59-.52 0-1.04.2-1.43.59L10.3 9.45l-7.72 7.72c-.78.78-.78 2.05 0 2.83L4 21.41c.39.39.9.59 1.41.59.51 0 1.02-.2 1.41-.59l7.78-7.78 2.81-2.81c.8-.78.8-2.07 0-2.86zM5.41 20L4 18.59l7.72-7.72 1.47 1.35L5.41 20z\"/>\n",
              "  </svg>\n",
              "      </button>\n",
              "      \n",
              "  <style>\n",
              "    .colab-df-container {\n",
              "      display:flex;\n",
              "      flex-wrap:wrap;\n",
              "      gap: 12px;\n",
              "    }\n",
              "\n",
              "    .colab-df-convert {\n",
              "      background-color: #E8F0FE;\n",
              "      border: none;\n",
              "      border-radius: 50%;\n",
              "      cursor: pointer;\n",
              "      display: none;\n",
              "      fill: #1967D2;\n",
              "      height: 32px;\n",
              "      padding: 0 0 0 0;\n",
              "      width: 32px;\n",
              "    }\n",
              "\n",
              "    .colab-df-convert:hover {\n",
              "      background-color: #E2EBFA;\n",
              "      box-shadow: 0px 1px 2px rgba(60, 64, 67, 0.3), 0px 1px 3px 1px rgba(60, 64, 67, 0.15);\n",
              "      fill: #174EA6;\n",
              "    }\n",
              "\n",
              "    [theme=dark] .colab-df-convert {\n",
              "      background-color: #3B4455;\n",
              "      fill: #D2E3FC;\n",
              "    }\n",
              "\n",
              "    [theme=dark] .colab-df-convert:hover {\n",
              "      background-color: #434B5C;\n",
              "      box-shadow: 0px 1px 3px 1px rgba(0, 0, 0, 0.15);\n",
              "      filter: drop-shadow(0px 1px 2px rgba(0, 0, 0, 0.3));\n",
              "      fill: #FFFFFF;\n",
              "    }\n",
              "  </style>\n",
              "\n",
              "      <script>\n",
              "        const buttonEl =\n",
              "          document.querySelector('#df-9f39fc80-cf27-45f2-a1d0-ab3e7048e403 button.colab-df-convert');\n",
              "        buttonEl.style.display =\n",
              "          google.colab.kernel.accessAllowed ? 'block' : 'none';\n",
              "\n",
              "        async function convertToInteractive(key) {\n",
              "          const element = document.querySelector('#df-9f39fc80-cf27-45f2-a1d0-ab3e7048e403');\n",
              "          const dataTable =\n",
              "            await google.colab.kernel.invokeFunction('convertToInteractive',\n",
              "                                                     [key], {});\n",
              "          if (!dataTable) return;\n",
              "\n",
              "          const docLinkHtml = 'Like what you see? Visit the ' +\n",
              "            '<a target=\"_blank\" href=https://colab.research.google.com/notebooks/data_table.ipynb>data table notebook</a>'\n",
              "            + ' to learn more about interactive tables.';\n",
              "          element.innerHTML = '';\n",
              "          dataTable['output_type'] = 'display_data';\n",
              "          await google.colab.output.renderOutput(dataTable, element);\n",
              "          const docLink = document.createElement('div');\n",
              "          docLink.innerHTML = docLinkHtml;\n",
              "          element.appendChild(docLink);\n",
              "        }\n",
              "      </script>\n",
              "    </div>\n",
              "  </div>\n",
              "  "
            ]
          },
          "metadata": {},
          "execution_count": 5
        }
      ],
      "source": [
        "df = pd.read_csv(\"/content/Data_TA.csv\")\n",
        "df.head()"
      ]
    },
    {
      "cell_type": "code",
      "execution_count": null,
      "metadata": {
        "execution": {
          "iopub.execute_input": "2022-09-16T11:59:55.312220Z",
          "iopub.status.busy": "2022-09-16T11:59:55.311612Z",
          "iopub.status.idle": "2022-09-16T11:59:55.316608Z",
          "shell.execute_reply": "2022-09-16T11:59:55.315504Z",
          "shell.execute_reply.started": "2022-09-16T11:59:55.312187Z"
        },
        "id": "hWd6cLaGvpX0"
      },
      "outputs": [],
      "source": [
        "import warnings\n",
        "\n",
        "warnings.filterwarnings('ignore')"
      ]
    },
    {
      "cell_type": "code",
      "execution_count": null,
      "metadata": {
        "execution": {
          "iopub.execute_input": "2022-09-16T11:59:55.319371Z",
          "iopub.status.busy": "2022-09-16T11:59:55.319048Z",
          "iopub.status.idle": "2022-09-16T11:59:55.329834Z",
          "shell.execute_reply": "2022-09-16T11:59:55.328936Z",
          "shell.execute_reply.started": "2022-09-16T11:59:55.319342Z"
        },
        "id": "64CGT2USvpX2",
        "colab": {
          "base_uri": "https://localhost:8080/"
        },
        "outputId": "b0cd5361-bfbd-4d9c-cebc-371681dd330b"
      },
      "outputs": [
        {
          "output_type": "stream",
          "name": "stdout",
          "text": [
            "Shape of Data is ==>  (4018, 9)\n"
          ]
        }
      ],
      "source": [
        "print(\"Shape of Data is ==> \",df.shape)"
      ]
    },
    {
      "cell_type": "code",
      "execution_count": null,
      "metadata": {
        "execution": {
          "iopub.execute_input": "2022-09-16T11:59:55.331944Z",
          "iopub.status.busy": "2022-09-16T11:59:55.331007Z",
          "iopub.status.idle": "2022-09-16T11:59:55.360388Z",
          "shell.execute_reply": "2022-09-16T11:59:55.359547Z",
          "shell.execute_reply.started": "2022-09-16T11:59:55.331913Z"
        },
        "id": "OEPw6CqsvpX5",
        "colab": {
          "base_uri": "https://localhost:8080/"
        },
        "outputId": "de24a86e-7b90-462c-cc36-315c8aaf8446"
      },
      "outputs": [
        {
          "output_type": "stream",
          "name": "stdout",
          "text": [
            "<class 'pandas.core.frame.DataFrame'>\n",
            "RangeIndex: 4018 entries, 0 to 4017\n",
            "Data columns (total 9 columns):\n",
            " #   Column           Non-Null Count  Dtype  \n",
            "---  ------           --------------  -----  \n",
            " 0   Tahun            4018 non-null   int64  \n",
            " 1   Bulan            4018 non-null   int64  \n",
            " 2   Hari             4018 non-null   int64  \n",
            " 3   Curah_hujan      4018 non-null   float64\n",
            " 4   Kelembaban       4018 non-null   float64\n",
            " 5   Suhu_maks        4018 non-null   float64\n",
            " 6   Suhu_min         4018 non-null   float64\n",
            " 7   Tekanan          4018 non-null   float64\n",
            " 8   Angin_permukaan  4018 non-null   float64\n",
            "dtypes: float64(6), int64(3)\n",
            "memory usage: 282.6 KB\n"
          ]
        }
      ],
      "source": [
        "df.info()"
      ]
    },
    {
      "cell_type": "code",
      "execution_count": null,
      "metadata": {
        "execution": {
          "iopub.execute_input": "2022-09-16T11:59:55.362401Z",
          "iopub.status.busy": "2022-09-16T11:59:55.361810Z",
          "iopub.status.idle": "2022-09-16T11:59:55.408853Z",
          "shell.execute_reply": "2022-09-16T11:59:55.407494Z",
          "shell.execute_reply.started": "2022-09-16T11:59:55.362370Z"
        },
        "id": "i4EqVnV_vpX7",
        "colab": {
          "base_uri": "https://localhost:8080/",
          "height": 332
        },
        "outputId": "41553b7f-61f8-4d9c-d84c-b62278e6eb9d"
      },
      "outputs": [
        {
          "output_type": "execute_result",
          "data": {
            "text/plain": [
              "                  count         mean        std      min        25%      50%  \\\n",
              "Tahun            4018.0  2016.000000   3.162750  2011.00  2013.0000  2016.00   \n",
              "Bulan            4018.0     6.522648   3.449210     1.00     4.0000     7.00   \n",
              "Hari             4018.0    15.730463   8.801536     1.00     8.0000    16.00   \n",
              "Curah_hujan      4018.0     6.998982  13.483487     0.00     0.4025     2.75   \n",
              "Kelembaban       4018.0    18.448203   0.879616    13.61    17.9400    18.49   \n",
              "Suhu_maks        4018.0    30.020543   1.355040    26.18    29.1900    30.03   \n",
              "Suhu_min         4018.0    23.168686   0.913762    19.31    22.6400    23.27   \n",
              "Tekanan          4018.0   100.557407   0.124478   100.12   100.4800   100.56   \n",
              "Angin_permukaan  4018.0     1.339333   0.443485     0.35     0.9900     1.30   \n",
              "\n",
              "                      75%      max  \n",
              "Tahun            2019.000  2021.00  \n",
              "Bulan              10.000    12.00  \n",
              "Hari               23.000    31.00  \n",
              "Curah_hujan         8.775   424.26  \n",
              "Kelembaban         19.040    21.42  \n",
              "Suhu_maks          30.780    37.29  \n",
              "Suhu_min           23.800    25.52  \n",
              "Tekanan           100.640   100.99  \n",
              "Angin_permukaan     1.660     2.73  "
            ],
            "text/html": [
              "\n",
              "  <div id=\"df-09700077-0afb-4bc6-a8fb-9928a20572c4\">\n",
              "    <div class=\"colab-df-container\">\n",
              "      <div>\n",
              "<style scoped>\n",
              "    .dataframe tbody tr th:only-of-type {\n",
              "        vertical-align: middle;\n",
              "    }\n",
              "\n",
              "    .dataframe tbody tr th {\n",
              "        vertical-align: top;\n",
              "    }\n",
              "\n",
              "    .dataframe thead th {\n",
              "        text-align: right;\n",
              "    }\n",
              "</style>\n",
              "<table border=\"1\" class=\"dataframe\">\n",
              "  <thead>\n",
              "    <tr style=\"text-align: right;\">\n",
              "      <th></th>\n",
              "      <th>count</th>\n",
              "      <th>mean</th>\n",
              "      <th>std</th>\n",
              "      <th>min</th>\n",
              "      <th>25%</th>\n",
              "      <th>50%</th>\n",
              "      <th>75%</th>\n",
              "      <th>max</th>\n",
              "    </tr>\n",
              "  </thead>\n",
              "  <tbody>\n",
              "    <tr>\n",
              "      <th>Tahun</th>\n",
              "      <td>4018.0</td>\n",
              "      <td>2016.000000</td>\n",
              "      <td>3.162750</td>\n",
              "      <td>2011.00</td>\n",
              "      <td>2013.0000</td>\n",
              "      <td>2016.00</td>\n",
              "      <td>2019.000</td>\n",
              "      <td>2021.00</td>\n",
              "    </tr>\n",
              "    <tr>\n",
              "      <th>Bulan</th>\n",
              "      <td>4018.0</td>\n",
              "      <td>6.522648</td>\n",
              "      <td>3.449210</td>\n",
              "      <td>1.00</td>\n",
              "      <td>4.0000</td>\n",
              "      <td>7.00</td>\n",
              "      <td>10.000</td>\n",
              "      <td>12.00</td>\n",
              "    </tr>\n",
              "    <tr>\n",
              "      <th>Hari</th>\n",
              "      <td>4018.0</td>\n",
              "      <td>15.730463</td>\n",
              "      <td>8.801536</td>\n",
              "      <td>1.00</td>\n",
              "      <td>8.0000</td>\n",
              "      <td>16.00</td>\n",
              "      <td>23.000</td>\n",
              "      <td>31.00</td>\n",
              "    </tr>\n",
              "    <tr>\n",
              "      <th>Curah_hujan</th>\n",
              "      <td>4018.0</td>\n",
              "      <td>6.998982</td>\n",
              "      <td>13.483487</td>\n",
              "      <td>0.00</td>\n",
              "      <td>0.4025</td>\n",
              "      <td>2.75</td>\n",
              "      <td>8.775</td>\n",
              "      <td>424.26</td>\n",
              "    </tr>\n",
              "    <tr>\n",
              "      <th>Kelembaban</th>\n",
              "      <td>4018.0</td>\n",
              "      <td>18.448203</td>\n",
              "      <td>0.879616</td>\n",
              "      <td>13.61</td>\n",
              "      <td>17.9400</td>\n",
              "      <td>18.49</td>\n",
              "      <td>19.040</td>\n",
              "      <td>21.42</td>\n",
              "    </tr>\n",
              "    <tr>\n",
              "      <th>Suhu_maks</th>\n",
              "      <td>4018.0</td>\n",
              "      <td>30.020543</td>\n",
              "      <td>1.355040</td>\n",
              "      <td>26.18</td>\n",
              "      <td>29.1900</td>\n",
              "      <td>30.03</td>\n",
              "      <td>30.780</td>\n",
              "      <td>37.29</td>\n",
              "    </tr>\n",
              "    <tr>\n",
              "      <th>Suhu_min</th>\n",
              "      <td>4018.0</td>\n",
              "      <td>23.168686</td>\n",
              "      <td>0.913762</td>\n",
              "      <td>19.31</td>\n",
              "      <td>22.6400</td>\n",
              "      <td>23.27</td>\n",
              "      <td>23.800</td>\n",
              "      <td>25.52</td>\n",
              "    </tr>\n",
              "    <tr>\n",
              "      <th>Tekanan</th>\n",
              "      <td>4018.0</td>\n",
              "      <td>100.557407</td>\n",
              "      <td>0.124478</td>\n",
              "      <td>100.12</td>\n",
              "      <td>100.4800</td>\n",
              "      <td>100.56</td>\n",
              "      <td>100.640</td>\n",
              "      <td>100.99</td>\n",
              "    </tr>\n",
              "    <tr>\n",
              "      <th>Angin_permukaan</th>\n",
              "      <td>4018.0</td>\n",
              "      <td>1.339333</td>\n",
              "      <td>0.443485</td>\n",
              "      <td>0.35</td>\n",
              "      <td>0.9900</td>\n",
              "      <td>1.30</td>\n",
              "      <td>1.660</td>\n",
              "      <td>2.73</td>\n",
              "    </tr>\n",
              "  </tbody>\n",
              "</table>\n",
              "</div>\n",
              "      <button class=\"colab-df-convert\" onclick=\"convertToInteractive('df-09700077-0afb-4bc6-a8fb-9928a20572c4')\"\n",
              "              title=\"Convert this dataframe to an interactive table.\"\n",
              "              style=\"display:none;\">\n",
              "        \n",
              "  <svg xmlns=\"http://www.w3.org/2000/svg\" height=\"24px\"viewBox=\"0 0 24 24\"\n",
              "       width=\"24px\">\n",
              "    <path d=\"M0 0h24v24H0V0z\" fill=\"none\"/>\n",
              "    <path d=\"M18.56 5.44l.94 2.06.94-2.06 2.06-.94-2.06-.94-.94-2.06-.94 2.06-2.06.94zm-11 1L8.5 8.5l.94-2.06 2.06-.94-2.06-.94L8.5 2.5l-.94 2.06-2.06.94zm10 10l.94 2.06.94-2.06 2.06-.94-2.06-.94-.94-2.06-.94 2.06-2.06.94z\"/><path d=\"M17.41 7.96l-1.37-1.37c-.4-.4-.92-.59-1.43-.59-.52 0-1.04.2-1.43.59L10.3 9.45l-7.72 7.72c-.78.78-.78 2.05 0 2.83L4 21.41c.39.39.9.59 1.41.59.51 0 1.02-.2 1.41-.59l7.78-7.78 2.81-2.81c.8-.78.8-2.07 0-2.86zM5.41 20L4 18.59l7.72-7.72 1.47 1.35L5.41 20z\"/>\n",
              "  </svg>\n",
              "      </button>\n",
              "      \n",
              "  <style>\n",
              "    .colab-df-container {\n",
              "      display:flex;\n",
              "      flex-wrap:wrap;\n",
              "      gap: 12px;\n",
              "    }\n",
              "\n",
              "    .colab-df-convert {\n",
              "      background-color: #E8F0FE;\n",
              "      border: none;\n",
              "      border-radius: 50%;\n",
              "      cursor: pointer;\n",
              "      display: none;\n",
              "      fill: #1967D2;\n",
              "      height: 32px;\n",
              "      padding: 0 0 0 0;\n",
              "      width: 32px;\n",
              "    }\n",
              "\n",
              "    .colab-df-convert:hover {\n",
              "      background-color: #E2EBFA;\n",
              "      box-shadow: 0px 1px 2px rgba(60, 64, 67, 0.3), 0px 1px 3px 1px rgba(60, 64, 67, 0.15);\n",
              "      fill: #174EA6;\n",
              "    }\n",
              "\n",
              "    [theme=dark] .colab-df-convert {\n",
              "      background-color: #3B4455;\n",
              "      fill: #D2E3FC;\n",
              "    }\n",
              "\n",
              "    [theme=dark] .colab-df-convert:hover {\n",
              "      background-color: #434B5C;\n",
              "      box-shadow: 0px 1px 3px 1px rgba(0, 0, 0, 0.15);\n",
              "      filter: drop-shadow(0px 1px 2px rgba(0, 0, 0, 0.3));\n",
              "      fill: #FFFFFF;\n",
              "    }\n",
              "  </style>\n",
              "\n",
              "      <script>\n",
              "        const buttonEl =\n",
              "          document.querySelector('#df-09700077-0afb-4bc6-a8fb-9928a20572c4 button.colab-df-convert');\n",
              "        buttonEl.style.display =\n",
              "          google.colab.kernel.accessAllowed ? 'block' : 'none';\n",
              "\n",
              "        async function convertToInteractive(key) {\n",
              "          const element = document.querySelector('#df-09700077-0afb-4bc6-a8fb-9928a20572c4');\n",
              "          const dataTable =\n",
              "            await google.colab.kernel.invokeFunction('convertToInteractive',\n",
              "                                                     [key], {});\n",
              "          if (!dataTable) return;\n",
              "\n",
              "          const docLinkHtml = 'Like what you see? Visit the ' +\n",
              "            '<a target=\"_blank\" href=https://colab.research.google.com/notebooks/data_table.ipynb>data table notebook</a>'\n",
              "            + ' to learn more about interactive tables.';\n",
              "          element.innerHTML = '';\n",
              "          dataTable['output_type'] = 'display_data';\n",
              "          await google.colab.output.renderOutput(dataTable, element);\n",
              "          const docLink = document.createElement('div');\n",
              "          docLink.innerHTML = docLinkHtml;\n",
              "          element.appendChild(docLink);\n",
              "        }\n",
              "      </script>\n",
              "    </div>\n",
              "  </div>\n",
              "  "
            ]
          },
          "metadata": {},
          "execution_count": 9
        }
      ],
      "source": [
        "df.describe().T"
      ]
    },
    {
      "cell_type": "code",
      "execution_count": null,
      "metadata": {
        "execution": {
          "iopub.execute_input": "2022-09-16T11:59:55.411616Z",
          "iopub.status.busy": "2022-09-16T11:59:55.410514Z",
          "iopub.status.idle": "2022-09-16T11:59:55.420173Z",
          "shell.execute_reply": "2022-09-16T11:59:55.419268Z",
          "shell.execute_reply.started": "2022-09-16T11:59:55.411551Z"
        },
        "id": "KKWB6SiDvpX9",
        "colab": {
          "base_uri": "https://localhost:8080/"
        },
        "outputId": "c502ec7c-694b-4a4b-e017-1907794d7d76"
      },
      "outputs": [
        {
          "output_type": "execute_result",
          "data": {
            "text/plain": [
              "Tahun                int64\n",
              "Bulan                int64\n",
              "Hari                 int64\n",
              "Curah_hujan        float64\n",
              "Kelembaban         float64\n",
              "Suhu_maks          float64\n",
              "Suhu_min           float64\n",
              "Tekanan            float64\n",
              "Angin_permukaan    float64\n",
              "dtype: object"
            ]
          },
          "metadata": {},
          "execution_count": 10
        }
      ],
      "source": [
        "df.dtypes"
      ]
    },
    {
      "cell_type": "code",
      "execution_count": null,
      "metadata": {
        "execution": {
          "iopub.execute_input": "2022-09-16T11:59:55.422692Z",
          "iopub.status.busy": "2022-09-16T11:59:55.421901Z",
          "iopub.status.idle": "2022-09-16T11:59:55.448317Z",
          "shell.execute_reply": "2022-09-16T11:59:55.446787Z",
          "shell.execute_reply.started": "2022-09-16T11:59:55.422649Z"
        },
        "id": "4ZYkblLhvpX-",
        "colab": {
          "base_uri": "https://localhost:8080/"
        },
        "outputId": "6293480f-d7c1-4122-c1e6-ca69f1ef79bc"
      },
      "outputs": [
        {
          "output_type": "execute_result",
          "data": {
            "text/plain": [
              "Tahun              0\n",
              "Bulan              0\n",
              "Hari               0\n",
              "Curah_hujan        0\n",
              "Kelembaban         0\n",
              "Suhu_maks          0\n",
              "Suhu_min           0\n",
              "Tekanan            0\n",
              "Angin_permukaan    0\n",
              "dtype: int64"
            ]
          },
          "metadata": {},
          "execution_count": 11
        }
      ],
      "source": [
        "df.isnull().sum()"
      ]
    },
    {
      "cell_type": "code",
      "execution_count": null,
      "metadata": {
        "execution": {
          "iopub.execute_input": "2022-09-16T11:59:55.451207Z",
          "iopub.status.busy": "2022-09-16T11:59:55.449739Z",
          "iopub.status.idle": "2022-09-16T11:59:55.486008Z",
          "shell.execute_reply": "2022-09-16T11:59:55.484672Z",
          "shell.execute_reply.started": "2022-09-16T11:59:55.451158Z"
        },
        "id": "LTy8WRvLvpX_",
        "colab": {
          "base_uri": "https://localhost:8080/",
          "height": 424
        },
        "outputId": "c6b88779-224e-435f-f438-246e826176c3"
      },
      "outputs": [
        {
          "output_type": "execute_result",
          "data": {
            "text/plain": [
              "      Tahun  Bulan  Hari  Curah_hujan  Kelembaban  Suhu_maks  Suhu_min  \\\n",
              "0      2011      1     1         0.92       18.62      28.19     23.41   \n",
              "1      2011      1     2         2.80       18.55      28.96     23.23   \n",
              "2      2011      1     3         7.22       17.88      28.03     23.23   \n",
              "3      2011      1     4        14.05       18.07      27.65     22.26   \n",
              "4      2011      1     5        12.97       18.25      28.69     22.56   \n",
              "...     ...    ...   ...          ...         ...        ...       ...   \n",
              "4013   2021     12    27        12.31       19.04      29.05     23.92   \n",
              "4014   2021     12    28         1.77       19.04      28.31     23.78   \n",
              "4015   2021     12    29         0.32       18.74      28.95     23.32   \n",
              "4016   2021     12    30         1.97       19.23      30.69     22.70   \n",
              "4017   2021     12    31        25.58       19.47      28.76     23.97   \n",
              "\n",
              "      Tekanan  Angin_permukaan Label Curah Hujan  \n",
              "0      100.26             1.52             Hujan  \n",
              "1      100.32             1.42             Hujan  \n",
              "2      100.38             1.15             Hujan  \n",
              "3      100.32             1.82             Hujan  \n",
              "4      100.26             2.02             Hujan  \n",
              "...       ...              ...               ...  \n",
              "4013   100.70             1.12             Hujan  \n",
              "4014   100.63             1.44             Hujan  \n",
              "4015   100.60             1.08       Tidak Hujan  \n",
              "4016   100.55             1.27             Hujan  \n",
              "4017   100.57             1.32             Hujan  \n",
              "\n",
              "[4018 rows x 10 columns]"
            ],
            "text/html": [
              "\n",
              "  <div id=\"df-49b3c655-e69c-4027-99b9-c47a1fe90124\">\n",
              "    <div class=\"colab-df-container\">\n",
              "      <div>\n",
              "<style scoped>\n",
              "    .dataframe tbody tr th:only-of-type {\n",
              "        vertical-align: middle;\n",
              "    }\n",
              "\n",
              "    .dataframe tbody tr th {\n",
              "        vertical-align: top;\n",
              "    }\n",
              "\n",
              "    .dataframe thead th {\n",
              "        text-align: right;\n",
              "    }\n",
              "</style>\n",
              "<table border=\"1\" class=\"dataframe\">\n",
              "  <thead>\n",
              "    <tr style=\"text-align: right;\">\n",
              "      <th></th>\n",
              "      <th>Tahun</th>\n",
              "      <th>Bulan</th>\n",
              "      <th>Hari</th>\n",
              "      <th>Curah_hujan</th>\n",
              "      <th>Kelembaban</th>\n",
              "      <th>Suhu_maks</th>\n",
              "      <th>Suhu_min</th>\n",
              "      <th>Tekanan</th>\n",
              "      <th>Angin_permukaan</th>\n",
              "      <th>Label Curah Hujan</th>\n",
              "    </tr>\n",
              "  </thead>\n",
              "  <tbody>\n",
              "    <tr>\n",
              "      <th>0</th>\n",
              "      <td>2011</td>\n",
              "      <td>1</td>\n",
              "      <td>1</td>\n",
              "      <td>0.92</td>\n",
              "      <td>18.62</td>\n",
              "      <td>28.19</td>\n",
              "      <td>23.41</td>\n",
              "      <td>100.26</td>\n",
              "      <td>1.52</td>\n",
              "      <td>Hujan</td>\n",
              "    </tr>\n",
              "    <tr>\n",
              "      <th>1</th>\n",
              "      <td>2011</td>\n",
              "      <td>1</td>\n",
              "      <td>2</td>\n",
              "      <td>2.80</td>\n",
              "      <td>18.55</td>\n",
              "      <td>28.96</td>\n",
              "      <td>23.23</td>\n",
              "      <td>100.32</td>\n",
              "      <td>1.42</td>\n",
              "      <td>Hujan</td>\n",
              "    </tr>\n",
              "    <tr>\n",
              "      <th>2</th>\n",
              "      <td>2011</td>\n",
              "      <td>1</td>\n",
              "      <td>3</td>\n",
              "      <td>7.22</td>\n",
              "      <td>17.88</td>\n",
              "      <td>28.03</td>\n",
              "      <td>23.23</td>\n",
              "      <td>100.38</td>\n",
              "      <td>1.15</td>\n",
              "      <td>Hujan</td>\n",
              "    </tr>\n",
              "    <tr>\n",
              "      <th>3</th>\n",
              "      <td>2011</td>\n",
              "      <td>1</td>\n",
              "      <td>4</td>\n",
              "      <td>14.05</td>\n",
              "      <td>18.07</td>\n",
              "      <td>27.65</td>\n",
              "      <td>22.26</td>\n",
              "      <td>100.32</td>\n",
              "      <td>1.82</td>\n",
              "      <td>Hujan</td>\n",
              "    </tr>\n",
              "    <tr>\n",
              "      <th>4</th>\n",
              "      <td>2011</td>\n",
              "      <td>1</td>\n",
              "      <td>5</td>\n",
              "      <td>12.97</td>\n",
              "      <td>18.25</td>\n",
              "      <td>28.69</td>\n",
              "      <td>22.56</td>\n",
              "      <td>100.26</td>\n",
              "      <td>2.02</td>\n",
              "      <td>Hujan</td>\n",
              "    </tr>\n",
              "    <tr>\n",
              "      <th>...</th>\n",
              "      <td>...</td>\n",
              "      <td>...</td>\n",
              "      <td>...</td>\n",
              "      <td>...</td>\n",
              "      <td>...</td>\n",
              "      <td>...</td>\n",
              "      <td>...</td>\n",
              "      <td>...</td>\n",
              "      <td>...</td>\n",
              "      <td>...</td>\n",
              "    </tr>\n",
              "    <tr>\n",
              "      <th>4013</th>\n",
              "      <td>2021</td>\n",
              "      <td>12</td>\n",
              "      <td>27</td>\n",
              "      <td>12.31</td>\n",
              "      <td>19.04</td>\n",
              "      <td>29.05</td>\n",
              "      <td>23.92</td>\n",
              "      <td>100.70</td>\n",
              "      <td>1.12</td>\n",
              "      <td>Hujan</td>\n",
              "    </tr>\n",
              "    <tr>\n",
              "      <th>4014</th>\n",
              "      <td>2021</td>\n",
              "      <td>12</td>\n",
              "      <td>28</td>\n",
              "      <td>1.77</td>\n",
              "      <td>19.04</td>\n",
              "      <td>28.31</td>\n",
              "      <td>23.78</td>\n",
              "      <td>100.63</td>\n",
              "      <td>1.44</td>\n",
              "      <td>Hujan</td>\n",
              "    </tr>\n",
              "    <tr>\n",
              "      <th>4015</th>\n",
              "      <td>2021</td>\n",
              "      <td>12</td>\n",
              "      <td>29</td>\n",
              "      <td>0.32</td>\n",
              "      <td>18.74</td>\n",
              "      <td>28.95</td>\n",
              "      <td>23.32</td>\n",
              "      <td>100.60</td>\n",
              "      <td>1.08</td>\n",
              "      <td>Tidak Hujan</td>\n",
              "    </tr>\n",
              "    <tr>\n",
              "      <th>4016</th>\n",
              "      <td>2021</td>\n",
              "      <td>12</td>\n",
              "      <td>30</td>\n",
              "      <td>1.97</td>\n",
              "      <td>19.23</td>\n",
              "      <td>30.69</td>\n",
              "      <td>22.70</td>\n",
              "      <td>100.55</td>\n",
              "      <td>1.27</td>\n",
              "      <td>Hujan</td>\n",
              "    </tr>\n",
              "    <tr>\n",
              "      <th>4017</th>\n",
              "      <td>2021</td>\n",
              "      <td>12</td>\n",
              "      <td>31</td>\n",
              "      <td>25.58</td>\n",
              "      <td>19.47</td>\n",
              "      <td>28.76</td>\n",
              "      <td>23.97</td>\n",
              "      <td>100.57</td>\n",
              "      <td>1.32</td>\n",
              "      <td>Hujan</td>\n",
              "    </tr>\n",
              "  </tbody>\n",
              "</table>\n",
              "<p>4018 rows × 10 columns</p>\n",
              "</div>\n",
              "      <button class=\"colab-df-convert\" onclick=\"convertToInteractive('df-49b3c655-e69c-4027-99b9-c47a1fe90124')\"\n",
              "              title=\"Convert this dataframe to an interactive table.\"\n",
              "              style=\"display:none;\">\n",
              "        \n",
              "  <svg xmlns=\"http://www.w3.org/2000/svg\" height=\"24px\"viewBox=\"0 0 24 24\"\n",
              "       width=\"24px\">\n",
              "    <path d=\"M0 0h24v24H0V0z\" fill=\"none\"/>\n",
              "    <path d=\"M18.56 5.44l.94 2.06.94-2.06 2.06-.94-2.06-.94-.94-2.06-.94 2.06-2.06.94zm-11 1L8.5 8.5l.94-2.06 2.06-.94-2.06-.94L8.5 2.5l-.94 2.06-2.06.94zm10 10l.94 2.06.94-2.06 2.06-.94-2.06-.94-.94-2.06-.94 2.06-2.06.94z\"/><path d=\"M17.41 7.96l-1.37-1.37c-.4-.4-.92-.59-1.43-.59-.52 0-1.04.2-1.43.59L10.3 9.45l-7.72 7.72c-.78.78-.78 2.05 0 2.83L4 21.41c.39.39.9.59 1.41.59.51 0 1.02-.2 1.41-.59l7.78-7.78 2.81-2.81c.8-.78.8-2.07 0-2.86zM5.41 20L4 18.59l7.72-7.72 1.47 1.35L5.41 20z\"/>\n",
              "  </svg>\n",
              "      </button>\n",
              "      \n",
              "  <style>\n",
              "    .colab-df-container {\n",
              "      display:flex;\n",
              "      flex-wrap:wrap;\n",
              "      gap: 12px;\n",
              "    }\n",
              "\n",
              "    .colab-df-convert {\n",
              "      background-color: #E8F0FE;\n",
              "      border: none;\n",
              "      border-radius: 50%;\n",
              "      cursor: pointer;\n",
              "      display: none;\n",
              "      fill: #1967D2;\n",
              "      height: 32px;\n",
              "      padding: 0 0 0 0;\n",
              "      width: 32px;\n",
              "    }\n",
              "\n",
              "    .colab-df-convert:hover {\n",
              "      background-color: #E2EBFA;\n",
              "      box-shadow: 0px 1px 2px rgba(60, 64, 67, 0.3), 0px 1px 3px 1px rgba(60, 64, 67, 0.15);\n",
              "      fill: #174EA6;\n",
              "    }\n",
              "\n",
              "    [theme=dark] .colab-df-convert {\n",
              "      background-color: #3B4455;\n",
              "      fill: #D2E3FC;\n",
              "    }\n",
              "\n",
              "    [theme=dark] .colab-df-convert:hover {\n",
              "      background-color: #434B5C;\n",
              "      box-shadow: 0px 1px 3px 1px rgba(0, 0, 0, 0.15);\n",
              "      filter: drop-shadow(0px 1px 2px rgba(0, 0, 0, 0.3));\n",
              "      fill: #FFFFFF;\n",
              "    }\n",
              "  </style>\n",
              "\n",
              "      <script>\n",
              "        const buttonEl =\n",
              "          document.querySelector('#df-49b3c655-e69c-4027-99b9-c47a1fe90124 button.colab-df-convert');\n",
              "        buttonEl.style.display =\n",
              "          google.colab.kernel.accessAllowed ? 'block' : 'none';\n",
              "\n",
              "        async function convertToInteractive(key) {\n",
              "          const element = document.querySelector('#df-49b3c655-e69c-4027-99b9-c47a1fe90124');\n",
              "          const dataTable =\n",
              "            await google.colab.kernel.invokeFunction('convertToInteractive',\n",
              "                                                     [key], {});\n",
              "          if (!dataTable) return;\n",
              "\n",
              "          const docLinkHtml = 'Like what you see? Visit the ' +\n",
              "            '<a target=\"_blank\" href=https://colab.research.google.com/notebooks/data_table.ipynb>data table notebook</a>'\n",
              "            + ' to learn more about interactive tables.';\n",
              "          element.innerHTML = '';\n",
              "          dataTable['output_type'] = 'display_data';\n",
              "          await google.colab.output.renderOutput(dataTable, element);\n",
              "          const docLink = document.createElement('div');\n",
              "          docLink.innerHTML = docLinkHtml;\n",
              "          element.appendChild(docLink);\n",
              "        }\n",
              "      </script>\n",
              "    </div>\n",
              "  </div>\n",
              "  "
            ]
          },
          "metadata": {},
          "execution_count": 12
        }
      ],
      "source": [
        "df1 = pd.DataFrame ((df),\n",
        "columns = ['Curah_hujan'])\n",
        "df.loc [df1['Curah_hujan'] < 0.5, 'Label Curah Hujan'] = 'Tidak Hujan'\n",
        "df.loc [df1['Curah_hujan'] >= 0.5, 'Label Curah Hujan'] = 'Hujan'\n",
        "df"
      ]
    },
    {
      "cell_type": "code",
      "execution_count": null,
      "metadata": {
        "execution": {
          "iopub.execute_input": "2022-09-16T11:59:55.491559Z",
          "iopub.status.busy": "2022-09-16T11:59:55.491112Z",
          "iopub.status.idle": "2022-09-16T11:59:55.502341Z",
          "shell.execute_reply": "2022-09-16T11:59:55.501050Z",
          "shell.execute_reply.started": "2022-09-16T11:59:55.491516Z"
        },
        "id": "-WpCKUcuvpYC",
        "colab": {
          "base_uri": "https://localhost:8080/"
        },
        "outputId": "a380e54e-3c7a-466d-87bf-22073947c73a"
      },
      "outputs": [
        {
          "output_type": "execute_result",
          "data": {
            "text/plain": [
              "Hujan          2940\n",
              "Tidak Hujan    1078\n",
              "Name: Label Curah Hujan, dtype: int64"
            ]
          },
          "metadata": {},
          "execution_count": 13
        }
      ],
      "source": [
        "df['Label Curah Hujan'].value_counts()"
      ]
    },
    {
      "cell_type": "code",
      "execution_count": null,
      "metadata": {
        "execution": {
          "iopub.execute_input": "2022-09-16T11:59:55.504496Z",
          "iopub.status.busy": "2022-09-16T11:59:55.504019Z",
          "iopub.status.idle": "2022-09-16T11:59:55.515026Z",
          "shell.execute_reply": "2022-09-16T11:59:55.514280Z",
          "shell.execute_reply.started": "2022-09-16T11:59:55.504454Z"
        },
        "id": "GzHnnJDjvpYE",
        "colab": {
          "base_uri": "https://localhost:8080/"
        },
        "outputId": "9108ef46-729e-497b-836c-61304e1e12eb"
      },
      "outputs": [
        {
          "output_type": "stream",
          "name": "stdout",
          "text": [
            "Tahun\n",
            "Bulan\n",
            "Hari\n",
            "Curah_hujan\n",
            "Kelembaban\n",
            "Suhu_maks\n",
            "Suhu_min\n",
            "Tekanan\n",
            "Angin_permukaan\n",
            "Label Curah Hujan\n"
          ]
        }
      ],
      "source": [
        "for i in df.columns:\n",
        "    print(i)"
      ]
    },
    {
      "cell_type": "code",
      "execution_count": null,
      "metadata": {
        "execution": {
          "iopub.execute_input": "2022-09-16T11:59:55.516396Z",
          "iopub.status.busy": "2022-09-16T11:59:55.515984Z",
          "iopub.status.idle": "2022-09-16T11:59:55.533104Z",
          "shell.execute_reply": "2022-09-16T11:59:55.531892Z",
          "shell.execute_reply.started": "2022-09-16T11:59:55.516363Z"
        },
        "id": "IZXF_neCvpYF"
      },
      "outputs": [],
      "source": [
        "df.drop(['Tahun'],axis = 1,inplace=True)\n",
        "df.drop('Bulan',axis = 1,inplace=True)\n",
        "df.drop('Hari',axis = 1,inplace=True)\n",
        "df.drop('Curah_hujan',axis = 1,inplace=True)"
      ]
    },
    {
      "cell_type": "code",
      "execution_count": null,
      "metadata": {
        "execution": {
          "iopub.execute_input": "2022-09-16T11:59:55.535717Z",
          "iopub.status.busy": "2022-09-16T11:59:55.534835Z",
          "iopub.status.idle": "2022-09-16T11:59:55.543810Z",
          "shell.execute_reply": "2022-09-16T11:59:55.542480Z",
          "shell.execute_reply.started": "2022-09-16T11:59:55.535672Z"
        },
        "id": "1fdtS69nvpYG",
        "colab": {
          "base_uri": "https://localhost:8080/"
        },
        "outputId": "ce02d569-0260-4714-d1ed-4075996b2fe2"
      },
      "outputs": [
        {
          "output_type": "execute_result",
          "data": {
            "text/plain": [
              "(4018, 6)"
            ]
          },
          "metadata": {},
          "execution_count": 16
        }
      ],
      "source": [
        "df.shape"
      ]
    },
    {
      "cell_type": "code",
      "execution_count": null,
      "metadata": {
        "execution": {
          "iopub.execute_input": "2022-09-16T11:59:55.546480Z",
          "iopub.status.busy": "2022-09-16T11:59:55.545260Z",
          "iopub.status.idle": "2022-09-16T11:59:55.563505Z",
          "shell.execute_reply": "2022-09-16T11:59:55.562005Z",
          "shell.execute_reply.started": "2022-09-16T11:59:55.546425Z"
        },
        "id": "xHMucTARvpYH",
        "colab": {
          "base_uri": "https://localhost:8080/"
        },
        "outputId": "b1f9ed42-72d0-47f1-8f6f-47ef3f5c4adc"
      },
      "outputs": [
        {
          "output_type": "stream",
          "name": "stdout",
          "text": [
            "<class 'pandas.core.frame.DataFrame'>\n",
            "RangeIndex: 4018 entries, 0 to 4017\n",
            "Data columns (total 6 columns):\n",
            " #   Column             Non-Null Count  Dtype  \n",
            "---  ------             --------------  -----  \n",
            " 0   Kelembaban         4018 non-null   float64\n",
            " 1   Suhu_maks          4018 non-null   float64\n",
            " 2   Suhu_min           4018 non-null   float64\n",
            " 3   Tekanan            4018 non-null   float64\n",
            " 4   Angin_permukaan    4018 non-null   float64\n",
            " 5   Label Curah Hujan  4018 non-null   object \n",
            "dtypes: float64(5), object(1)\n",
            "memory usage: 188.5+ KB\n"
          ]
        }
      ],
      "source": [
        "df.info()"
      ]
    },
    {
      "cell_type": "code",
      "execution_count": null,
      "metadata": {
        "execution": {
          "iopub.execute_input": "2022-09-16T11:59:55.566224Z",
          "iopub.status.busy": "2022-09-16T11:59:55.565141Z",
          "iopub.status.idle": "2022-09-16T11:59:55.595037Z",
          "shell.execute_reply": "2022-09-16T11:59:55.593803Z",
          "shell.execute_reply.started": "2022-09-16T11:59:55.566178Z"
        },
        "id": "5jl2ns3CvpYK",
        "colab": {
          "base_uri": "https://localhost:8080/",
          "height": 424
        },
        "outputId": "7f5b4036-efe2-4827-f6c3-4f38aa7e151c"
      },
      "outputs": [
        {
          "output_type": "execute_result",
          "data": {
            "text/plain": [
              "      Kelembaban  Suhu_maks  Suhu_min  Tekanan  Angin_permukaan  \\\n",
              "0          18.62      28.19     23.41   100.26             1.52   \n",
              "1          18.55      28.96     23.23   100.32             1.42   \n",
              "2          17.88      28.03     23.23   100.38             1.15   \n",
              "3          18.07      27.65     22.26   100.32             1.82   \n",
              "4          18.25      28.69     22.56   100.26             2.02   \n",
              "...          ...        ...       ...      ...              ...   \n",
              "4013       19.04      29.05     23.92   100.70             1.12   \n",
              "4014       19.04      28.31     23.78   100.63             1.44   \n",
              "4015       18.74      28.95     23.32   100.60             1.08   \n",
              "4016       19.23      30.69     22.70   100.55             1.27   \n",
              "4017       19.47      28.76     23.97   100.57             1.32   \n",
              "\n",
              "      Label Curah Hujan  \n",
              "0                     1  \n",
              "1                     1  \n",
              "2                     1  \n",
              "3                     1  \n",
              "4                     1  \n",
              "...                 ...  \n",
              "4013                  1  \n",
              "4014                  1  \n",
              "4015                  0  \n",
              "4016                  1  \n",
              "4017                  1  \n",
              "\n",
              "[4018 rows x 6 columns]"
            ],
            "text/html": [
              "\n",
              "  <div id=\"df-07558c1e-2972-41df-b16d-b09143438971\">\n",
              "    <div class=\"colab-df-container\">\n",
              "      <div>\n",
              "<style scoped>\n",
              "    .dataframe tbody tr th:only-of-type {\n",
              "        vertical-align: middle;\n",
              "    }\n",
              "\n",
              "    .dataframe tbody tr th {\n",
              "        vertical-align: top;\n",
              "    }\n",
              "\n",
              "    .dataframe thead th {\n",
              "        text-align: right;\n",
              "    }\n",
              "</style>\n",
              "<table border=\"1\" class=\"dataframe\">\n",
              "  <thead>\n",
              "    <tr style=\"text-align: right;\">\n",
              "      <th></th>\n",
              "      <th>Kelembaban</th>\n",
              "      <th>Suhu_maks</th>\n",
              "      <th>Suhu_min</th>\n",
              "      <th>Tekanan</th>\n",
              "      <th>Angin_permukaan</th>\n",
              "      <th>Label Curah Hujan</th>\n",
              "    </tr>\n",
              "  </thead>\n",
              "  <tbody>\n",
              "    <tr>\n",
              "      <th>0</th>\n",
              "      <td>18.62</td>\n",
              "      <td>28.19</td>\n",
              "      <td>23.41</td>\n",
              "      <td>100.26</td>\n",
              "      <td>1.52</td>\n",
              "      <td>1</td>\n",
              "    </tr>\n",
              "    <tr>\n",
              "      <th>1</th>\n",
              "      <td>18.55</td>\n",
              "      <td>28.96</td>\n",
              "      <td>23.23</td>\n",
              "      <td>100.32</td>\n",
              "      <td>1.42</td>\n",
              "      <td>1</td>\n",
              "    </tr>\n",
              "    <tr>\n",
              "      <th>2</th>\n",
              "      <td>17.88</td>\n",
              "      <td>28.03</td>\n",
              "      <td>23.23</td>\n",
              "      <td>100.38</td>\n",
              "      <td>1.15</td>\n",
              "      <td>1</td>\n",
              "    </tr>\n",
              "    <tr>\n",
              "      <th>3</th>\n",
              "      <td>18.07</td>\n",
              "      <td>27.65</td>\n",
              "      <td>22.26</td>\n",
              "      <td>100.32</td>\n",
              "      <td>1.82</td>\n",
              "      <td>1</td>\n",
              "    </tr>\n",
              "    <tr>\n",
              "      <th>4</th>\n",
              "      <td>18.25</td>\n",
              "      <td>28.69</td>\n",
              "      <td>22.56</td>\n",
              "      <td>100.26</td>\n",
              "      <td>2.02</td>\n",
              "      <td>1</td>\n",
              "    </tr>\n",
              "    <tr>\n",
              "      <th>...</th>\n",
              "      <td>...</td>\n",
              "      <td>...</td>\n",
              "      <td>...</td>\n",
              "      <td>...</td>\n",
              "      <td>...</td>\n",
              "      <td>...</td>\n",
              "    </tr>\n",
              "    <tr>\n",
              "      <th>4013</th>\n",
              "      <td>19.04</td>\n",
              "      <td>29.05</td>\n",
              "      <td>23.92</td>\n",
              "      <td>100.70</td>\n",
              "      <td>1.12</td>\n",
              "      <td>1</td>\n",
              "    </tr>\n",
              "    <tr>\n",
              "      <th>4014</th>\n",
              "      <td>19.04</td>\n",
              "      <td>28.31</td>\n",
              "      <td>23.78</td>\n",
              "      <td>100.63</td>\n",
              "      <td>1.44</td>\n",
              "      <td>1</td>\n",
              "    </tr>\n",
              "    <tr>\n",
              "      <th>4015</th>\n",
              "      <td>18.74</td>\n",
              "      <td>28.95</td>\n",
              "      <td>23.32</td>\n",
              "      <td>100.60</td>\n",
              "      <td>1.08</td>\n",
              "      <td>0</td>\n",
              "    </tr>\n",
              "    <tr>\n",
              "      <th>4016</th>\n",
              "      <td>19.23</td>\n",
              "      <td>30.69</td>\n",
              "      <td>22.70</td>\n",
              "      <td>100.55</td>\n",
              "      <td>1.27</td>\n",
              "      <td>1</td>\n",
              "    </tr>\n",
              "    <tr>\n",
              "      <th>4017</th>\n",
              "      <td>19.47</td>\n",
              "      <td>28.76</td>\n",
              "      <td>23.97</td>\n",
              "      <td>100.57</td>\n",
              "      <td>1.32</td>\n",
              "      <td>1</td>\n",
              "    </tr>\n",
              "  </tbody>\n",
              "</table>\n",
              "<p>4018 rows × 6 columns</p>\n",
              "</div>\n",
              "      <button class=\"colab-df-convert\" onclick=\"convertToInteractive('df-07558c1e-2972-41df-b16d-b09143438971')\"\n",
              "              title=\"Convert this dataframe to an interactive table.\"\n",
              "              style=\"display:none;\">\n",
              "        \n",
              "  <svg xmlns=\"http://www.w3.org/2000/svg\" height=\"24px\"viewBox=\"0 0 24 24\"\n",
              "       width=\"24px\">\n",
              "    <path d=\"M0 0h24v24H0V0z\" fill=\"none\"/>\n",
              "    <path d=\"M18.56 5.44l.94 2.06.94-2.06 2.06-.94-2.06-.94-.94-2.06-.94 2.06-2.06.94zm-11 1L8.5 8.5l.94-2.06 2.06-.94-2.06-.94L8.5 2.5l-.94 2.06-2.06.94zm10 10l.94 2.06.94-2.06 2.06-.94-2.06-.94-.94-2.06-.94 2.06-2.06.94z\"/><path d=\"M17.41 7.96l-1.37-1.37c-.4-.4-.92-.59-1.43-.59-.52 0-1.04.2-1.43.59L10.3 9.45l-7.72 7.72c-.78.78-.78 2.05 0 2.83L4 21.41c.39.39.9.59 1.41.59.51 0 1.02-.2 1.41-.59l7.78-7.78 2.81-2.81c.8-.78.8-2.07 0-2.86zM5.41 20L4 18.59l7.72-7.72 1.47 1.35L5.41 20z\"/>\n",
              "  </svg>\n",
              "      </button>\n",
              "      \n",
              "  <style>\n",
              "    .colab-df-container {\n",
              "      display:flex;\n",
              "      flex-wrap:wrap;\n",
              "      gap: 12px;\n",
              "    }\n",
              "\n",
              "    .colab-df-convert {\n",
              "      background-color: #E8F0FE;\n",
              "      border: none;\n",
              "      border-radius: 50%;\n",
              "      cursor: pointer;\n",
              "      display: none;\n",
              "      fill: #1967D2;\n",
              "      height: 32px;\n",
              "      padding: 0 0 0 0;\n",
              "      width: 32px;\n",
              "    }\n",
              "\n",
              "    .colab-df-convert:hover {\n",
              "      background-color: #E2EBFA;\n",
              "      box-shadow: 0px 1px 2px rgba(60, 64, 67, 0.3), 0px 1px 3px 1px rgba(60, 64, 67, 0.15);\n",
              "      fill: #174EA6;\n",
              "    }\n",
              "\n",
              "    [theme=dark] .colab-df-convert {\n",
              "      background-color: #3B4455;\n",
              "      fill: #D2E3FC;\n",
              "    }\n",
              "\n",
              "    [theme=dark] .colab-df-convert:hover {\n",
              "      background-color: #434B5C;\n",
              "      box-shadow: 0px 1px 3px 1px rgba(0, 0, 0, 0.15);\n",
              "      filter: drop-shadow(0px 1px 2px rgba(0, 0, 0, 0.3));\n",
              "      fill: #FFFFFF;\n",
              "    }\n",
              "  </style>\n",
              "\n",
              "      <script>\n",
              "        const buttonEl =\n",
              "          document.querySelector('#df-07558c1e-2972-41df-b16d-b09143438971 button.colab-df-convert');\n",
              "        buttonEl.style.display =\n",
              "          google.colab.kernel.accessAllowed ? 'block' : 'none';\n",
              "\n",
              "        async function convertToInteractive(key) {\n",
              "          const element = document.querySelector('#df-07558c1e-2972-41df-b16d-b09143438971');\n",
              "          const dataTable =\n",
              "            await google.colab.kernel.invokeFunction('convertToInteractive',\n",
              "                                                     [key], {});\n",
              "          if (!dataTable) return;\n",
              "\n",
              "          const docLinkHtml = 'Like what you see? Visit the ' +\n",
              "            '<a target=\"_blank\" href=https://colab.research.google.com/notebooks/data_table.ipynb>data table notebook</a>'\n",
              "            + ' to learn more about interactive tables.';\n",
              "          element.innerHTML = '';\n",
              "          dataTable['output_type'] = 'display_data';\n",
              "          await google.colab.output.renderOutput(dataTable, element);\n",
              "          const docLink = document.createElement('div');\n",
              "          docLink.innerHTML = docLinkHtml;\n",
              "          element.appendChild(docLink);\n",
              "        }\n",
              "      </script>\n",
              "    </div>\n",
              "  </div>\n",
              "  "
            ]
          },
          "metadata": {},
          "execution_count": 18
        }
      ],
      "source": [
        "df['Label Curah Hujan'].replace({'Tidak Hujan': 0, 'Hujan': 1},inplace = True)\n",
        "df"
      ]
    },
    {
      "cell_type": "code",
      "execution_count": null,
      "metadata": {
        "execution": {
          "iopub.execute_input": "2022-09-16T11:59:55.597541Z",
          "iopub.status.busy": "2022-09-16T11:59:55.596417Z",
          "iopub.status.idle": "2022-09-16T11:59:55.604525Z",
          "shell.execute_reply": "2022-09-16T11:59:55.603395Z",
          "shell.execute_reply.started": "2022-09-16T11:59:55.597493Z"
        },
        "id": "1CjcBNUGvpYL"
      },
      "outputs": [],
      "source": [
        "df['Label Curah Hujan']=df['Label Curah Hujan'].astype('category')"
      ]
    },
    {
      "cell_type": "code",
      "execution_count": null,
      "metadata": {
        "execution": {
          "iopub.execute_input": "2022-09-16T11:59:55.607283Z",
          "iopub.status.busy": "2022-09-16T11:59:55.606097Z",
          "iopub.status.idle": "2022-09-16T11:59:55.628163Z",
          "shell.execute_reply": "2022-09-16T11:59:55.627183Z",
          "shell.execute_reply.started": "2022-09-16T11:59:55.607239Z"
        },
        "id": "9DNBiA7BvpYN",
        "colab": {
          "base_uri": "https://localhost:8080/"
        },
        "outputId": "fb44d3df-3cd7-421f-d060-d9d7a3372bee"
      },
      "outputs": [
        {
          "output_type": "stream",
          "name": "stdout",
          "text": [
            "<class 'pandas.core.frame.DataFrame'>\n",
            "RangeIndex: 4018 entries, 0 to 4017\n",
            "Data columns (total 6 columns):\n",
            " #   Column             Non-Null Count  Dtype   \n",
            "---  ------             --------------  -----   \n",
            " 0   Kelembaban         4018 non-null   float64 \n",
            " 1   Suhu_maks          4018 non-null   float64 \n",
            " 2   Suhu_min           4018 non-null   float64 \n",
            " 3   Tekanan            4018 non-null   float64 \n",
            " 4   Angin_permukaan    4018 non-null   float64 \n",
            " 5   Label Curah Hujan  4018 non-null   category\n",
            "dtypes: category(1), float64(5)\n",
            "memory usage: 161.1 KB\n"
          ]
        }
      ],
      "source": [
        "df.info()"
      ]
    },
    {
      "cell_type": "code",
      "execution_count": null,
      "metadata": {
        "execution": {
          "iopub.execute_input": "2022-09-16T11:59:55.630288Z",
          "iopub.status.busy": "2022-09-16T11:59:55.629567Z",
          "iopub.status.idle": "2022-09-16T11:59:55.649947Z",
          "shell.execute_reply": "2022-09-16T11:59:55.648682Z",
          "shell.execute_reply.started": "2022-09-16T11:59:55.630242Z"
        },
        "id": "vCSipZoBvpYO",
        "colab": {
          "base_uri": "https://localhost:8080/",
          "height": 206
        },
        "outputId": "e9253ba2-88f0-42e3-d986-a84f34fa2c49"
      },
      "outputs": [
        {
          "output_type": "execute_result",
          "data": {
            "text/plain": [
              "   Kelembaban  Suhu_maks  Suhu_min  Tekanan  Angin_permukaan Label Curah Hujan\n",
              "0       18.62      28.19     23.41   100.26             1.52                 1\n",
              "1       18.55      28.96     23.23   100.32             1.42                 1\n",
              "2       17.88      28.03     23.23   100.38             1.15                 1\n",
              "3       18.07      27.65     22.26   100.32             1.82                 1\n",
              "4       18.25      28.69     22.56   100.26             2.02                 1"
            ],
            "text/html": [
              "\n",
              "  <div id=\"df-dadd02ec-c1d8-4aa6-890d-62b573bfa90c\">\n",
              "    <div class=\"colab-df-container\">\n",
              "      <div>\n",
              "<style scoped>\n",
              "    .dataframe tbody tr th:only-of-type {\n",
              "        vertical-align: middle;\n",
              "    }\n",
              "\n",
              "    .dataframe tbody tr th {\n",
              "        vertical-align: top;\n",
              "    }\n",
              "\n",
              "    .dataframe thead th {\n",
              "        text-align: right;\n",
              "    }\n",
              "</style>\n",
              "<table border=\"1\" class=\"dataframe\">\n",
              "  <thead>\n",
              "    <tr style=\"text-align: right;\">\n",
              "      <th></th>\n",
              "      <th>Kelembaban</th>\n",
              "      <th>Suhu_maks</th>\n",
              "      <th>Suhu_min</th>\n",
              "      <th>Tekanan</th>\n",
              "      <th>Angin_permukaan</th>\n",
              "      <th>Label Curah Hujan</th>\n",
              "    </tr>\n",
              "  </thead>\n",
              "  <tbody>\n",
              "    <tr>\n",
              "      <th>0</th>\n",
              "      <td>18.62</td>\n",
              "      <td>28.19</td>\n",
              "      <td>23.41</td>\n",
              "      <td>100.26</td>\n",
              "      <td>1.52</td>\n",
              "      <td>1</td>\n",
              "    </tr>\n",
              "    <tr>\n",
              "      <th>1</th>\n",
              "      <td>18.55</td>\n",
              "      <td>28.96</td>\n",
              "      <td>23.23</td>\n",
              "      <td>100.32</td>\n",
              "      <td>1.42</td>\n",
              "      <td>1</td>\n",
              "    </tr>\n",
              "    <tr>\n",
              "      <th>2</th>\n",
              "      <td>17.88</td>\n",
              "      <td>28.03</td>\n",
              "      <td>23.23</td>\n",
              "      <td>100.38</td>\n",
              "      <td>1.15</td>\n",
              "      <td>1</td>\n",
              "    </tr>\n",
              "    <tr>\n",
              "      <th>3</th>\n",
              "      <td>18.07</td>\n",
              "      <td>27.65</td>\n",
              "      <td>22.26</td>\n",
              "      <td>100.32</td>\n",
              "      <td>1.82</td>\n",
              "      <td>1</td>\n",
              "    </tr>\n",
              "    <tr>\n",
              "      <th>4</th>\n",
              "      <td>18.25</td>\n",
              "      <td>28.69</td>\n",
              "      <td>22.56</td>\n",
              "      <td>100.26</td>\n",
              "      <td>2.02</td>\n",
              "      <td>1</td>\n",
              "    </tr>\n",
              "  </tbody>\n",
              "</table>\n",
              "</div>\n",
              "      <button class=\"colab-df-convert\" onclick=\"convertToInteractive('df-dadd02ec-c1d8-4aa6-890d-62b573bfa90c')\"\n",
              "              title=\"Convert this dataframe to an interactive table.\"\n",
              "              style=\"display:none;\">\n",
              "        \n",
              "  <svg xmlns=\"http://www.w3.org/2000/svg\" height=\"24px\"viewBox=\"0 0 24 24\"\n",
              "       width=\"24px\">\n",
              "    <path d=\"M0 0h24v24H0V0z\" fill=\"none\"/>\n",
              "    <path d=\"M18.56 5.44l.94 2.06.94-2.06 2.06-.94-2.06-.94-.94-2.06-.94 2.06-2.06.94zm-11 1L8.5 8.5l.94-2.06 2.06-.94-2.06-.94L8.5 2.5l-.94 2.06-2.06.94zm10 10l.94 2.06.94-2.06 2.06-.94-2.06-.94-.94-2.06-.94 2.06-2.06.94z\"/><path d=\"M17.41 7.96l-1.37-1.37c-.4-.4-.92-.59-1.43-.59-.52 0-1.04.2-1.43.59L10.3 9.45l-7.72 7.72c-.78.78-.78 2.05 0 2.83L4 21.41c.39.39.9.59 1.41.59.51 0 1.02-.2 1.41-.59l7.78-7.78 2.81-2.81c.8-.78.8-2.07 0-2.86zM5.41 20L4 18.59l7.72-7.72 1.47 1.35L5.41 20z\"/>\n",
              "  </svg>\n",
              "      </button>\n",
              "      \n",
              "  <style>\n",
              "    .colab-df-container {\n",
              "      display:flex;\n",
              "      flex-wrap:wrap;\n",
              "      gap: 12px;\n",
              "    }\n",
              "\n",
              "    .colab-df-convert {\n",
              "      background-color: #E8F0FE;\n",
              "      border: none;\n",
              "      border-radius: 50%;\n",
              "      cursor: pointer;\n",
              "      display: none;\n",
              "      fill: #1967D2;\n",
              "      height: 32px;\n",
              "      padding: 0 0 0 0;\n",
              "      width: 32px;\n",
              "    }\n",
              "\n",
              "    .colab-df-convert:hover {\n",
              "      background-color: #E2EBFA;\n",
              "      box-shadow: 0px 1px 2px rgba(60, 64, 67, 0.3), 0px 1px 3px 1px rgba(60, 64, 67, 0.15);\n",
              "      fill: #174EA6;\n",
              "    }\n",
              "\n",
              "    [theme=dark] .colab-df-convert {\n",
              "      background-color: #3B4455;\n",
              "      fill: #D2E3FC;\n",
              "    }\n",
              "\n",
              "    [theme=dark] .colab-df-convert:hover {\n",
              "      background-color: #434B5C;\n",
              "      box-shadow: 0px 1px 3px 1px rgba(0, 0, 0, 0.15);\n",
              "      filter: drop-shadow(0px 1px 2px rgba(0, 0, 0, 0.3));\n",
              "      fill: #FFFFFF;\n",
              "    }\n",
              "  </style>\n",
              "\n",
              "      <script>\n",
              "        const buttonEl =\n",
              "          document.querySelector('#df-dadd02ec-c1d8-4aa6-890d-62b573bfa90c button.colab-df-convert');\n",
              "        buttonEl.style.display =\n",
              "          google.colab.kernel.accessAllowed ? 'block' : 'none';\n",
              "\n",
              "        async function convertToInteractive(key) {\n",
              "          const element = document.querySelector('#df-dadd02ec-c1d8-4aa6-890d-62b573bfa90c');\n",
              "          const dataTable =\n",
              "            await google.colab.kernel.invokeFunction('convertToInteractive',\n",
              "                                                     [key], {});\n",
              "          if (!dataTable) return;\n",
              "\n",
              "          const docLinkHtml = 'Like what you see? Visit the ' +\n",
              "            '<a target=\"_blank\" href=https://colab.research.google.com/notebooks/data_table.ipynb>data table notebook</a>'\n",
              "            + ' to learn more about interactive tables.';\n",
              "          element.innerHTML = '';\n",
              "          dataTable['output_type'] = 'display_data';\n",
              "          await google.colab.output.renderOutput(dataTable, element);\n",
              "          const docLink = document.createElement('div');\n",
              "          docLink.innerHTML = docLinkHtml;\n",
              "          element.appendChild(docLink);\n",
              "        }\n",
              "      </script>\n",
              "    </div>\n",
              "  </div>\n",
              "  "
            ]
          },
          "metadata": {},
          "execution_count": 21
        }
      ],
      "source": [
        "df.head()"
      ]
    },
    {
      "cell_type": "code",
      "execution_count": null,
      "metadata": {
        "execution": {
          "iopub.execute_input": "2022-09-16T11:59:55.652737Z",
          "iopub.status.busy": "2022-09-16T11:59:55.651888Z",
          "iopub.status.idle": "2022-09-16T11:59:55.660537Z",
          "shell.execute_reply": "2022-09-16T11:59:55.659468Z",
          "shell.execute_reply.started": "2022-09-16T11:59:55.652689Z"
        },
        "id": "OmALPNk1vpYQ"
      },
      "outputs": [],
      "source": [
        "X = df.drop(['Label Curah Hujan'], axis=1)\n",
        "y = df[['Label Curah Hujan']]"
      ]
    },
    {
      "cell_type": "code",
      "execution_count": null,
      "metadata": {
        "execution": {
          "iopub.execute_input": "2022-09-16T11:59:55.663109Z",
          "iopub.status.busy": "2022-09-16T11:59:55.662374Z",
          "iopub.status.idle": "2022-09-16T11:59:55.681050Z",
          "shell.execute_reply": "2022-09-16T11:59:55.679834Z",
          "shell.execute_reply.started": "2022-09-16T11:59:55.663057Z"
        },
        "id": "hb1yYEUuvpYT",
        "colab": {
          "base_uri": "https://localhost:8080/",
          "height": 206
        },
        "outputId": "0e5c99f2-b0fd-4612-c061-c9830adb223c"
      },
      "outputs": [
        {
          "output_type": "execute_result",
          "data": {
            "text/plain": [
              "   Kelembaban  Suhu_maks  Suhu_min  Tekanan  Angin_permukaan\n",
              "0       18.62      28.19     23.41   100.26             1.52\n",
              "1       18.55      28.96     23.23   100.32             1.42\n",
              "2       17.88      28.03     23.23   100.38             1.15\n",
              "3       18.07      27.65     22.26   100.32             1.82\n",
              "4       18.25      28.69     22.56   100.26             2.02"
            ],
            "text/html": [
              "\n",
              "  <div id=\"df-2fc647d0-75b0-442a-afb7-ef883b2181ae\">\n",
              "    <div class=\"colab-df-container\">\n",
              "      <div>\n",
              "<style scoped>\n",
              "    .dataframe tbody tr th:only-of-type {\n",
              "        vertical-align: middle;\n",
              "    }\n",
              "\n",
              "    .dataframe tbody tr th {\n",
              "        vertical-align: top;\n",
              "    }\n",
              "\n",
              "    .dataframe thead th {\n",
              "        text-align: right;\n",
              "    }\n",
              "</style>\n",
              "<table border=\"1\" class=\"dataframe\">\n",
              "  <thead>\n",
              "    <tr style=\"text-align: right;\">\n",
              "      <th></th>\n",
              "      <th>Kelembaban</th>\n",
              "      <th>Suhu_maks</th>\n",
              "      <th>Suhu_min</th>\n",
              "      <th>Tekanan</th>\n",
              "      <th>Angin_permukaan</th>\n",
              "    </tr>\n",
              "  </thead>\n",
              "  <tbody>\n",
              "    <tr>\n",
              "      <th>0</th>\n",
              "      <td>18.62</td>\n",
              "      <td>28.19</td>\n",
              "      <td>23.41</td>\n",
              "      <td>100.26</td>\n",
              "      <td>1.52</td>\n",
              "    </tr>\n",
              "    <tr>\n",
              "      <th>1</th>\n",
              "      <td>18.55</td>\n",
              "      <td>28.96</td>\n",
              "      <td>23.23</td>\n",
              "      <td>100.32</td>\n",
              "      <td>1.42</td>\n",
              "    </tr>\n",
              "    <tr>\n",
              "      <th>2</th>\n",
              "      <td>17.88</td>\n",
              "      <td>28.03</td>\n",
              "      <td>23.23</td>\n",
              "      <td>100.38</td>\n",
              "      <td>1.15</td>\n",
              "    </tr>\n",
              "    <tr>\n",
              "      <th>3</th>\n",
              "      <td>18.07</td>\n",
              "      <td>27.65</td>\n",
              "      <td>22.26</td>\n",
              "      <td>100.32</td>\n",
              "      <td>1.82</td>\n",
              "    </tr>\n",
              "    <tr>\n",
              "      <th>4</th>\n",
              "      <td>18.25</td>\n",
              "      <td>28.69</td>\n",
              "      <td>22.56</td>\n",
              "      <td>100.26</td>\n",
              "      <td>2.02</td>\n",
              "    </tr>\n",
              "  </tbody>\n",
              "</table>\n",
              "</div>\n",
              "      <button class=\"colab-df-convert\" onclick=\"convertToInteractive('df-2fc647d0-75b0-442a-afb7-ef883b2181ae')\"\n",
              "              title=\"Convert this dataframe to an interactive table.\"\n",
              "              style=\"display:none;\">\n",
              "        \n",
              "  <svg xmlns=\"http://www.w3.org/2000/svg\" height=\"24px\"viewBox=\"0 0 24 24\"\n",
              "       width=\"24px\">\n",
              "    <path d=\"M0 0h24v24H0V0z\" fill=\"none\"/>\n",
              "    <path d=\"M18.56 5.44l.94 2.06.94-2.06 2.06-.94-2.06-.94-.94-2.06-.94 2.06-2.06.94zm-11 1L8.5 8.5l.94-2.06 2.06-.94-2.06-.94L8.5 2.5l-.94 2.06-2.06.94zm10 10l.94 2.06.94-2.06 2.06-.94-2.06-.94-.94-2.06-.94 2.06-2.06.94z\"/><path d=\"M17.41 7.96l-1.37-1.37c-.4-.4-.92-.59-1.43-.59-.52 0-1.04.2-1.43.59L10.3 9.45l-7.72 7.72c-.78.78-.78 2.05 0 2.83L4 21.41c.39.39.9.59 1.41.59.51 0 1.02-.2 1.41-.59l7.78-7.78 2.81-2.81c.8-.78.8-2.07 0-2.86zM5.41 20L4 18.59l7.72-7.72 1.47 1.35L5.41 20z\"/>\n",
              "  </svg>\n",
              "      </button>\n",
              "      \n",
              "  <style>\n",
              "    .colab-df-container {\n",
              "      display:flex;\n",
              "      flex-wrap:wrap;\n",
              "      gap: 12px;\n",
              "    }\n",
              "\n",
              "    .colab-df-convert {\n",
              "      background-color: #E8F0FE;\n",
              "      border: none;\n",
              "      border-radius: 50%;\n",
              "      cursor: pointer;\n",
              "      display: none;\n",
              "      fill: #1967D2;\n",
              "      height: 32px;\n",
              "      padding: 0 0 0 0;\n",
              "      width: 32px;\n",
              "    }\n",
              "\n",
              "    .colab-df-convert:hover {\n",
              "      background-color: #E2EBFA;\n",
              "      box-shadow: 0px 1px 2px rgba(60, 64, 67, 0.3), 0px 1px 3px 1px rgba(60, 64, 67, 0.15);\n",
              "      fill: #174EA6;\n",
              "    }\n",
              "\n",
              "    [theme=dark] .colab-df-convert {\n",
              "      background-color: #3B4455;\n",
              "      fill: #D2E3FC;\n",
              "    }\n",
              "\n",
              "    [theme=dark] .colab-df-convert:hover {\n",
              "      background-color: #434B5C;\n",
              "      box-shadow: 0px 1px 3px 1px rgba(0, 0, 0, 0.15);\n",
              "      filter: drop-shadow(0px 1px 2px rgba(0, 0, 0, 0.3));\n",
              "      fill: #FFFFFF;\n",
              "    }\n",
              "  </style>\n",
              "\n",
              "      <script>\n",
              "        const buttonEl =\n",
              "          document.querySelector('#df-2fc647d0-75b0-442a-afb7-ef883b2181ae button.colab-df-convert');\n",
              "        buttonEl.style.display =\n",
              "          google.colab.kernel.accessAllowed ? 'block' : 'none';\n",
              "\n",
              "        async function convertToInteractive(key) {\n",
              "          const element = document.querySelector('#df-2fc647d0-75b0-442a-afb7-ef883b2181ae');\n",
              "          const dataTable =\n",
              "            await google.colab.kernel.invokeFunction('convertToInteractive',\n",
              "                                                     [key], {});\n",
              "          if (!dataTable) return;\n",
              "\n",
              "          const docLinkHtml = 'Like what you see? Visit the ' +\n",
              "            '<a target=\"_blank\" href=https://colab.research.google.com/notebooks/data_table.ipynb>data table notebook</a>'\n",
              "            + ' to learn more about interactive tables.';\n",
              "          element.innerHTML = '';\n",
              "          dataTable['output_type'] = 'display_data';\n",
              "          await google.colab.output.renderOutput(dataTable, element);\n",
              "          const docLink = document.createElement('div');\n",
              "          docLink.innerHTML = docLinkHtml;\n",
              "          element.appendChild(docLink);\n",
              "        }\n",
              "      </script>\n",
              "    </div>\n",
              "  </div>\n",
              "  "
            ]
          },
          "metadata": {},
          "execution_count": 23
        }
      ],
      "source": [
        "X.head()"
      ]
    },
    {
      "cell_type": "code",
      "execution_count": null,
      "metadata": {
        "execution": {
          "iopub.execute_input": "2022-09-16T11:59:55.683278Z",
          "iopub.status.busy": "2022-09-16T11:59:55.682563Z",
          "iopub.status.idle": "2022-09-16T11:59:55.693774Z",
          "shell.execute_reply": "2022-09-16T11:59:55.692480Z",
          "shell.execute_reply.started": "2022-09-16T11:59:55.683234Z"
        },
        "id": "U6vWG9D5vpYU",
        "colab": {
          "base_uri": "https://localhost:8080/",
          "height": 206
        },
        "outputId": "05e5c040-3de5-40b1-dcd9-44cc00717ca5"
      },
      "outputs": [
        {
          "output_type": "execute_result",
          "data": {
            "text/plain": [
              "  Label Curah Hujan\n",
              "0                 1\n",
              "1                 1\n",
              "2                 1\n",
              "3                 1\n",
              "4                 1"
            ],
            "text/html": [
              "\n",
              "  <div id=\"df-d2951c14-e9f9-465c-9dd5-178cbac2c0ba\">\n",
              "    <div class=\"colab-df-container\">\n",
              "      <div>\n",
              "<style scoped>\n",
              "    .dataframe tbody tr th:only-of-type {\n",
              "        vertical-align: middle;\n",
              "    }\n",
              "\n",
              "    .dataframe tbody tr th {\n",
              "        vertical-align: top;\n",
              "    }\n",
              "\n",
              "    .dataframe thead th {\n",
              "        text-align: right;\n",
              "    }\n",
              "</style>\n",
              "<table border=\"1\" class=\"dataframe\">\n",
              "  <thead>\n",
              "    <tr style=\"text-align: right;\">\n",
              "      <th></th>\n",
              "      <th>Label Curah Hujan</th>\n",
              "    </tr>\n",
              "  </thead>\n",
              "  <tbody>\n",
              "    <tr>\n",
              "      <th>0</th>\n",
              "      <td>1</td>\n",
              "    </tr>\n",
              "    <tr>\n",
              "      <th>1</th>\n",
              "      <td>1</td>\n",
              "    </tr>\n",
              "    <tr>\n",
              "      <th>2</th>\n",
              "      <td>1</td>\n",
              "    </tr>\n",
              "    <tr>\n",
              "      <th>3</th>\n",
              "      <td>1</td>\n",
              "    </tr>\n",
              "    <tr>\n",
              "      <th>4</th>\n",
              "      <td>1</td>\n",
              "    </tr>\n",
              "  </tbody>\n",
              "</table>\n",
              "</div>\n",
              "      <button class=\"colab-df-convert\" onclick=\"convertToInteractive('df-d2951c14-e9f9-465c-9dd5-178cbac2c0ba')\"\n",
              "              title=\"Convert this dataframe to an interactive table.\"\n",
              "              style=\"display:none;\">\n",
              "        \n",
              "  <svg xmlns=\"http://www.w3.org/2000/svg\" height=\"24px\"viewBox=\"0 0 24 24\"\n",
              "       width=\"24px\">\n",
              "    <path d=\"M0 0h24v24H0V0z\" fill=\"none\"/>\n",
              "    <path d=\"M18.56 5.44l.94 2.06.94-2.06 2.06-.94-2.06-.94-.94-2.06-.94 2.06-2.06.94zm-11 1L8.5 8.5l.94-2.06 2.06-.94-2.06-.94L8.5 2.5l-.94 2.06-2.06.94zm10 10l.94 2.06.94-2.06 2.06-.94-2.06-.94-.94-2.06-.94 2.06-2.06.94z\"/><path d=\"M17.41 7.96l-1.37-1.37c-.4-.4-.92-.59-1.43-.59-.52 0-1.04.2-1.43.59L10.3 9.45l-7.72 7.72c-.78.78-.78 2.05 0 2.83L4 21.41c.39.39.9.59 1.41.59.51 0 1.02-.2 1.41-.59l7.78-7.78 2.81-2.81c.8-.78.8-2.07 0-2.86zM5.41 20L4 18.59l7.72-7.72 1.47 1.35L5.41 20z\"/>\n",
              "  </svg>\n",
              "      </button>\n",
              "      \n",
              "  <style>\n",
              "    .colab-df-container {\n",
              "      display:flex;\n",
              "      flex-wrap:wrap;\n",
              "      gap: 12px;\n",
              "    }\n",
              "\n",
              "    .colab-df-convert {\n",
              "      background-color: #E8F0FE;\n",
              "      border: none;\n",
              "      border-radius: 50%;\n",
              "      cursor: pointer;\n",
              "      display: none;\n",
              "      fill: #1967D2;\n",
              "      height: 32px;\n",
              "      padding: 0 0 0 0;\n",
              "      width: 32px;\n",
              "    }\n",
              "\n",
              "    .colab-df-convert:hover {\n",
              "      background-color: #E2EBFA;\n",
              "      box-shadow: 0px 1px 2px rgba(60, 64, 67, 0.3), 0px 1px 3px 1px rgba(60, 64, 67, 0.15);\n",
              "      fill: #174EA6;\n",
              "    }\n",
              "\n",
              "    [theme=dark] .colab-df-convert {\n",
              "      background-color: #3B4455;\n",
              "      fill: #D2E3FC;\n",
              "    }\n",
              "\n",
              "    [theme=dark] .colab-df-convert:hover {\n",
              "      background-color: #434B5C;\n",
              "      box-shadow: 0px 1px 3px 1px rgba(0, 0, 0, 0.15);\n",
              "      filter: drop-shadow(0px 1px 2px rgba(0, 0, 0, 0.3));\n",
              "      fill: #FFFFFF;\n",
              "    }\n",
              "  </style>\n",
              "\n",
              "      <script>\n",
              "        const buttonEl =\n",
              "          document.querySelector('#df-d2951c14-e9f9-465c-9dd5-178cbac2c0ba button.colab-df-convert');\n",
              "        buttonEl.style.display =\n",
              "          google.colab.kernel.accessAllowed ? 'block' : 'none';\n",
              "\n",
              "        async function convertToInteractive(key) {\n",
              "          const element = document.querySelector('#df-d2951c14-e9f9-465c-9dd5-178cbac2c0ba');\n",
              "          const dataTable =\n",
              "            await google.colab.kernel.invokeFunction('convertToInteractive',\n",
              "                                                     [key], {});\n",
              "          if (!dataTable) return;\n",
              "\n",
              "          const docLinkHtml = 'Like what you see? Visit the ' +\n",
              "            '<a target=\"_blank\" href=https://colab.research.google.com/notebooks/data_table.ipynb>data table notebook</a>'\n",
              "            + ' to learn more about interactive tables.';\n",
              "          element.innerHTML = '';\n",
              "          dataTable['output_type'] = 'display_data';\n",
              "          await google.colab.output.renderOutput(dataTable, element);\n",
              "          const docLink = document.createElement('div');\n",
              "          docLink.innerHTML = docLinkHtml;\n",
              "          element.appendChild(docLink);\n",
              "        }\n",
              "      </script>\n",
              "    </div>\n",
              "  </div>\n",
              "  "
            ]
          },
          "metadata": {},
          "execution_count": 24
        }
      ],
      "source": [
        "y.head()"
      ]
    },
    {
      "cell_type": "code",
      "execution_count": null,
      "metadata": {
        "execution": {
          "iopub.execute_input": "2022-09-16T11:59:55.695501Z",
          "iopub.status.busy": "2022-09-16T11:59:55.695151Z",
          "iopub.status.idle": "2022-09-16T11:59:55.935546Z",
          "shell.execute_reply": "2022-09-16T11:59:55.934398Z",
          "shell.execute_reply.started": "2022-09-16T11:59:55.695470Z"
        },
        "id": "hltqjLARvpYV",
        "colab": {
          "base_uri": "https://localhost:8080/"
        },
        "outputId": "7476913c-aea9-49e3-e246-971ec32835f1"
      },
      "outputs": [
        {
          "output_type": "stream",
          "name": "stdout",
          "text": [
            "Jumlah Data X_train =  (2611, 5)\n",
            "Jumlah Data Y_train =  (2611, 1)\n",
            "Jumlah Data X_test =  (1407, 5)\n",
            "Jumlah Data Y_test =  (1407, 1)\n"
          ]
        }
      ],
      "source": [
        "from sklearn.model_selection import train_test_split\n",
        "X_train, X_test, y_train, y_test = train_test_split(X, y, test_size=0.35, shuffle=False) \n",
        "print(\"Jumlah Data X_train = \",X_train.shape)\n",
        "print(\"Jumlah Data Y_train = \",y_train.shape)\n",
        "print(\"Jumlah Data X_test = \",X_test.shape)\n",
        "print(\"Jumlah Data Y_test = \",y_test.shape)"
      ]
    },
    {
      "cell_type": "code",
      "source": [
        "from sklearn.neighbors import KNeighborsClassifier\n",
        "from sklearn.metrics import accuracy_score\n",
        "from sklearn.metrics import confusion_matrix\n",
        "from sklearn.metrics import classification_report\n",
        "import matplotlib.pyplot as plt\n",
        "import seaborn as sns\n",
        "import mglearn\n",
        "from IPython.display import display"
      ],
      "metadata": {
        "id": "1l2ANDnYielm"
      },
      "execution_count": null,
      "outputs": []
    },
    {
      "cell_type": "code",
      "execution_count": null,
      "metadata": {
        "execution": {
          "iopub.execute_input": "2022-09-16T11:59:55.938237Z",
          "iopub.status.busy": "2022-09-16T11:59:55.937188Z",
          "iopub.status.idle": "2022-09-16T11:59:56.112366Z",
          "shell.execute_reply": "2022-09-16T11:59:56.111067Z",
          "shell.execute_reply.started": "2022-09-16T11:59:55.938193Z"
        },
        "id": "F5v1CW3lvpYX",
        "colab": {
          "base_uri": "https://localhost:8080/"
        },
        "outputId": "3d660442-846d-45fa-c81f-2203420b185a"
      },
      "outputs": [
        {
          "output_type": "execute_result",
          "data": {
            "text/plain": [
              "KNeighborsClassifier(n_neighbors=7)"
            ]
          },
          "metadata": {},
          "execution_count": 27
        }
      ],
      "source": [
        "KnnModel = KNeighborsClassifier(n_neighbors=7, weights='uniform')\n",
        "\n",
        "KnnModel.fit(X_train, y_train)"
      ]
    },
    {
      "cell_type": "code",
      "execution_count": null,
      "metadata": {
        "id": "mNexvJvovpY0",
        "colab": {
          "base_uri": "https://localhost:8080/",
          "height": 265
        },
        "outputId": "286b9362-07bd-4bdb-f53b-055fdfdb4061"
      },
      "outputs": [
        {
          "output_type": "display_data",
          "data": {
            "text/plain": [
              "<Figure size 432x288 with 1 Axes>"
            ],
            "image/png": "[encoded data removed]"
          },
          "metadata": {
            "needs_background": "light"
          }
        }
      ],
      "source": [
        "X,y=mglearn.datasets.make_forge()\n",
        "knn=mglearn.plots.plot_knn_classification(n_neighbors=7)\n",
        "knn"
      ]
    },
    {
      "cell_type": "code",
      "execution_count": null,
      "metadata": {
        "execution": {
          "iopub.execute_input": "2022-09-16T11:59:56.116402Z",
          "iopub.status.busy": "2022-09-16T11:59:56.116046Z",
          "iopub.status.idle": "2022-09-16T11:59:56.172660Z",
          "shell.execute_reply": "2022-09-16T11:59:56.171452Z",
          "shell.execute_reply.started": "2022-09-16T11:59:56.116364Z"
        },
        "id": "W0QmmZltvpYb",
        "colab": {
          "base_uri": "https://localhost:8080/"
        },
        "outputId": "faaa5c80-0a27-4110-bd7d-24e4b609c9c2"
      },
      "outputs": [
        {
          "output_type": "stream",
          "name": "stdout",
          "text": [
            "accuracy : 0.8024164889836531\n"
          ]
        }
      ],
      "source": [
        "y_pred = KnnModel.predict(X_test)\n",
        "score = accuracy_score(y_test,y_pred)\n",
        "print('accuracy :',score)"
      ]
    },
    {
      "cell_type": "code",
      "execution_count": null,
      "metadata": {
        "execution": {
          "iopub.execute_input": "2022-09-16T11:59:56.174252Z",
          "iopub.status.busy": "2022-09-16T11:59:56.173901Z",
          "iopub.status.idle": "2022-09-16T11:59:56.340358Z",
          "shell.execute_reply": "2022-09-16T11:59:56.338894Z",
          "shell.execute_reply.started": "2022-09-16T11:59:56.174221Z"
        },
        "id": "CgQfmO_7vpYe",
        "colab": {
          "base_uri": "https://localhost:8080/"
        },
        "outputId": "fa3e3863-e7a6-48d9-ceec-fc27f7f43b30"
      },
      "outputs": [
        {
          "output_type": "stream",
          "name": "stdout",
          "text": [
            "Training set score: 0.8349\n",
            "Test set score: 0.8024\n"
          ]
        }
      ],
      "source": [
        "print('Training set score: {:.4f}'.format(KnnModel.score(X_train, y_train)))\n",
        "\n",
        "print('Test set score: {:.4f}'.format(KnnModel.score(X_test, y_test)))"
      ]
    },
    {
      "cell_type": "code",
      "execution_count": null,
      "metadata": {
        "execution": {
          "iopub.execute_input": "2022-09-16T11:59:56.343411Z",
          "iopub.status.busy": "2022-09-16T11:59:56.342524Z",
          "iopub.status.idle": "2022-09-16T11:59:56.358943Z",
          "shell.execute_reply": "2022-09-16T11:59:56.357386Z",
          "shell.execute_reply.started": "2022-09-16T11:59:56.343363Z"
        },
        "id": "OSRB_cjtvpYf"
      },
      "outputs": [],
      "source": [
        "y_test"
      ]
    },
    {
      "cell_type": "code",
      "execution_count": null,
      "metadata": {
        "execution": {
          "iopub.execute_input": "2022-09-16T11:59:56.361281Z",
          "iopub.status.busy": "2022-09-16T11:59:56.360814Z",
          "iopub.status.idle": "2022-09-16T11:59:56.373756Z",
          "shell.execute_reply": "2022-09-16T11:59:56.372382Z",
          "shell.execute_reply.started": "2022-09-16T11:59:56.361238Z"
        },
        "id": "Z5OM83jmvpYg"
      },
      "outputs": [],
      "source": [
        "y_test['Label Curah Hujan'].value_counts()"
      ]
    },
    {
      "cell_type": "code",
      "execution_count": null,
      "metadata": {
        "execution": {
          "iopub.execute_input": "2022-09-16T11:59:56.381759Z",
          "iopub.status.busy": "2022-09-16T11:59:56.380919Z",
          "iopub.status.idle": "2022-09-16T11:59:56.390549Z",
          "shell.execute_reply": "2022-09-16T11:59:56.389529Z",
          "shell.execute_reply.started": "2022-09-16T11:59:56.381711Z"
        },
        "id": "UqlHD-r8vpYi"
      },
      "outputs": [],
      "source": [
        "from collections import Counter\n",
        "print (Counter(y_pred))"
      ]
    },
    {
      "cell_type": "code",
      "execution_count": null,
      "metadata": {
        "execution": {
          "iopub.execute_input": "2022-09-16T11:59:56.393077Z",
          "iopub.status.busy": "2022-09-16T11:59:56.391976Z",
          "iopub.status.idle": "2022-09-16T11:59:56.412563Z",
          "shell.execute_reply": "2022-09-16T11:59:56.411500Z",
          "shell.execute_reply.started": "2022-09-16T11:59:56.392979Z"
        },
        "id": "Ohay2ZyqvpYj"
      },
      "outputs": [],
      "source": [
        "comp_df = y_test.copy()\n",
        "comp_df['Prediksi'] = y_pred\n",
        "comp_df.rename(columns = {'Label Curah Hujan':'Aktual'}, inplace = True)\n",
        "comp_df"
      ]
    },
    {
      "cell_type": "code",
      "execution_count": null,
      "metadata": {
        "execution": {
          "iopub.execute_input": "2022-09-16T12:00:10.485717Z",
          "iopub.status.busy": "2022-09-16T12:00:10.485305Z",
          "iopub.status.idle": "2022-09-16T12:00:10.797485Z",
          "shell.execute_reply": "2022-09-16T12:00:10.796080Z",
          "shell.execute_reply.started": "2022-09-16T12:00:10.485680Z"
        },
        "id": "9mgvJ8hrvpYl"
      },
      "outputs": [],
      "source": [
        "comp_df.to_excel('Knn comparison.xlsx')"
      ]
    },
    {
      "cell_type": "code",
      "execution_count": null,
      "metadata": {
        "execution": {
          "iopub.execute_input": "2022-09-16T12:00:10.799672Z",
          "iopub.status.busy": "2022-09-16T12:00:10.799170Z",
          "iopub.status.idle": "2022-09-16T12:00:10.810609Z",
          "shell.execute_reply": "2022-09-16T12:00:10.809570Z",
          "shell.execute_reply.started": "2022-09-16T12:00:10.799625Z"
        },
        "id": "E7BmWc3QvpYm"
      },
      "outputs": [],
      "source": [
        "from sklearn.metrics import confusion_matrix\n",
        "\n",
        "print(confusion_matrix(y_test,y_pred))"
      ]
    },
    {
      "cell_type": "code",
      "execution_count": null,
      "metadata": {
        "execution": {
          "iopub.execute_input": "2022-09-16T12:00:10.812856Z",
          "iopub.status.busy": "2022-09-16T12:00:10.811998Z",
          "iopub.status.idle": "2022-09-16T12:00:11.142511Z",
          "shell.execute_reply": "2022-09-16T12:00:11.141303Z",
          "shell.execute_reply.started": "2022-09-16T12:00:10.812817Z"
        },
        "id": "wMjFW3ehvpYn"
      },
      "outputs": [],
      "source": [
        "\n",
        "\n",
        "cm = confusion_matrix(y_test, y_pred) \n",
        "cm_df = pd.DataFrame(cm,\n",
        "                     index = ['Tidak Hujan','Hujan'], \n",
        "                     columns = ['Tidak Hujan','Hujan'])\n",
        "\n",
        "f, ax=plt.subplots(figsize=(5,5))\n",
        "sns.heatmap(cm_df, annot=True, fmt=\".0f\",ax=ax, cmap = 'prism_r')\n",
        "plt.title('Confusion Matrix')\n",
        "plt.ylabel('Aktual')\n",
        "plt.xlabel('Prediksi')\n",
        "plt.savefig('plot_confusion_matrix.png')\n",
        "plt.show()"
      ]
    },
    {
      "cell_type": "code",
      "execution_count": null,
      "metadata": {
        "execution": {
          "iopub.execute_input": "2022-09-16T12:00:11.144249Z",
          "iopub.status.busy": "2022-09-16T12:00:11.143901Z",
          "iopub.status.idle": "2022-09-16T12:00:11.158681Z",
          "shell.execute_reply": "2022-09-16T12:00:11.157320Z",
          "shell.execute_reply.started": "2022-09-16T12:00:11.144218Z"
        },
        "id": "auaBuOH_vpYw"
      },
      "outputs": [],
      "source": [
        "\n",
        "\n",
        "print(classification_report(y_test, y_pred))"
      ]
    }
  ],
  "metadata": {
    "kernelspec": {
      "display_name": "Python 3",
      "language": "python",
      "name": "python3"
    },
    "language_info": {
      "codemirror_mode": {
        "name": "ipython",
        "version": 3
      },
      "file_extension": ".py",
      "mimetype": "text/x-python",
      "name": "python",
      "nbconvert_exporter": "python",
      "pygments_lexer": "ipython3",
      "version": "3.8.3"
    },
    "colab": {
      "provenance": [],
      "collapsed_sections": []
    }
  },
  "nbformat": 4,
  "nbformat_minor": 0
}