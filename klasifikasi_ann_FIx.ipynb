{
  "metadata": {
    "kernelspec": {
      "display_name": "Python 3",
      "language": "python",
      "name": "python3"
    },
    "language_info": {
      "name": "python",
      "version": "3.7.12",
      "mimetype": "text/x-python",
      "codemirror_mode": {
        "name": "ipython",
        "version": 3
      },
      "pygments_lexer": "ipython3",
      "nbconvert_exporter": "python",
      "file_extension": ".py"
    },
    "colab": {
      "provenance": [],
      "collapsed_sections": []
    }
  },
  "nbformat_minor": 0,
  "nbformat": 4,
  "cells": [
    {
      "cell_type": "code",
      "source": [
        "pip install openpyxl"
      ],
      "metadata": {
        "execution": {
          "iopub.status.busy": "2022-09-17T16:27:43.687759Z",
          "iopub.execute_input": "2022-09-17T16:27:43.688117Z",
          "iopub.status.idle": "2022-09-17T16:27:54.179591Z",
          "shell.execute_reply.started": "2022-09-17T16:27:43.688083Z",
          "shell.execute_reply": "2022-09-17T16:27:54.178389Z"
        },
        "trusted": true,
        "id": "gFzrJmYPljtH",
        "colab": {
          "base_uri": "https://localhost:8080/"
        },
        "outputId": "fb025831-4a1f-490e-8098-a036a3fcbef2"
      },
      "execution_count": null,
      "outputs": [
        {
          "output_type": "stream",
          "name": "stdout",
          "text": [
            "Looking in indexes: https://pypi.org/simple, https://us-python.pkg.dev/colab-wheels/public/simple/\n",
            "Requirement already satisfied: openpyxl in /usr/local/lib/python3.7/dist-packages (3.0.10)\n",
            "Requirement already satisfied: et-xmlfile in /usr/local/lib/python3.7/dist-packages (from openpyxl) (1.1.0)\n"
          ]
        }
      ]
    },
    {
      "cell_type": "code",
      "source": [
        "!pip install ann-visualizer"
      ],
      "metadata": {
        "id": "Eg0P4BKxocD4",
        "colab": {
          "base_uri": "https://localhost:8080/"
        },
        "outputId": "8991dc56-acfd-4832-c08b-9b8bd74e6b95"
      },
      "execution_count": null,
      "outputs": [
        {
          "output_type": "stream",
          "name": "stdout",
          "text": [
            "Looking in indexes: https://pypi.org/simple, https://us-python.pkg.dev/colab-wheels/public/simple/\n",
            "Collecting ann-visualizer\n",
            "  Downloading ann_visualizer-2.5.tar.gz (4.7 kB)\n",
            "Building wheels for collected packages: ann-visualizer\n",
            "  Building wheel for ann-visualizer (setup.py) ... \u001b[?25l\u001b[?25hdone\n",
            "  Created wheel for ann-visualizer: filename=ann_visualizer-2.5-py3-none-any.whl size=4168 sha256=b55290389745c64242046856c7e4a716cd478c86bbe730bd3210a459d12de17e\n",
            "  Stored in directory: /root/.cache/pip/wheels/1b/fc/58/2ab1c3b30350105929308becddda4fb59b1358e54f985e1f4a\n",
            "Successfully built ann-visualizer\n",
            "Installing collected packages: ann-visualizer\n",
            "Successfully installed ann-visualizer-2.5\n"
          ]
        }
      ]
    },
    {
      "cell_type": "code",
      "source": [
        "# Mengimport semua library\n",
        "import pandas as pd\n",
        "import numpy as np\n",
        "import seaborn as sns\n",
        "import matplotlib.pyplot as plt\n",
        "import tensorflow as tf\n",
        "from tensorflow import keras"
      ],
      "metadata": {
        "execution": {
          "iopub.status.busy": "2022-09-17T16:31:21.747014Z",
          "iopub.execute_input": "2022-09-17T16:31:21.747503Z",
          "iopub.status.idle": "2022-09-17T16:31:27.290193Z",
          "shell.execute_reply.started": "2022-09-17T16:31:21.747463Z",
          "shell.execute_reply": "2022-09-17T16:31:27.289077Z"
        },
        "trusted": true,
        "id": "Ba4lr_YRljsW"
      },
      "execution_count": null,
      "outputs": []
    },
    {
      "cell_type": "code",
      "source": [
        "df = pd.read_csv(\"/content/Data_TA.csv\")\n",
        "df.head()"
      ],
      "metadata": {
        "execution": {
          "iopub.status.busy": "2022-09-17T16:31:27.292320Z",
          "iopub.execute_input": "2022-09-17T16:31:27.293195Z",
          "iopub.status.idle": "2022-09-17T16:31:27.331599Z",
          "shell.execute_reply.started": "2022-09-17T16:31:27.293152Z",
          "shell.execute_reply": "2022-09-17T16:31:27.330630Z"
        },
        "trusted": true,
        "id": "YvGMxtOIljsh",
        "colab": {
          "base_uri": "https://localhost:8080/",
          "height": 206
        },
        "outputId": "aead7395-5137-4fe7-932c-bc4a48af0c13"
      },
      "execution_count": null,
      "outputs": [
        {
          "output_type": "execute_result",
          "data": {
            "text/plain": [
              "   Tahun  Bulan  Hari  Curah_hujan  Kelembaban  Suhu_maks  Suhu_min  Tekanan  \\\n",
              "0   2011      1     1         0.92       18.62      28.19     23.41   100.26   \n",
              "1   2011      1     2         2.80       18.55      28.96     23.23   100.32   \n",
              "2   2011      1     3         7.22       17.88      28.03     23.23   100.38   \n",
              "3   2011      1     4        14.05       18.07      27.65     22.26   100.32   \n",
              "4   2011      1     5        12.97       18.25      28.69     22.56   100.26   \n",
              "\n",
              "   Angin_permukaan  \n",
              "0             1.52  \n",
              "1             1.42  \n",
              "2             1.15  \n",
              "3             1.82  \n",
              "4             2.02  "
            ],
            "text/html": [
              "\n",
              "  <div id=\"df-ecd1be22-fdbd-40b7-8a2f-5ead36981405\">\n",
              "    <div class=\"colab-df-container\">\n",
              "      <div>\n",
              "<style scoped>\n",
              "    .dataframe tbody tr th:only-of-type {\n",
              "        vertical-align: middle;\n",
              "    }\n",
              "\n",
              "    .dataframe tbody tr th {\n",
              "        vertical-align: top;\n",
              "    }\n",
              "\n",
              "    .dataframe thead th {\n",
              "        text-align: right;\n",
              "    }\n",
              "</style>\n",
              "<table border=\"1\" class=\"dataframe\">\n",
              "  <thead>\n",
              "    <tr style=\"text-align: right;\">\n",
              "      <th></th>\n",
              "      <th>Tahun</th>\n",
              "      <th>Bulan</th>\n",
              "      <th>Hari</th>\n",
              "      <th>Curah_hujan</th>\n",
              "      <th>Kelembaban</th>\n",
              "      <th>Suhu_maks</th>\n",
              "      <th>Suhu_min</th>\n",
              "      <th>Tekanan</th>\n",
              "      <th>Angin_permukaan</th>\n",
              "    </tr>\n",
              "  </thead>\n",
              "  <tbody>\n",
              "    <tr>\n",
              "      <th>0</th>\n",
              "      <td>2011</td>\n",
              "      <td>1</td>\n",
              "      <td>1</td>\n",
              "      <td>0.92</td>\n",
              "      <td>18.62</td>\n",
              "      <td>28.19</td>\n",
              "      <td>23.41</td>\n",
              "      <td>100.26</td>\n",
              "      <td>1.52</td>\n",
              "    </tr>\n",
              "    <tr>\n",
              "      <th>1</th>\n",
              "      <td>2011</td>\n",
              "      <td>1</td>\n",
              "      <td>2</td>\n",
              "      <td>2.80</td>\n",
              "      <td>18.55</td>\n",
              "      <td>28.96</td>\n",
              "      <td>23.23</td>\n",
              "      <td>100.32</td>\n",
              "      <td>1.42</td>\n",
              "    </tr>\n",
              "    <tr>\n",
              "      <th>2</th>\n",
              "      <td>2011</td>\n",
              "      <td>1</td>\n",
              "      <td>3</td>\n",
              "      <td>7.22</td>\n",
              "      <td>17.88</td>\n",
              "      <td>28.03</td>\n",
              "      <td>23.23</td>\n",
              "      <td>100.38</td>\n",
              "      <td>1.15</td>\n",
              "    </tr>\n",
              "    <tr>\n",
              "      <th>3</th>\n",
              "      <td>2011</td>\n",
              "      <td>1</td>\n",
              "      <td>4</td>\n",
              "      <td>14.05</td>\n",
              "      <td>18.07</td>\n",
              "      <td>27.65</td>\n",
              "      <td>22.26</td>\n",
              "      <td>100.32</td>\n",
              "      <td>1.82</td>\n",
              "    </tr>\n",
              "    <tr>\n",
              "      <th>4</th>\n",
              "      <td>2011</td>\n",
              "      <td>1</td>\n",
              "      <td>5</td>\n",
              "      <td>12.97</td>\n",
              "      <td>18.25</td>\n",
              "      <td>28.69</td>\n",
              "      <td>22.56</td>\n",
              "      <td>100.26</td>\n",
              "      <td>2.02</td>\n",
              "    </tr>\n",
              "  </tbody>\n",
              "</table>\n",
              "</div>\n",
              "      <button class=\"colab-df-convert\" onclick=\"convertToInteractive('df-ecd1be22-fdbd-40b7-8a2f-5ead36981405')\"\n",
              "              title=\"Convert this dataframe to an interactive table.\"\n",
              "              style=\"display:none;\">\n",
              "        \n",
              "  <svg xmlns=\"http://www.w3.org/2000/svg\" height=\"24px\"viewBox=\"0 0 24 24\"\n",
              "       width=\"24px\">\n",
              "    <path d=\"M0 0h24v24H0V0z\" fill=\"none\"/>\n",
              "    <path d=\"M18.56 5.44l.94 2.06.94-2.06 2.06-.94-2.06-.94-.94-2.06-.94 2.06-2.06.94zm-11 1L8.5 8.5l.94-2.06 2.06-.94-2.06-.94L8.5 2.5l-.94 2.06-2.06.94zm10 10l.94 2.06.94-2.06 2.06-.94-2.06-.94-.94-2.06-.94 2.06-2.06.94z\"/><path d=\"M17.41 7.96l-1.37-1.37c-.4-.4-.92-.59-1.43-.59-.52 0-1.04.2-1.43.59L10.3 9.45l-7.72 7.72c-.78.78-.78 2.05 0 2.83L4 21.41c.39.39.9.59 1.41.59.51 0 1.02-.2 1.41-.59l7.78-7.78 2.81-2.81c.8-.78.8-2.07 0-2.86zM5.41 20L4 18.59l7.72-7.72 1.47 1.35L5.41 20z\"/>\n",
              "  </svg>\n",
              "      </button>\n",
              "      \n",
              "  <style>\n",
              "    .colab-df-container {\n",
              "      display:flex;\n",
              "      flex-wrap:wrap;\n",
              "      gap: 12px;\n",
              "    }\n",
              "\n",
              "    .colab-df-convert {\n",
              "      background-color: #E8F0FE;\n",
              "      border: none;\n",
              "      border-radius: 50%;\n",
              "      cursor: pointer;\n",
              "      display: none;\n",
              "      fill: #1967D2;\n",
              "      height: 32px;\n",
              "      padding: 0 0 0 0;\n",
              "      width: 32px;\n",
              "    }\n",
              "\n",
              "    .colab-df-convert:hover {\n",
              "      background-color: #E2EBFA;\n",
              "      box-shadow: 0px 1px 2px rgba(60, 64, 67, 0.3), 0px 1px 3px 1px rgba(60, 64, 67, 0.15);\n",
              "      fill: #174EA6;\n",
              "    }\n",
              "\n",
              "    [theme=dark] .colab-df-convert {\n",
              "      background-color: #3B4455;\n",
              "      fill: #D2E3FC;\n",
              "    }\n",
              "\n",
              "    [theme=dark] .colab-df-convert:hover {\n",
              "      background-color: #434B5C;\n",
              "      box-shadow: 0px 1px 3px 1px rgba(0, 0, 0, 0.15);\n",
              "      filter: drop-shadow(0px 1px 2px rgba(0, 0, 0, 0.3));\n",
              "      fill: #FFFFFF;\n",
              "    }\n",
              "  </style>\n",
              "\n",
              "      <script>\n",
              "        const buttonEl =\n",
              "          document.querySelector('#df-ecd1be22-fdbd-40b7-8a2f-5ead36981405 button.colab-df-convert');\n",
              "        buttonEl.style.display =\n",
              "          google.colab.kernel.accessAllowed ? 'block' : 'none';\n",
              "\n",
              "        async function convertToInteractive(key) {\n",
              "          const element = document.querySelector('#df-ecd1be22-fdbd-40b7-8a2f-5ead36981405');\n",
              "          const dataTable =\n",
              "            await google.colab.kernel.invokeFunction('convertToInteractive',\n",
              "                                                     [key], {});\n",
              "          if (!dataTable) return;\n",
              "\n",
              "          const docLinkHtml = 'Like what you see? Visit the ' +\n",
              "            '<a target=\"_blank\" href=https://colab.research.google.com/notebooks/data_table.ipynb>data table notebook</a>'\n",
              "            + ' to learn more about interactive tables.';\n",
              "          element.innerHTML = '';\n",
              "          dataTable['output_type'] = 'display_data';\n",
              "          await google.colab.output.renderOutput(dataTable, element);\n",
              "          const docLink = document.createElement('div');\n",
              "          docLink.innerHTML = docLinkHtml;\n",
              "          element.appendChild(docLink);\n",
              "        }\n",
              "      </script>\n",
              "    </div>\n",
              "  </div>\n",
              "  "
            ]
          },
          "metadata": {},
          "execution_count": 4
        }
      ]
    },
    {
      "cell_type": "code",
      "source": [
        "import warnings\n",
        "\n",
        "warnings.filterwarnings('ignore')"
      ],
      "metadata": {
        "execution": {
          "iopub.status.busy": "2022-09-17T16:31:27.332884Z",
          "iopub.execute_input": "2022-09-17T16:31:27.333797Z",
          "iopub.status.idle": "2022-09-17T16:31:27.338413Z",
          "shell.execute_reply.started": "2022-09-17T16:31:27.333761Z",
          "shell.execute_reply": "2022-09-17T16:31:27.337467Z"
        },
        "trusted": true,
        "id": "-_NjGRMnljsk"
      },
      "execution_count": null,
      "outputs": []
    },
    {
      "cell_type": "code",
      "source": [
        "print(\"Shape of Data is ==> \",df.shape)"
      ],
      "metadata": {
        "execution": {
          "iopub.status.busy": "2022-09-17T16:31:27.341016Z",
          "iopub.execute_input": "2022-09-17T16:31:27.342084Z",
          "iopub.status.idle": "2022-09-17T16:31:27.350128Z",
          "shell.execute_reply.started": "2022-09-17T16:31:27.342045Z",
          "shell.execute_reply": "2022-09-17T16:31:27.348955Z"
        },
        "trusted": true,
        "id": "xt6rjD7Aljsm",
        "colab": {
          "base_uri": "https://localhost:8080/"
        },
        "outputId": "29bb3b98-c4e1-41cf-f926-0db755a2f9bd"
      },
      "execution_count": null,
      "outputs": [
        {
          "output_type": "stream",
          "name": "stdout",
          "text": [
            "Shape of Data is ==>  (4018, 9)\n"
          ]
        }
      ]
    },
    {
      "cell_type": "code",
      "source": [
        "df.info()"
      ],
      "metadata": {
        "execution": {
          "iopub.status.busy": "2022-09-17T16:31:27.351932Z",
          "iopub.execute_input": "2022-09-17T16:31:27.352324Z",
          "iopub.status.idle": "2022-09-17T16:31:27.378693Z",
          "shell.execute_reply.started": "2022-09-17T16:31:27.352290Z",
          "shell.execute_reply": "2022-09-17T16:31:27.377672Z"
        },
        "trusted": true,
        "id": "sBAJehDgljsn",
        "colab": {
          "base_uri": "https://localhost:8080/"
        },
        "outputId": "86d6967a-b125-4935-9530-e8a0f289f543"
      },
      "execution_count": null,
      "outputs": [
        {
          "output_type": "stream",
          "name": "stdout",
          "text": [
            "<class 'pandas.core.frame.DataFrame'>\n",
            "RangeIndex: 4018 entries, 0 to 4017\n",
            "Data columns (total 9 columns):\n",
            " #   Column           Non-Null Count  Dtype  \n",
            "---  ------           --------------  -----  \n",
            " 0   Tahun            4018 non-null   int64  \n",
            " 1   Bulan            4018 non-null   int64  \n",
            " 2   Hari             4018 non-null   int64  \n",
            " 3   Curah_hujan      4018 non-null   float64\n",
            " 4   Kelembaban       4018 non-null   float64\n",
            " 5   Suhu_maks        4018 non-null   float64\n",
            " 6   Suhu_min         4018 non-null   float64\n",
            " 7   Tekanan          4018 non-null   float64\n",
            " 8   Angin_permukaan  4018 non-null   float64\n",
            "dtypes: float64(6), int64(3)\n",
            "memory usage: 282.6 KB\n"
          ]
        }
      ]
    },
    {
      "cell_type": "code",
      "source": [
        "df.describe().T"
      ],
      "metadata": {
        "execution": {
          "iopub.status.busy": "2022-09-17T16:31:27.380223Z",
          "iopub.execute_input": "2022-09-17T16:31:27.380825Z",
          "iopub.status.idle": "2022-09-17T16:31:27.418768Z",
          "shell.execute_reply.started": "2022-09-17T16:31:27.380790Z",
          "shell.execute_reply": "2022-09-17T16:31:27.417731Z"
        },
        "trusted": true,
        "id": "O1o7OMVsljsp",
        "colab": {
          "base_uri": "https://localhost:8080/",
          "height": 332
        },
        "outputId": "32d8e98a-012a-4242-c4e4-80f79b3fcd46"
      },
      "execution_count": null,
      "outputs": [
        {
          "output_type": "execute_result",
          "data": {
            "text/plain": [
              "                  count         mean        std      min        25%      50%  \\\n",
              "Tahun            4018.0  2016.000000   3.162750  2011.00  2013.0000  2016.00   \n",
              "Bulan            4018.0     6.522648   3.449210     1.00     4.0000     7.00   \n",
              "Hari             4018.0    15.730463   8.801536     1.00     8.0000    16.00   \n",
              "Curah_hujan      4018.0     6.998982  13.483487     0.00     0.4025     2.75   \n",
              "Kelembaban       4018.0    18.448203   0.879616    13.61    17.9400    18.49   \n",
              "Suhu_maks        4018.0    30.020543   1.355040    26.18    29.1900    30.03   \n",
              "Suhu_min         4018.0    23.168686   0.913762    19.31    22.6400    23.27   \n",
              "Tekanan          4018.0   100.557407   0.124478   100.12   100.4800   100.56   \n",
              "Angin_permukaan  4018.0     1.339333   0.443485     0.35     0.9900     1.30   \n",
              "\n",
              "                      75%      max  \n",
              "Tahun            2019.000  2021.00  \n",
              "Bulan              10.000    12.00  \n",
              "Hari               23.000    31.00  \n",
              "Curah_hujan         8.775   424.26  \n",
              "Kelembaban         19.040    21.42  \n",
              "Suhu_maks          30.780    37.29  \n",
              "Suhu_min           23.800    25.52  \n",
              "Tekanan           100.640   100.99  \n",
              "Angin_permukaan     1.660     2.73  "
            ],
            "text/html": [
              "\n",
              "  <div id=\"df-29b968ec-9153-4511-9bb9-c96375f936bf\">\n",
              "    <div class=\"colab-df-container\">\n",
              "      <div>\n",
              "<style scoped>\n",
              "    .dataframe tbody tr th:only-of-type {\n",
              "        vertical-align: middle;\n",
              "    }\n",
              "\n",
              "    .dataframe tbody tr th {\n",
              "        vertical-align: top;\n",
              "    }\n",
              "\n",
              "    .dataframe thead th {\n",
              "        text-align: right;\n",
              "    }\n",
              "</style>\n",
              "<table border=\"1\" class=\"dataframe\">\n",
              "  <thead>\n",
              "    <tr style=\"text-align: right;\">\n",
              "      <th></th>\n",
              "      <th>count</th>\n",
              "      <th>mean</th>\n",
              "      <th>std</th>\n",
              "      <th>min</th>\n",
              "      <th>25%</th>\n",
              "      <th>50%</th>\n",
              "      <th>75%</th>\n",
              "      <th>max</th>\n",
              "    </tr>\n",
              "  </thead>\n",
              "  <tbody>\n",
              "    <tr>\n",
              "      <th>Tahun</th>\n",
              "      <td>4018.0</td>\n",
              "      <td>2016.000000</td>\n",
              "      <td>3.162750</td>\n",
              "      <td>2011.00</td>\n",
              "      <td>2013.0000</td>\n",
              "      <td>2016.00</td>\n",
              "      <td>2019.000</td>\n",
              "      <td>2021.00</td>\n",
              "    </tr>\n",
              "    <tr>\n",
              "      <th>Bulan</th>\n",
              "      <td>4018.0</td>\n",
              "      <td>6.522648</td>\n",
              "      <td>3.449210</td>\n",
              "      <td>1.00</td>\n",
              "      <td>4.0000</td>\n",
              "      <td>7.00</td>\n",
              "      <td>10.000</td>\n",
              "      <td>12.00</td>\n",
              "    </tr>\n",
              "    <tr>\n",
              "      <th>Hari</th>\n",
              "      <td>4018.0</td>\n",
              "      <td>15.730463</td>\n",
              "      <td>8.801536</td>\n",
              "      <td>1.00</td>\n",
              "      <td>8.0000</td>\n",
              "      <td>16.00</td>\n",
              "      <td>23.000</td>\n",
              "      <td>31.00</td>\n",
              "    </tr>\n",
              "    <tr>\n",
              "      <th>Curah_hujan</th>\n",
              "      <td>4018.0</td>\n",
              "      <td>6.998982</td>\n",
              "      <td>13.483487</td>\n",
              "      <td>0.00</td>\n",
              "      <td>0.4025</td>\n",
              "      <td>2.75</td>\n",
              "      <td>8.775</td>\n",
              "      <td>424.26</td>\n",
              "    </tr>\n",
              "    <tr>\n",
              "      <th>Kelembaban</th>\n",
              "      <td>4018.0</td>\n",
              "      <td>18.448203</td>\n",
              "      <td>0.879616</td>\n",
              "      <td>13.61</td>\n",
              "      <td>17.9400</td>\n",
              "      <td>18.49</td>\n",
              "      <td>19.040</td>\n",
              "      <td>21.42</td>\n",
              "    </tr>\n",
              "    <tr>\n",
              "      <th>Suhu_maks</th>\n",
              "      <td>4018.0</td>\n",
              "      <td>30.020543</td>\n",
              "      <td>1.355040</td>\n",
              "      <td>26.18</td>\n",
              "      <td>29.1900</td>\n",
              "      <td>30.03</td>\n",
              "      <td>30.780</td>\n",
              "      <td>37.29</td>\n",
              "    </tr>\n",
              "    <tr>\n",
              "      <th>Suhu_min</th>\n",
              "      <td>4018.0</td>\n",
              "      <td>23.168686</td>\n",
              "      <td>0.913762</td>\n",
              "      <td>19.31</td>\n",
              "      <td>22.6400</td>\n",
              "      <td>23.27</td>\n",
              "      <td>23.800</td>\n",
              "      <td>25.52</td>\n",
              "    </tr>\n",
              "    <tr>\n",
              "      <th>Tekanan</th>\n",
              "      <td>4018.0</td>\n",
              "      <td>100.557407</td>\n",
              "      <td>0.124478</td>\n",
              "      <td>100.12</td>\n",
              "      <td>100.4800</td>\n",
              "      <td>100.56</td>\n",
              "      <td>100.640</td>\n",
              "      <td>100.99</td>\n",
              "    </tr>\n",
              "    <tr>\n",
              "      <th>Angin_permukaan</th>\n",
              "      <td>4018.0</td>\n",
              "      <td>1.339333</td>\n",
              "      <td>0.443485</td>\n",
              "      <td>0.35</td>\n",
              "      <td>0.9900</td>\n",
              "      <td>1.30</td>\n",
              "      <td>1.660</td>\n",
              "      <td>2.73</td>\n",
              "    </tr>\n",
              "  </tbody>\n",
              "</table>\n",
              "</div>\n",
              "      <button class=\"colab-df-convert\" onclick=\"convertToInteractive('df-29b968ec-9153-4511-9bb9-c96375f936bf')\"\n",
              "              title=\"Convert this dataframe to an interactive table.\"\n",
              "              style=\"display:none;\">\n",
              "        \n",
              "  <svg xmlns=\"http://www.w3.org/2000/svg\" height=\"24px\"viewBox=\"0 0 24 24\"\n",
              "       width=\"24px\">\n",
              "    <path d=\"M0 0h24v24H0V0z\" fill=\"none\"/>\n",
              "    <path d=\"M18.56 5.44l.94 2.06.94-2.06 2.06-.94-2.06-.94-.94-2.06-.94 2.06-2.06.94zm-11 1L8.5 8.5l.94-2.06 2.06-.94-2.06-.94L8.5 2.5l-.94 2.06-2.06.94zm10 10l.94 2.06.94-2.06 2.06-.94-2.06-.94-.94-2.06-.94 2.06-2.06.94z\"/><path d=\"M17.41 7.96l-1.37-1.37c-.4-.4-.92-.59-1.43-.59-.52 0-1.04.2-1.43.59L10.3 9.45l-7.72 7.72c-.78.78-.78 2.05 0 2.83L4 21.41c.39.39.9.59 1.41.59.51 0 1.02-.2 1.41-.59l7.78-7.78 2.81-2.81c.8-.78.8-2.07 0-2.86zM5.41 20L4 18.59l7.72-7.72 1.47 1.35L5.41 20z\"/>\n",
              "  </svg>\n",
              "      </button>\n",
              "      \n",
              "  <style>\n",
              "    .colab-df-container {\n",
              "      display:flex;\n",
              "      flex-wrap:wrap;\n",
              "      gap: 12px;\n",
              "    }\n",
              "\n",
              "    .colab-df-convert {\n",
              "      background-color: #E8F0FE;\n",
              "      border: none;\n",
              "      border-radius: 50%;\n",
              "      cursor: pointer;\n",
              "      display: none;\n",
              "      fill: #1967D2;\n",
              "      height: 32px;\n",
              "      padding: 0 0 0 0;\n",
              "      width: 32px;\n",
              "    }\n",
              "\n",
              "    .colab-df-convert:hover {\n",
              "      background-color: #E2EBFA;\n",
              "      box-shadow: 0px 1px 2px rgba(60, 64, 67, 0.3), 0px 1px 3px 1px rgba(60, 64, 67, 0.15);\n",
              "      fill: #174EA6;\n",
              "    }\n",
              "\n",
              "    [theme=dark] .colab-df-convert {\n",
              "      background-color: #3B4455;\n",
              "      fill: #D2E3FC;\n",
              "    }\n",
              "\n",
              "    [theme=dark] .colab-df-convert:hover {\n",
              "      background-color: #434B5C;\n",
              "      box-shadow: 0px 1px 3px 1px rgba(0, 0, 0, 0.15);\n",
              "      filter: drop-shadow(0px 1px 2px rgba(0, 0, 0, 0.3));\n",
              "      fill: #FFFFFF;\n",
              "    }\n",
              "  </style>\n",
              "\n",
              "      <script>\n",
              "        const buttonEl =\n",
              "          document.querySelector('#df-29b968ec-9153-4511-9bb9-c96375f936bf button.colab-df-convert');\n",
              "        buttonEl.style.display =\n",
              "          google.colab.kernel.accessAllowed ? 'block' : 'none';\n",
              "\n",
              "        async function convertToInteractive(key) {\n",
              "          const element = document.querySelector('#df-29b968ec-9153-4511-9bb9-c96375f936bf');\n",
              "          const dataTable =\n",
              "            await google.colab.kernel.invokeFunction('convertToInteractive',\n",
              "                                                     [key], {});\n",
              "          if (!dataTable) return;\n",
              "\n",
              "          const docLinkHtml = 'Like what you see? Visit the ' +\n",
              "            '<a target=\"_blank\" href=https://colab.research.google.com/notebooks/data_table.ipynb>data table notebook</a>'\n",
              "            + ' to learn more about interactive tables.';\n",
              "          element.innerHTML = '';\n",
              "          dataTable['output_type'] = 'display_data';\n",
              "          await google.colab.output.renderOutput(dataTable, element);\n",
              "          const docLink = document.createElement('div');\n",
              "          docLink.innerHTML = docLinkHtml;\n",
              "          element.appendChild(docLink);\n",
              "        }\n",
              "      </script>\n",
              "    </div>\n",
              "  </div>\n",
              "  "
            ]
          },
          "metadata": {},
          "execution_count": 8
        }
      ]
    },
    {
      "cell_type": "code",
      "source": [
        "df.dtypes"
      ],
      "metadata": {
        "execution": {
          "iopub.status.busy": "2022-09-17T16:31:27.420352Z",
          "iopub.execute_input": "2022-09-17T16:31:27.420711Z",
          "iopub.status.idle": "2022-09-17T16:31:27.427947Z",
          "shell.execute_reply.started": "2022-09-17T16:31:27.420674Z",
          "shell.execute_reply": "2022-09-17T16:31:27.426905Z"
        },
        "trusted": true,
        "id": "yIx4OFbGljsq",
        "colab": {
          "base_uri": "https://localhost:8080/"
        },
        "outputId": "2884b7c5-2370-4b25-a0a9-c0d5c4cb3802"
      },
      "execution_count": null,
      "outputs": [
        {
          "output_type": "execute_result",
          "data": {
            "text/plain": [
              "Tahun                int64\n",
              "Bulan                int64\n",
              "Hari                 int64\n",
              "Curah_hujan        float64\n",
              "Kelembaban         float64\n",
              "Suhu_maks          float64\n",
              "Suhu_min           float64\n",
              "Tekanan            float64\n",
              "Angin_permukaan    float64\n",
              "dtype: object"
            ]
          },
          "metadata": {},
          "execution_count": 9
        }
      ]
    },
    {
      "cell_type": "code",
      "source": [
        "df.isnull().sum()"
      ],
      "metadata": {
        "execution": {
          "iopub.status.busy": "2022-09-17T16:31:27.429603Z",
          "iopub.execute_input": "2022-09-17T16:31:27.430629Z",
          "iopub.status.idle": "2022-09-17T16:31:27.440882Z",
          "shell.execute_reply.started": "2022-09-17T16:31:27.430595Z",
          "shell.execute_reply": "2022-09-17T16:31:27.439787Z"
        },
        "trusted": true,
        "id": "bb5ZPqWEljss",
        "colab": {
          "base_uri": "https://localhost:8080/"
        },
        "outputId": "7d7b6192-6e31-468e-ad11-cf935f4c690a"
      },
      "execution_count": null,
      "outputs": [
        {
          "output_type": "execute_result",
          "data": {
            "text/plain": [
              "Tahun              0\n",
              "Bulan              0\n",
              "Hari               0\n",
              "Curah_hujan        0\n",
              "Kelembaban         0\n",
              "Suhu_maks          0\n",
              "Suhu_min           0\n",
              "Tekanan            0\n",
              "Angin_permukaan    0\n",
              "dtype: int64"
            ]
          },
          "metadata": {},
          "execution_count": 10
        }
      ]
    },
    {
      "cell_type": "code",
      "source": [
        "df1 = pd.DataFrame ((df),\n",
        "columns = ['Curah_hujan'])\n",
        "df.loc [df1['Curah_hujan'] < 0.5, 'Label Curah Hujan'] = 'Tidak Hujan'\n",
        "df.loc [df1['Curah_hujan'] >= 0.5, 'Label Curah Hujan'] = 'Hujan'\n",
        "df"
      ],
      "metadata": {
        "execution": {
          "iopub.status.busy": "2022-09-17T16:31:27.442444Z",
          "iopub.execute_input": "2022-09-17T16:31:27.442861Z",
          "iopub.status.idle": "2022-09-17T16:31:27.468845Z",
          "shell.execute_reply.started": "2022-09-17T16:31:27.442824Z",
          "shell.execute_reply": "2022-09-17T16:31:27.467466Z"
        },
        "trusted": true,
        "id": "-KNshYOhljsv",
        "colab": {
          "base_uri": "https://localhost:8080/",
          "height": 424
        },
        "outputId": "2246d703-5cd3-4e4d-d80b-5bc48e8e5fbf"
      },
      "execution_count": null,
      "outputs": [
        {
          "output_type": "execute_result",
          "data": {
            "text/plain": [
              "      Tahun  Bulan  Hari  Curah_hujan  Kelembaban  Suhu_maks  Suhu_min  \\\n",
              "0      2011      1     1         0.92       18.62      28.19     23.41   \n",
              "1      2011      1     2         2.80       18.55      28.96     23.23   \n",
              "2      2011      1     3         7.22       17.88      28.03     23.23   \n",
              "3      2011      1     4        14.05       18.07      27.65     22.26   \n",
              "4      2011      1     5        12.97       18.25      28.69     22.56   \n",
              "...     ...    ...   ...          ...         ...        ...       ...   \n",
              "4013   2021     12    27        12.31       19.04      29.05     23.92   \n",
              "4014   2021     12    28         1.77       19.04      28.31     23.78   \n",
              "4015   2021     12    29         0.32       18.74      28.95     23.32   \n",
              "4016   2021     12    30         1.97       19.23      30.69     22.70   \n",
              "4017   2021     12    31        25.58       19.47      28.76     23.97   \n",
              "\n",
              "      Tekanan  Angin_permukaan Label Curah Hujan  \n",
              "0      100.26             1.52             Hujan  \n",
              "1      100.32             1.42             Hujan  \n",
              "2      100.38             1.15             Hujan  \n",
              "3      100.32             1.82             Hujan  \n",
              "4      100.26             2.02             Hujan  \n",
              "...       ...              ...               ...  \n",
              "4013   100.70             1.12             Hujan  \n",
              "4014   100.63             1.44             Hujan  \n",
              "4015   100.60             1.08       Tidak Hujan  \n",
              "4016   100.55             1.27             Hujan  \n",
              "4017   100.57             1.32             Hujan  \n",
              "\n",
              "[4018 rows x 10 columns]"
            ],
            "text/html": [
              "\n",
              "  <div id=\"df-3303ba8e-15de-4fd3-90ca-56df2d709648\">\n",
              "    <div class=\"colab-df-container\">\n",
              "      <div>\n",
              "<style scoped>\n",
              "    .dataframe tbody tr th:only-of-type {\n",
              "        vertical-align: middle;\n",
              "    }\n",
              "\n",
              "    .dataframe tbody tr th {\n",
              "        vertical-align: top;\n",
              "    }\n",
              "\n",
              "    .dataframe thead th {\n",
              "        text-align: right;\n",
              "    }\n",
              "</style>\n",
              "<table border=\"1\" class=\"dataframe\">\n",
              "  <thead>\n",
              "    <tr style=\"text-align: right;\">\n",
              "      <th></th>\n",
              "      <th>Tahun</th>\n",
              "      <th>Bulan</th>\n",
              "      <th>Hari</th>\n",
              "      <th>Curah_hujan</th>\n",
              "      <th>Kelembaban</th>\n",
              "      <th>Suhu_maks</th>\n",
              "      <th>Suhu_min</th>\n",
              "      <th>Tekanan</th>\n",
              "      <th>Angin_permukaan</th>\n",
              "      <th>Label Curah Hujan</th>\n",
              "    </tr>\n",
              "  </thead>\n",
              "  <tbody>\n",
              "    <tr>\n",
              "      <th>0</th>\n",
              "      <td>2011</td>\n",
              "      <td>1</td>\n",
              "      <td>1</td>\n",
              "      <td>0.92</td>\n",
              "      <td>18.62</td>\n",
              "      <td>28.19</td>\n",
              "      <td>23.41</td>\n",
              "      <td>100.26</td>\n",
              "      <td>1.52</td>\n",
              "      <td>Hujan</td>\n",
              "    </tr>\n",
              "    <tr>\n",
              "      <th>1</th>\n",
              "      <td>2011</td>\n",
              "      <td>1</td>\n",
              "      <td>2</td>\n",
              "      <td>2.80</td>\n",
              "      <td>18.55</td>\n",
              "      <td>28.96</td>\n",
              "      <td>23.23</td>\n",
              "      <td>100.32</td>\n",
              "      <td>1.42</td>\n",
              "      <td>Hujan</td>\n",
              "    </tr>\n",
              "    <tr>\n",
              "      <th>2</th>\n",
              "      <td>2011</td>\n",
              "      <td>1</td>\n",
              "      <td>3</td>\n",
              "      <td>7.22</td>\n",
              "      <td>17.88</td>\n",
              "      <td>28.03</td>\n",
              "      <td>23.23</td>\n",
              "      <td>100.38</td>\n",
              "      <td>1.15</td>\n",
              "      <td>Hujan</td>\n",
              "    </tr>\n",
              "    <tr>\n",
              "      <th>3</th>\n",
              "      <td>2011</td>\n",
              "      <td>1</td>\n",
              "      <td>4</td>\n",
              "      <td>14.05</td>\n",
              "      <td>18.07</td>\n",
              "      <td>27.65</td>\n",
              "      <td>22.26</td>\n",
              "      <td>100.32</td>\n",
              "      <td>1.82</td>\n",
              "      <td>Hujan</td>\n",
              "    </tr>\n",
              "    <tr>\n",
              "      <th>4</th>\n",
              "      <td>2011</td>\n",
              "      <td>1</td>\n",
              "      <td>5</td>\n",
              "      <td>12.97</td>\n",
              "      <td>18.25</td>\n",
              "      <td>28.69</td>\n",
              "      <td>22.56</td>\n",
              "      <td>100.26</td>\n",
              "      <td>2.02</td>\n",
              "      <td>Hujan</td>\n",
              "    </tr>\n",
              "    <tr>\n",
              "      <th>...</th>\n",
              "      <td>...</td>\n",
              "      <td>...</td>\n",
              "      <td>...</td>\n",
              "      <td>...</td>\n",
              "      <td>...</td>\n",
              "      <td>...</td>\n",
              "      <td>...</td>\n",
              "      <td>...</td>\n",
              "      <td>...</td>\n",
              "      <td>...</td>\n",
              "    </tr>\n",
              "    <tr>\n",
              "      <th>4013</th>\n",
              "      <td>2021</td>\n",
              "      <td>12</td>\n",
              "      <td>27</td>\n",
              "      <td>12.31</td>\n",
              "      <td>19.04</td>\n",
              "      <td>29.05</td>\n",
              "      <td>23.92</td>\n",
              "      <td>100.70</td>\n",
              "      <td>1.12</td>\n",
              "      <td>Hujan</td>\n",
              "    </tr>\n",
              "    <tr>\n",
              "      <th>4014</th>\n",
              "      <td>2021</td>\n",
              "      <td>12</td>\n",
              "      <td>28</td>\n",
              "      <td>1.77</td>\n",
              "      <td>19.04</td>\n",
              "      <td>28.31</td>\n",
              "      <td>23.78</td>\n",
              "      <td>100.63</td>\n",
              "      <td>1.44</td>\n",
              "      <td>Hujan</td>\n",
              "    </tr>\n",
              "    <tr>\n",
              "      <th>4015</th>\n",
              "      <td>2021</td>\n",
              "      <td>12</td>\n",
              "      <td>29</td>\n",
              "      <td>0.32</td>\n",
              "      <td>18.74</td>\n",
              "      <td>28.95</td>\n",
              "      <td>23.32</td>\n",
              "      <td>100.60</td>\n",
              "      <td>1.08</td>\n",
              "      <td>Tidak Hujan</td>\n",
              "    </tr>\n",
              "    <tr>\n",
              "      <th>4016</th>\n",
              "      <td>2021</td>\n",
              "      <td>12</td>\n",
              "      <td>30</td>\n",
              "      <td>1.97</td>\n",
              "      <td>19.23</td>\n",
              "      <td>30.69</td>\n",
              "      <td>22.70</td>\n",
              "      <td>100.55</td>\n",
              "      <td>1.27</td>\n",
              "      <td>Hujan</td>\n",
              "    </tr>\n",
              "    <tr>\n",
              "      <th>4017</th>\n",
              "      <td>2021</td>\n",
              "      <td>12</td>\n",
              "      <td>31</td>\n",
              "      <td>25.58</td>\n",
              "      <td>19.47</td>\n",
              "      <td>28.76</td>\n",
              "      <td>23.97</td>\n",
              "      <td>100.57</td>\n",
              "      <td>1.32</td>\n",
              "      <td>Hujan</td>\n",
              "    </tr>\n",
              "  </tbody>\n",
              "</table>\n",
              "<p>4018 rows × 10 columns</p>\n",
              "</div>\n",
              "      <button class=\"colab-df-convert\" onclick=\"convertToInteractive('df-3303ba8e-15de-4fd3-90ca-56df2d709648')\"\n",
              "              title=\"Convert this dataframe to an interactive table.\"\n",
              "              style=\"display:none;\">\n",
              "        \n",
              "  <svg xmlns=\"http://www.w3.org/2000/svg\" height=\"24px\"viewBox=\"0 0 24 24\"\n",
              "       width=\"24px\">\n",
              "    <path d=\"M0 0h24v24H0V0z\" fill=\"none\"/>\n",
              "    <path d=\"M18.56 5.44l.94 2.06.94-2.06 2.06-.94-2.06-.94-.94-2.06-.94 2.06-2.06.94zm-11 1L8.5 8.5l.94-2.06 2.06-.94-2.06-.94L8.5 2.5l-.94 2.06-2.06.94zm10 10l.94 2.06.94-2.06 2.06-.94-2.06-.94-.94-2.06-.94 2.06-2.06.94z\"/><path d=\"M17.41 7.96l-1.37-1.37c-.4-.4-.92-.59-1.43-.59-.52 0-1.04.2-1.43.59L10.3 9.45l-7.72 7.72c-.78.78-.78 2.05 0 2.83L4 21.41c.39.39.9.59 1.41.59.51 0 1.02-.2 1.41-.59l7.78-7.78 2.81-2.81c.8-.78.8-2.07 0-2.86zM5.41 20L4 18.59l7.72-7.72 1.47 1.35L5.41 20z\"/>\n",
              "  </svg>\n",
              "      </button>\n",
              "      \n",
              "  <style>\n",
              "    .colab-df-container {\n",
              "      display:flex;\n",
              "      flex-wrap:wrap;\n",
              "      gap: 12px;\n",
              "    }\n",
              "\n",
              "    .colab-df-convert {\n",
              "      background-color: #E8F0FE;\n",
              "      border: none;\n",
              "      border-radius: 50%;\n",
              "      cursor: pointer;\n",
              "      display: none;\n",
              "      fill: #1967D2;\n",
              "      height: 32px;\n",
              "      padding: 0 0 0 0;\n",
              "      width: 32px;\n",
              "    }\n",
              "\n",
              "    .colab-df-convert:hover {\n",
              "      background-color: #E2EBFA;\n",
              "      box-shadow: 0px 1px 2px rgba(60, 64, 67, 0.3), 0px 1px 3px 1px rgba(60, 64, 67, 0.15);\n",
              "      fill: #174EA6;\n",
              "    }\n",
              "\n",
              "    [theme=dark] .colab-df-convert {\n",
              "      background-color: #3B4455;\n",
              "      fill: #D2E3FC;\n",
              "    }\n",
              "\n",
              "    [theme=dark] .colab-df-convert:hover {\n",
              "      background-color: #434B5C;\n",
              "      box-shadow: 0px 1px 3px 1px rgba(0, 0, 0, 0.15);\n",
              "      filter: drop-shadow(0px 1px 2px rgba(0, 0, 0, 0.3));\n",
              "      fill: #FFFFFF;\n",
              "    }\n",
              "  </style>\n",
              "\n",
              "      <script>\n",
              "        const buttonEl =\n",
              "          document.querySelector('#df-3303ba8e-15de-4fd3-90ca-56df2d709648 button.colab-df-convert');\n",
              "        buttonEl.style.display =\n",
              "          google.colab.kernel.accessAllowed ? 'block' : 'none';\n",
              "\n",
              "        async function convertToInteractive(key) {\n",
              "          const element = document.querySelector('#df-3303ba8e-15de-4fd3-90ca-56df2d709648');\n",
              "          const dataTable =\n",
              "            await google.colab.kernel.invokeFunction('convertToInteractive',\n",
              "                                                     [key], {});\n",
              "          if (!dataTable) return;\n",
              "\n",
              "          const docLinkHtml = 'Like what you see? Visit the ' +\n",
              "            '<a target=\"_blank\" href=https://colab.research.google.com/notebooks/data_table.ipynb>data table notebook</a>'\n",
              "            + ' to learn more about interactive tables.';\n",
              "          element.innerHTML = '';\n",
              "          dataTable['output_type'] = 'display_data';\n",
              "          await google.colab.output.renderOutput(dataTable, element);\n",
              "          const docLink = document.createElement('div');\n",
              "          docLink.innerHTML = docLinkHtml;\n",
              "          element.appendChild(docLink);\n",
              "        }\n",
              "      </script>\n",
              "    </div>\n",
              "  </div>\n",
              "  "
            ]
          },
          "metadata": {},
          "execution_count": 11
        }
      ]
    },
    {
      "cell_type": "code",
      "source": [
        "df['Label Curah Hujan'].value_counts()"
      ],
      "metadata": {
        "execution": {
          "iopub.status.busy": "2022-09-17T16:31:27.472711Z",
          "iopub.execute_input": "2022-09-17T16:31:27.473916Z",
          "iopub.status.idle": "2022-09-17T16:31:27.484662Z",
          "shell.execute_reply.started": "2022-09-17T16:31:27.473888Z",
          "shell.execute_reply": "2022-09-17T16:31:27.483375Z"
        },
        "trusted": true,
        "id": "4ODqh0Y0ljsy",
        "colab": {
          "base_uri": "https://localhost:8080/"
        },
        "outputId": "5cba2c1e-0f54-4f8f-a946-d46f1ec03f10"
      },
      "execution_count": null,
      "outputs": [
        {
          "output_type": "execute_result",
          "data": {
            "text/plain": [
              "Hujan          2940\n",
              "Tidak Hujan    1078\n",
              "Name: Label Curah Hujan, dtype: int64"
            ]
          },
          "metadata": {},
          "execution_count": 12
        }
      ]
    },
    {
      "cell_type": "code",
      "source": [
        "for i in df.columns:\n",
        "    print(i)"
      ],
      "metadata": {
        "execution": {
          "iopub.status.busy": "2022-09-17T16:31:27.486392Z",
          "iopub.execute_input": "2022-09-17T16:31:27.486801Z",
          "iopub.status.idle": "2022-09-17T16:31:27.493269Z",
          "shell.execute_reply.started": "2022-09-17T16:31:27.486767Z",
          "shell.execute_reply": "2022-09-17T16:31:27.492178Z"
        },
        "trusted": true,
        "id": "QSHxxRQ1ljsz",
        "colab": {
          "base_uri": "https://localhost:8080/"
        },
        "outputId": "830e1aec-36bd-45c7-9830-247e4901b80c"
      },
      "execution_count": null,
      "outputs": [
        {
          "output_type": "stream",
          "name": "stdout",
          "text": [
            "Tahun\n",
            "Bulan\n",
            "Hari\n",
            "Curah_hujan\n",
            "Kelembaban\n",
            "Suhu_maks\n",
            "Suhu_min\n",
            "Tekanan\n",
            "Angin_permukaan\n",
            "Label Curah Hujan\n"
          ]
        }
      ]
    },
    {
      "cell_type": "code",
      "source": [
        "df.drop(['Tahun'],axis = 1,inplace=True)\n",
        "df.drop('Bulan',axis = 1,inplace=True)\n",
        "df.drop('Hari',axis = 1,inplace=True)\n",
        "df.drop('Curah_hujan',axis = 1,inplace=True)"
      ],
      "metadata": {
        "execution": {
          "iopub.status.busy": "2022-09-17T16:31:27.494819Z",
          "iopub.execute_input": "2022-09-17T16:31:27.495655Z",
          "iopub.status.idle": "2022-09-17T16:31:27.505461Z",
          "shell.execute_reply.started": "2022-09-17T16:31:27.495564Z",
          "shell.execute_reply": "2022-09-17T16:31:27.504521Z"
        },
        "trusted": true,
        "id": "QiLFbGNCljs1"
      },
      "execution_count": null,
      "outputs": []
    },
    {
      "cell_type": "code",
      "source": [
        "df.shape"
      ],
      "metadata": {
        "execution": {
          "iopub.status.busy": "2022-09-17T16:31:27.834971Z",
          "iopub.execute_input": "2022-09-17T16:31:27.835298Z",
          "iopub.status.idle": "2022-09-17T16:31:27.841695Z",
          "shell.execute_reply.started": "2022-09-17T16:31:27.835270Z",
          "shell.execute_reply": "2022-09-17T16:31:27.840658Z"
        },
        "trusted": true,
        "id": "Nz2_-uVCljs2",
        "colab": {
          "base_uri": "https://localhost:8080/"
        },
        "outputId": "4066c34c-839d-4c41-8b62-5275b6b6c4f5"
      },
      "execution_count": null,
      "outputs": [
        {
          "output_type": "execute_result",
          "data": {
            "text/plain": [
              "(4018, 6)"
            ]
          },
          "metadata": {},
          "execution_count": 15
        }
      ]
    },
    {
      "cell_type": "code",
      "source": [
        "df.info()"
      ],
      "metadata": {
        "execution": {
          "iopub.status.busy": "2022-09-17T16:31:28.675609Z",
          "iopub.execute_input": "2022-09-17T16:31:28.676707Z",
          "iopub.status.idle": "2022-09-17T16:31:28.691694Z",
          "shell.execute_reply.started": "2022-09-17T16:31:28.676665Z",
          "shell.execute_reply": "2022-09-17T16:31:28.690583Z"
        },
        "trusted": true,
        "id": "Kl8_xuphljs3",
        "colab": {
          "base_uri": "https://localhost:8080/"
        },
        "outputId": "af909bb9-c9bc-4ed9-8c6e-0720b29a88a5"
      },
      "execution_count": null,
      "outputs": [
        {
          "output_type": "stream",
          "name": "stdout",
          "text": [
            "<class 'pandas.core.frame.DataFrame'>\n",
            "RangeIndex: 4018 entries, 0 to 4017\n",
            "Data columns (total 6 columns):\n",
            " #   Column             Non-Null Count  Dtype  \n",
            "---  ------             --------------  -----  \n",
            " 0   Kelembaban         4018 non-null   float64\n",
            " 1   Suhu_maks          4018 non-null   float64\n",
            " 2   Suhu_min           4018 non-null   float64\n",
            " 3   Tekanan            4018 non-null   float64\n",
            " 4   Angin_permukaan    4018 non-null   float64\n",
            " 5   Label Curah Hujan  4018 non-null   object \n",
            "dtypes: float64(5), object(1)\n",
            "memory usage: 188.5+ KB\n"
          ]
        }
      ]
    },
    {
      "cell_type": "code",
      "source": [
        "df['Label Curah Hujan'].replace({'Tidak Hujan': 0, 'Hujan': 1},inplace = True)\n",
        "df"
      ],
      "metadata": {
        "execution": {
          "iopub.status.busy": "2022-09-17T16:31:29.452823Z",
          "iopub.execute_input": "2022-09-17T16:31:29.453635Z",
          "iopub.status.idle": "2022-09-17T16:31:29.475448Z",
          "shell.execute_reply.started": "2022-09-17T16:31:29.453591Z",
          "shell.execute_reply": "2022-09-17T16:31:29.474379Z"
        },
        "trusted": true,
        "id": "7aIvOzailjs4",
        "colab": {
          "base_uri": "https://localhost:8080/",
          "height": 424
        },
        "outputId": "bdec19e5-4761-44b2-d408-5ea68317d46a"
      },
      "execution_count": null,
      "outputs": [
        {
          "output_type": "execute_result",
          "data": {
            "text/plain": [
              "      Kelembaban  Suhu_maks  Suhu_min  Tekanan  Angin_permukaan  \\\n",
              "0          18.62      28.19     23.41   100.26             1.52   \n",
              "1          18.55      28.96     23.23   100.32             1.42   \n",
              "2          17.88      28.03     23.23   100.38             1.15   \n",
              "3          18.07      27.65     22.26   100.32             1.82   \n",
              "4          18.25      28.69     22.56   100.26             2.02   \n",
              "...          ...        ...       ...      ...              ...   \n",
              "4013       19.04      29.05     23.92   100.70             1.12   \n",
              "4014       19.04      28.31     23.78   100.63             1.44   \n",
              "4015       18.74      28.95     23.32   100.60             1.08   \n",
              "4016       19.23      30.69     22.70   100.55             1.27   \n",
              "4017       19.47      28.76     23.97   100.57             1.32   \n",
              "\n",
              "      Label Curah Hujan  \n",
              "0                     1  \n",
              "1                     1  \n",
              "2                     1  \n",
              "3                     1  \n",
              "4                     1  \n",
              "...                 ...  \n",
              "4013                  1  \n",
              "4014                  1  \n",
              "4015                  0  \n",
              "4016                  1  \n",
              "4017                  1  \n",
              "\n",
              "[4018 rows x 6 columns]"
            ],
            "text/html": [
              "\n",
              "  <div id=\"df-70a833be-0064-4297-8f7f-37898df42e80\">\n",
              "    <div class=\"colab-df-container\">\n",
              "      <div>\n",
              "<style scoped>\n",
              "    .dataframe tbody tr th:only-of-type {\n",
              "        vertical-align: middle;\n",
              "    }\n",
              "\n",
              "    .dataframe tbody tr th {\n",
              "        vertical-align: top;\n",
              "    }\n",
              "\n",
              "    .dataframe thead th {\n",
              "        text-align: right;\n",
              "    }\n",
              "</style>\n",
              "<table border=\"1\" class=\"dataframe\">\n",
              "  <thead>\n",
              "    <tr style=\"text-align: right;\">\n",
              "      <th></th>\n",
              "      <th>Kelembaban</th>\n",
              "      <th>Suhu_maks</th>\n",
              "      <th>Suhu_min</th>\n",
              "      <th>Tekanan</th>\n",
              "      <th>Angin_permukaan</th>\n",
              "      <th>Label Curah Hujan</th>\n",
              "    </tr>\n",
              "  </thead>\n",
              "  <tbody>\n",
              "    <tr>\n",
              "      <th>0</th>\n",
              "      <td>18.62</td>\n",
              "      <td>28.19</td>\n",
              "      <td>23.41</td>\n",
              "      <td>100.26</td>\n",
              "      <td>1.52</td>\n",
              "      <td>1</td>\n",
              "    </tr>\n",
              "    <tr>\n",
              "      <th>1</th>\n",
              "      <td>18.55</td>\n",
              "      <td>28.96</td>\n",
              "      <td>23.23</td>\n",
              "      <td>100.32</td>\n",
              "      <td>1.42</td>\n",
              "      <td>1</td>\n",
              "    </tr>\n",
              "    <tr>\n",
              "      <th>2</th>\n",
              "      <td>17.88</td>\n",
              "      <td>28.03</td>\n",
              "      <td>23.23</td>\n",
              "      <td>100.38</td>\n",
              "      <td>1.15</td>\n",
              "      <td>1</td>\n",
              "    </tr>\n",
              "    <tr>\n",
              "      <th>3</th>\n",
              "      <td>18.07</td>\n",
              "      <td>27.65</td>\n",
              "      <td>22.26</td>\n",
              "      <td>100.32</td>\n",
              "      <td>1.82</td>\n",
              "      <td>1</td>\n",
              "    </tr>\n",
              "    <tr>\n",
              "      <th>4</th>\n",
              "      <td>18.25</td>\n",
              "      <td>28.69</td>\n",
              "      <td>22.56</td>\n",
              "      <td>100.26</td>\n",
              "      <td>2.02</td>\n",
              "      <td>1</td>\n",
              "    </tr>\n",
              "    <tr>\n",
              "      <th>...</th>\n",
              "      <td>...</td>\n",
              "      <td>...</td>\n",
              "      <td>...</td>\n",
              "      <td>...</td>\n",
              "      <td>...</td>\n",
              "      <td>...</td>\n",
              "    </tr>\n",
              "    <tr>\n",
              "      <th>4013</th>\n",
              "      <td>19.04</td>\n",
              "      <td>29.05</td>\n",
              "      <td>23.92</td>\n",
              "      <td>100.70</td>\n",
              "      <td>1.12</td>\n",
              "      <td>1</td>\n",
              "    </tr>\n",
              "    <tr>\n",
              "      <th>4014</th>\n",
              "      <td>19.04</td>\n",
              "      <td>28.31</td>\n",
              "      <td>23.78</td>\n",
              "      <td>100.63</td>\n",
              "      <td>1.44</td>\n",
              "      <td>1</td>\n",
              "    </tr>\n",
              "    <tr>\n",
              "      <th>4015</th>\n",
              "      <td>18.74</td>\n",
              "      <td>28.95</td>\n",
              "      <td>23.32</td>\n",
              "      <td>100.60</td>\n",
              "      <td>1.08</td>\n",
              "      <td>0</td>\n",
              "    </tr>\n",
              "    <tr>\n",
              "      <th>4016</th>\n",
              "      <td>19.23</td>\n",
              "      <td>30.69</td>\n",
              "      <td>22.70</td>\n",
              "      <td>100.55</td>\n",
              "      <td>1.27</td>\n",
              "      <td>1</td>\n",
              "    </tr>\n",
              "    <tr>\n",
              "      <th>4017</th>\n",
              "      <td>19.47</td>\n",
              "      <td>28.76</td>\n",
              "      <td>23.97</td>\n",
              "      <td>100.57</td>\n",
              "      <td>1.32</td>\n",
              "      <td>1</td>\n",
              "    </tr>\n",
              "  </tbody>\n",
              "</table>\n",
              "<p>4018 rows × 6 columns</p>\n",
              "</div>\n",
              "      <button class=\"colab-df-convert\" onclick=\"convertToInteractive('df-70a833be-0064-4297-8f7f-37898df42e80')\"\n",
              "              title=\"Convert this dataframe to an interactive table.\"\n",
              "              style=\"display:none;\">\n",
              "        \n",
              "  <svg xmlns=\"http://www.w3.org/2000/svg\" height=\"24px\"viewBox=\"0 0 24 24\"\n",
              "       width=\"24px\">\n",
              "    <path d=\"M0 0h24v24H0V0z\" fill=\"none\"/>\n",
              "    <path d=\"M18.56 5.44l.94 2.06.94-2.06 2.06-.94-2.06-.94-.94-2.06-.94 2.06-2.06.94zm-11 1L8.5 8.5l.94-2.06 2.06-.94-2.06-.94L8.5 2.5l-.94 2.06-2.06.94zm10 10l.94 2.06.94-2.06 2.06-.94-2.06-.94-.94-2.06-.94 2.06-2.06.94z\"/><path d=\"M17.41 7.96l-1.37-1.37c-.4-.4-.92-.59-1.43-.59-.52 0-1.04.2-1.43.59L10.3 9.45l-7.72 7.72c-.78.78-.78 2.05 0 2.83L4 21.41c.39.39.9.59 1.41.59.51 0 1.02-.2 1.41-.59l7.78-7.78 2.81-2.81c.8-.78.8-2.07 0-2.86zM5.41 20L4 18.59l7.72-7.72 1.47 1.35L5.41 20z\"/>\n",
              "  </svg>\n",
              "      </button>\n",
              "      \n",
              "  <style>\n",
              "    .colab-df-container {\n",
              "      display:flex;\n",
              "      flex-wrap:wrap;\n",
              "      gap: 12px;\n",
              "    }\n",
              "\n",
              "    .colab-df-convert {\n",
              "      background-color: #E8F0FE;\n",
              "      border: none;\n",
              "      border-radius: 50%;\n",
              "      cursor: pointer;\n",
              "      display: none;\n",
              "      fill: #1967D2;\n",
              "      height: 32px;\n",
              "      padding: 0 0 0 0;\n",
              "      width: 32px;\n",
              "    }\n",
              "\n",
              "    .colab-df-convert:hover {\n",
              "      background-color: #E2EBFA;\n",
              "      box-shadow: 0px 1px 2px rgba(60, 64, 67, 0.3), 0px 1px 3px 1px rgba(60, 64, 67, 0.15);\n",
              "      fill: #174EA6;\n",
              "    }\n",
              "\n",
              "    [theme=dark] .colab-df-convert {\n",
              "      background-color: #3B4455;\n",
              "      fill: #D2E3FC;\n",
              "    }\n",
              "\n",
              "    [theme=dark] .colab-df-convert:hover {\n",
              "      background-color: #434B5C;\n",
              "      box-shadow: 0px 1px 3px 1px rgba(0, 0, 0, 0.15);\n",
              "      filter: drop-shadow(0px 1px 2px rgba(0, 0, 0, 0.3));\n",
              "      fill: #FFFFFF;\n",
              "    }\n",
              "  </style>\n",
              "\n",
              "      <script>\n",
              "        const buttonEl =\n",
              "          document.querySelector('#df-70a833be-0064-4297-8f7f-37898df42e80 button.colab-df-convert');\n",
              "        buttonEl.style.display =\n",
              "          google.colab.kernel.accessAllowed ? 'block' : 'none';\n",
              "\n",
              "        async function convertToInteractive(key) {\n",
              "          const element = document.querySelector('#df-70a833be-0064-4297-8f7f-37898df42e80');\n",
              "          const dataTable =\n",
              "            await google.colab.kernel.invokeFunction('convertToInteractive',\n",
              "                                                     [key], {});\n",
              "          if (!dataTable) return;\n",
              "\n",
              "          const docLinkHtml = 'Like what you see? Visit the ' +\n",
              "            '<a target=\"_blank\" href=https://colab.research.google.com/notebooks/data_table.ipynb>data table notebook</a>'\n",
              "            + ' to learn more about interactive tables.';\n",
              "          element.innerHTML = '';\n",
              "          dataTable['output_type'] = 'display_data';\n",
              "          await google.colab.output.renderOutput(dataTable, element);\n",
              "          const docLink = document.createElement('div');\n",
              "          docLink.innerHTML = docLinkHtml;\n",
              "          element.appendChild(docLink);\n",
              "        }\n",
              "      </script>\n",
              "    </div>\n",
              "  </div>\n",
              "  "
            ]
          },
          "metadata": {},
          "execution_count": 17
        }
      ]
    },
    {
      "cell_type": "code",
      "source": [
        "df['Label Curah Hujan']=df['Label Curah Hujan'].astype('category')"
      ],
      "metadata": {
        "execution": {
          "iopub.status.busy": "2022-09-17T16:31:30.902628Z",
          "iopub.execute_input": "2022-09-17T16:31:30.903433Z",
          "iopub.status.idle": "2022-09-17T16:31:30.910610Z",
          "shell.execute_reply.started": "2022-09-17T16:31:30.903386Z",
          "shell.execute_reply": "2022-09-17T16:31:30.909678Z"
        },
        "trusted": true,
        "id": "jb2dc1oXljs4"
      },
      "execution_count": null,
      "outputs": []
    },
    {
      "cell_type": "code",
      "source": [
        "df.info()"
      ],
      "metadata": {
        "execution": {
          "iopub.status.busy": "2022-09-17T16:31:31.262452Z",
          "iopub.execute_input": "2022-09-17T16:31:31.262903Z",
          "iopub.status.idle": "2022-09-17T16:31:31.285316Z",
          "shell.execute_reply.started": "2022-09-17T16:31:31.262870Z",
          "shell.execute_reply": "2022-09-17T16:31:31.284392Z"
        },
        "trusted": true,
        "id": "xb_5zq_Aljs5",
        "colab": {
          "base_uri": "https://localhost:8080/"
        },
        "outputId": "e17880d7-05a4-4ec3-fc7b-10de5dd09880"
      },
      "execution_count": null,
      "outputs": [
        {
          "output_type": "stream",
          "name": "stdout",
          "text": [
            "<class 'pandas.core.frame.DataFrame'>\n",
            "RangeIndex: 4018 entries, 0 to 4017\n",
            "Data columns (total 6 columns):\n",
            " #   Column             Non-Null Count  Dtype   \n",
            "---  ------             --------------  -----   \n",
            " 0   Kelembaban         4018 non-null   float64 \n",
            " 1   Suhu_maks          4018 non-null   float64 \n",
            " 2   Suhu_min           4018 non-null   float64 \n",
            " 3   Tekanan            4018 non-null   float64 \n",
            " 4   Angin_permukaan    4018 non-null   float64 \n",
            " 5   Label Curah Hujan  4018 non-null   category\n",
            "dtypes: category(1), float64(5)\n",
            "memory usage: 161.1 KB\n"
          ]
        }
      ]
    },
    {
      "cell_type": "code",
      "source": [
        "df.head()"
      ],
      "metadata": {
        "execution": {
          "iopub.status.busy": "2022-09-17T16:31:31.545951Z",
          "iopub.execute_input": "2022-09-17T16:31:31.546343Z",
          "iopub.status.idle": "2022-09-17T16:31:31.560596Z",
          "shell.execute_reply.started": "2022-09-17T16:31:31.546313Z",
          "shell.execute_reply": "2022-09-17T16:31:31.559028Z"
        },
        "trusted": true,
        "id": "SP-caFw8ljs6",
        "colab": {
          "base_uri": "https://localhost:8080/",
          "height": 206
        },
        "outputId": "c2eeb065-465a-4e77-b0b6-c3f8bc2e3a85"
      },
      "execution_count": null,
      "outputs": [
        {
          "output_type": "execute_result",
          "data": {
            "text/plain": [
              "   Kelembaban  Suhu_maks  Suhu_min  Tekanan  Angin_permukaan Label Curah Hujan\n",
              "0       18.62      28.19     23.41   100.26             1.52                 1\n",
              "1       18.55      28.96     23.23   100.32             1.42                 1\n",
              "2       17.88      28.03     23.23   100.38             1.15                 1\n",
              "3       18.07      27.65     22.26   100.32             1.82                 1\n",
              "4       18.25      28.69     22.56   100.26             2.02                 1"
            ],
            "text/html": [
              "\n",
              "  <div id=\"df-94d7f1e2-8631-4998-9b82-d9a82f45c9e6\">\n",
              "    <div class=\"colab-df-container\">\n",
              "      <div>\n",
              "<style scoped>\n",
              "    .dataframe tbody tr th:only-of-type {\n",
              "        vertical-align: middle;\n",
              "    }\n",
              "\n",
              "    .dataframe tbody tr th {\n",
              "        vertical-align: top;\n",
              "    }\n",
              "\n",
              "    .dataframe thead th {\n",
              "        text-align: right;\n",
              "    }\n",
              "</style>\n",
              "<table border=\"1\" class=\"dataframe\">\n",
              "  <thead>\n",
              "    <tr style=\"text-align: right;\">\n",
              "      <th></th>\n",
              "      <th>Kelembaban</th>\n",
              "      <th>Suhu_maks</th>\n",
              "      <th>Suhu_min</th>\n",
              "      <th>Tekanan</th>\n",
              "      <th>Angin_permukaan</th>\n",
              "      <th>Label Curah Hujan</th>\n",
              "    </tr>\n",
              "  </thead>\n",
              "  <tbody>\n",
              "    <tr>\n",
              "      <th>0</th>\n",
              "      <td>18.62</td>\n",
              "      <td>28.19</td>\n",
              "      <td>23.41</td>\n",
              "      <td>100.26</td>\n",
              "      <td>1.52</td>\n",
              "      <td>1</td>\n",
              "    </tr>\n",
              "    <tr>\n",
              "      <th>1</th>\n",
              "      <td>18.55</td>\n",
              "      <td>28.96</td>\n",
              "      <td>23.23</td>\n",
              "      <td>100.32</td>\n",
              "      <td>1.42</td>\n",
              "      <td>1</td>\n",
              "    </tr>\n",
              "    <tr>\n",
              "      <th>2</th>\n",
              "      <td>17.88</td>\n",
              "      <td>28.03</td>\n",
              "      <td>23.23</td>\n",
              "      <td>100.38</td>\n",
              "      <td>1.15</td>\n",
              "      <td>1</td>\n",
              "    </tr>\n",
              "    <tr>\n",
              "      <th>3</th>\n",
              "      <td>18.07</td>\n",
              "      <td>27.65</td>\n",
              "      <td>22.26</td>\n",
              "      <td>100.32</td>\n",
              "      <td>1.82</td>\n",
              "      <td>1</td>\n",
              "    </tr>\n",
              "    <tr>\n",
              "      <th>4</th>\n",
              "      <td>18.25</td>\n",
              "      <td>28.69</td>\n",
              "      <td>22.56</td>\n",
              "      <td>100.26</td>\n",
              "      <td>2.02</td>\n",
              "      <td>1</td>\n",
              "    </tr>\n",
              "  </tbody>\n",
              "</table>\n",
              "</div>\n",
              "      <button class=\"colab-df-convert\" onclick=\"convertToInteractive('df-94d7f1e2-8631-4998-9b82-d9a82f45c9e6')\"\n",
              "              title=\"Convert this dataframe to an interactive table.\"\n",
              "              style=\"display:none;\">\n",
              "        \n",
              "  <svg xmlns=\"http://www.w3.org/2000/svg\" height=\"24px\"viewBox=\"0 0 24 24\"\n",
              "       width=\"24px\">\n",
              "    <path d=\"M0 0h24v24H0V0z\" fill=\"none\"/>\n",
              "    <path d=\"M18.56 5.44l.94 2.06.94-2.06 2.06-.94-2.06-.94-.94-2.06-.94 2.06-2.06.94zm-11 1L8.5 8.5l.94-2.06 2.06-.94-2.06-.94L8.5 2.5l-.94 2.06-2.06.94zm10 10l.94 2.06.94-2.06 2.06-.94-2.06-.94-.94-2.06-.94 2.06-2.06.94z\"/><path d=\"M17.41 7.96l-1.37-1.37c-.4-.4-.92-.59-1.43-.59-.52 0-1.04.2-1.43.59L10.3 9.45l-7.72 7.72c-.78.78-.78 2.05 0 2.83L4 21.41c.39.39.9.59 1.41.59.51 0 1.02-.2 1.41-.59l7.78-7.78 2.81-2.81c.8-.78.8-2.07 0-2.86zM5.41 20L4 18.59l7.72-7.72 1.47 1.35L5.41 20z\"/>\n",
              "  </svg>\n",
              "      </button>\n",
              "      \n",
              "  <style>\n",
              "    .colab-df-container {\n",
              "      display:flex;\n",
              "      flex-wrap:wrap;\n",
              "      gap: 12px;\n",
              "    }\n",
              "\n",
              "    .colab-df-convert {\n",
              "      background-color: #E8F0FE;\n",
              "      border: none;\n",
              "      border-radius: 50%;\n",
              "      cursor: pointer;\n",
              "      display: none;\n",
              "      fill: #1967D2;\n",
              "      height: 32px;\n",
              "      padding: 0 0 0 0;\n",
              "      width: 32px;\n",
              "    }\n",
              "\n",
              "    .colab-df-convert:hover {\n",
              "      background-color: #E2EBFA;\n",
              "      box-shadow: 0px 1px 2px rgba(60, 64, 67, 0.3), 0px 1px 3px 1px rgba(60, 64, 67, 0.15);\n",
              "      fill: #174EA6;\n",
              "    }\n",
              "\n",
              "    [theme=dark] .colab-df-convert {\n",
              "      background-color: #3B4455;\n",
              "      fill: #D2E3FC;\n",
              "    }\n",
              "\n",
              "    [theme=dark] .colab-df-convert:hover {\n",
              "      background-color: #434B5C;\n",
              "      box-shadow: 0px 1px 3px 1px rgba(0, 0, 0, 0.15);\n",
              "      filter: drop-shadow(0px 1px 2px rgba(0, 0, 0, 0.3));\n",
              "      fill: #FFFFFF;\n",
              "    }\n",
              "  </style>\n",
              "\n",
              "      <script>\n",
              "        const buttonEl =\n",
              "          document.querySelector('#df-94d7f1e2-8631-4998-9b82-d9a82f45c9e6 button.colab-df-convert');\n",
              "        buttonEl.style.display =\n",
              "          google.colab.kernel.accessAllowed ? 'block' : 'none';\n",
              "\n",
              "        async function convertToInteractive(key) {\n",
              "          const element = document.querySelector('#df-94d7f1e2-8631-4998-9b82-d9a82f45c9e6');\n",
              "          const dataTable =\n",
              "            await google.colab.kernel.invokeFunction('convertToInteractive',\n",
              "                                                     [key], {});\n",
              "          if (!dataTable) return;\n",
              "\n",
              "          const docLinkHtml = 'Like what you see? Visit the ' +\n",
              "            '<a target=\"_blank\" href=https://colab.research.google.com/notebooks/data_table.ipynb>data table notebook</a>'\n",
              "            + ' to learn more about interactive tables.';\n",
              "          element.innerHTML = '';\n",
              "          dataTable['output_type'] = 'display_data';\n",
              "          await google.colab.output.renderOutput(dataTable, element);\n",
              "          const docLink = document.createElement('div');\n",
              "          docLink.innerHTML = docLinkHtml;\n",
              "          element.appendChild(docLink);\n",
              "        }\n",
              "      </script>\n",
              "    </div>\n",
              "  </div>\n",
              "  "
            ]
          },
          "metadata": {},
          "execution_count": 20
        }
      ]
    },
    {
      "cell_type": "code",
      "source": [
        "X = df.drop(['Label Curah Hujan'], axis=1)\n",
        "y = df[['Label Curah Hujan']]"
      ],
      "metadata": {
        "execution": {
          "iopub.status.busy": "2022-09-17T16:31:31.746725Z",
          "iopub.execute_input": "2022-09-17T16:31:31.747500Z",
          "iopub.status.idle": "2022-09-17T16:31:31.754666Z",
          "shell.execute_reply.started": "2022-09-17T16:31:31.747451Z",
          "shell.execute_reply": "2022-09-17T16:31:31.753293Z"
        },
        "trusted": true,
        "id": "mXaA2xQmljs7"
      },
      "execution_count": null,
      "outputs": []
    },
    {
      "cell_type": "code",
      "source": [
        "X.head()"
      ],
      "metadata": {
        "execution": {
          "iopub.status.busy": "2022-09-17T16:31:32.152624Z",
          "iopub.execute_input": "2022-09-17T16:31:32.152985Z",
          "iopub.status.idle": "2022-09-17T16:31:32.166485Z",
          "shell.execute_reply.started": "2022-09-17T16:31:32.152954Z",
          "shell.execute_reply": "2022-09-17T16:31:32.165367Z"
        },
        "trusted": true,
        "id": "Ovrfi9ekljs8",
        "colab": {
          "base_uri": "https://localhost:8080/",
          "height": 206
        },
        "outputId": "78ad08d3-0412-4443-901b-135ca5f0b35c"
      },
      "execution_count": null,
      "outputs": [
        {
          "output_type": "execute_result",
          "data": {
            "text/plain": [
              "   Kelembaban  Suhu_maks  Suhu_min  Tekanan  Angin_permukaan\n",
              "0       18.62      28.19     23.41   100.26             1.52\n",
              "1       18.55      28.96     23.23   100.32             1.42\n",
              "2       17.88      28.03     23.23   100.38             1.15\n",
              "3       18.07      27.65     22.26   100.32             1.82\n",
              "4       18.25      28.69     22.56   100.26             2.02"
            ],
            "text/html": [
              "\n",
              "  <div id=\"df-471b723b-3784-47ee-bbf0-1da7c145ba04\">\n",
              "    <div class=\"colab-df-container\">\n",
              "      <div>\n",
              "<style scoped>\n",
              "    .dataframe tbody tr th:only-of-type {\n",
              "        vertical-align: middle;\n",
              "    }\n",
              "\n",
              "    .dataframe tbody tr th {\n",
              "        vertical-align: top;\n",
              "    }\n",
              "\n",
              "    .dataframe thead th {\n",
              "        text-align: right;\n",
              "    }\n",
              "</style>\n",
              "<table border=\"1\" class=\"dataframe\">\n",
              "  <thead>\n",
              "    <tr style=\"text-align: right;\">\n",
              "      <th></th>\n",
              "      <th>Kelembaban</th>\n",
              "      <th>Suhu_maks</th>\n",
              "      <th>Suhu_min</th>\n",
              "      <th>Tekanan</th>\n",
              "      <th>Angin_permukaan</th>\n",
              "    </tr>\n",
              "  </thead>\n",
              "  <tbody>\n",
              "    <tr>\n",
              "      <th>0</th>\n",
              "      <td>18.62</td>\n",
              "      <td>28.19</td>\n",
              "      <td>23.41</td>\n",
              "      <td>100.26</td>\n",
              "      <td>1.52</td>\n",
              "    </tr>\n",
              "    <tr>\n",
              "      <th>1</th>\n",
              "      <td>18.55</td>\n",
              "      <td>28.96</td>\n",
              "      <td>23.23</td>\n",
              "      <td>100.32</td>\n",
              "      <td>1.42</td>\n",
              "    </tr>\n",
              "    <tr>\n",
              "      <th>2</th>\n",
              "      <td>17.88</td>\n",
              "      <td>28.03</td>\n",
              "      <td>23.23</td>\n",
              "      <td>100.38</td>\n",
              "      <td>1.15</td>\n",
              "    </tr>\n",
              "    <tr>\n",
              "      <th>3</th>\n",
              "      <td>18.07</td>\n",
              "      <td>27.65</td>\n",
              "      <td>22.26</td>\n",
              "      <td>100.32</td>\n",
              "      <td>1.82</td>\n",
              "    </tr>\n",
              "    <tr>\n",
              "      <th>4</th>\n",
              "      <td>18.25</td>\n",
              "      <td>28.69</td>\n",
              "      <td>22.56</td>\n",
              "      <td>100.26</td>\n",
              "      <td>2.02</td>\n",
              "    </tr>\n",
              "  </tbody>\n",
              "</table>\n",
              "</div>\n",
              "      <button class=\"colab-df-convert\" onclick=\"convertToInteractive('df-471b723b-3784-47ee-bbf0-1da7c145ba04')\"\n",
              "              title=\"Convert this dataframe to an interactive table.\"\n",
              "              style=\"display:none;\">\n",
              "        \n",
              "  <svg xmlns=\"http://www.w3.org/2000/svg\" height=\"24px\"viewBox=\"0 0 24 24\"\n",
              "       width=\"24px\">\n",
              "    <path d=\"M0 0h24v24H0V0z\" fill=\"none\"/>\n",
              "    <path d=\"M18.56 5.44l.94 2.06.94-2.06 2.06-.94-2.06-.94-.94-2.06-.94 2.06-2.06.94zm-11 1L8.5 8.5l.94-2.06 2.06-.94-2.06-.94L8.5 2.5l-.94 2.06-2.06.94zm10 10l.94 2.06.94-2.06 2.06-.94-2.06-.94-.94-2.06-.94 2.06-2.06.94z\"/><path d=\"M17.41 7.96l-1.37-1.37c-.4-.4-.92-.59-1.43-.59-.52 0-1.04.2-1.43.59L10.3 9.45l-7.72 7.72c-.78.78-.78 2.05 0 2.83L4 21.41c.39.39.9.59 1.41.59.51 0 1.02-.2 1.41-.59l7.78-7.78 2.81-2.81c.8-.78.8-2.07 0-2.86zM5.41 20L4 18.59l7.72-7.72 1.47 1.35L5.41 20z\"/>\n",
              "  </svg>\n",
              "      </button>\n",
              "      \n",
              "  <style>\n",
              "    .colab-df-container {\n",
              "      display:flex;\n",
              "      flex-wrap:wrap;\n",
              "      gap: 12px;\n",
              "    }\n",
              "\n",
              "    .colab-df-convert {\n",
              "      background-color: #E8F0FE;\n",
              "      border: none;\n",
              "      border-radius: 50%;\n",
              "      cursor: pointer;\n",
              "      display: none;\n",
              "      fill: #1967D2;\n",
              "      height: 32px;\n",
              "      padding: 0 0 0 0;\n",
              "      width: 32px;\n",
              "    }\n",
              "\n",
              "    .colab-df-convert:hover {\n",
              "      background-color: #E2EBFA;\n",
              "      box-shadow: 0px 1px 2px rgba(60, 64, 67, 0.3), 0px 1px 3px 1px rgba(60, 64, 67, 0.15);\n",
              "      fill: #174EA6;\n",
              "    }\n",
              "\n",
              "    [theme=dark] .colab-df-convert {\n",
              "      background-color: #3B4455;\n",
              "      fill: #D2E3FC;\n",
              "    }\n",
              "\n",
              "    [theme=dark] .colab-df-convert:hover {\n",
              "      background-color: #434B5C;\n",
              "      box-shadow: 0px 1px 3px 1px rgba(0, 0, 0, 0.15);\n",
              "      filter: drop-shadow(0px 1px 2px rgba(0, 0, 0, 0.3));\n",
              "      fill: #FFFFFF;\n",
              "    }\n",
              "  </style>\n",
              "\n",
              "      <script>\n",
              "        const buttonEl =\n",
              "          document.querySelector('#df-471b723b-3784-47ee-bbf0-1da7c145ba04 button.colab-df-convert');\n",
              "        buttonEl.style.display =\n",
              "          google.colab.kernel.accessAllowed ? 'block' : 'none';\n",
              "\n",
              "        async function convertToInteractive(key) {\n",
              "          const element = document.querySelector('#df-471b723b-3784-47ee-bbf0-1da7c145ba04');\n",
              "          const dataTable =\n",
              "            await google.colab.kernel.invokeFunction('convertToInteractive',\n",
              "                                                     [key], {});\n",
              "          if (!dataTable) return;\n",
              "\n",
              "          const docLinkHtml = 'Like what you see? Visit the ' +\n",
              "            '<a target=\"_blank\" href=https://colab.research.google.com/notebooks/data_table.ipynb>data table notebook</a>'\n",
              "            + ' to learn more about interactive tables.';\n",
              "          element.innerHTML = '';\n",
              "          dataTable['output_type'] = 'display_data';\n",
              "          await google.colab.output.renderOutput(dataTable, element);\n",
              "          const docLink = document.createElement('div');\n",
              "          docLink.innerHTML = docLinkHtml;\n",
              "          element.appendChild(docLink);\n",
              "        }\n",
              "      </script>\n",
              "    </div>\n",
              "  </div>\n",
              "  "
            ]
          },
          "metadata": {},
          "execution_count": 22
        }
      ]
    },
    {
      "cell_type": "code",
      "source": [
        "y.head()"
      ],
      "metadata": {
        "execution": {
          "iopub.status.busy": "2022-09-17T16:31:32.626850Z",
          "iopub.execute_input": "2022-09-17T16:31:32.627656Z",
          "iopub.status.idle": "2022-09-17T16:31:32.638852Z",
          "shell.execute_reply.started": "2022-09-17T16:31:32.627612Z",
          "shell.execute_reply": "2022-09-17T16:31:32.637795Z"
        },
        "trusted": true,
        "id": "obaPKUVZljs8",
        "colab": {
          "base_uri": "https://localhost:8080/",
          "height": 206
        },
        "outputId": "ec022385-6f43-4008-cc59-c7968178821b"
      },
      "execution_count": null,
      "outputs": [
        {
          "output_type": "execute_result",
          "data": {
            "text/plain": [
              "  Label Curah Hujan\n",
              "0                 1\n",
              "1                 1\n",
              "2                 1\n",
              "3                 1\n",
              "4                 1"
            ],
            "text/html": [
              "\n",
              "  <div id=\"df-14782883-843f-4211-951a-166f74666d67\">\n",
              "    <div class=\"colab-df-container\">\n",
              "      <div>\n",
              "<style scoped>\n",
              "    .dataframe tbody tr th:only-of-type {\n",
              "        vertical-align: middle;\n",
              "    }\n",
              "\n",
              "    .dataframe tbody tr th {\n",
              "        vertical-align: top;\n",
              "    }\n",
              "\n",
              "    .dataframe thead th {\n",
              "        text-align: right;\n",
              "    }\n",
              "</style>\n",
              "<table border=\"1\" class=\"dataframe\">\n",
              "  <thead>\n",
              "    <tr style=\"text-align: right;\">\n",
              "      <th></th>\n",
              "      <th>Label Curah Hujan</th>\n",
              "    </tr>\n",
              "  </thead>\n",
              "  <tbody>\n",
              "    <tr>\n",
              "      <th>0</th>\n",
              "      <td>1</td>\n",
              "    </tr>\n",
              "    <tr>\n",
              "      <th>1</th>\n",
              "      <td>1</td>\n",
              "    </tr>\n",
              "    <tr>\n",
              "      <th>2</th>\n",
              "      <td>1</td>\n",
              "    </tr>\n",
              "    <tr>\n",
              "      <th>3</th>\n",
              "      <td>1</td>\n",
              "    </tr>\n",
              "    <tr>\n",
              "      <th>4</th>\n",
              "      <td>1</td>\n",
              "    </tr>\n",
              "  </tbody>\n",
              "</table>\n",
              "</div>\n",
              "      <button class=\"colab-df-convert\" onclick=\"convertToInteractive('df-14782883-843f-4211-951a-166f74666d67')\"\n",
              "              title=\"Convert this dataframe to an interactive table.\"\n",
              "              style=\"display:none;\">\n",
              "        \n",
              "  <svg xmlns=\"http://www.w3.org/2000/svg\" height=\"24px\"viewBox=\"0 0 24 24\"\n",
              "       width=\"24px\">\n",
              "    <path d=\"M0 0h24v24H0V0z\" fill=\"none\"/>\n",
              "    <path d=\"M18.56 5.44l.94 2.06.94-2.06 2.06-.94-2.06-.94-.94-2.06-.94 2.06-2.06.94zm-11 1L8.5 8.5l.94-2.06 2.06-.94-2.06-.94L8.5 2.5l-.94 2.06-2.06.94zm10 10l.94 2.06.94-2.06 2.06-.94-2.06-.94-.94-2.06-.94 2.06-2.06.94z\"/><path d=\"M17.41 7.96l-1.37-1.37c-.4-.4-.92-.59-1.43-.59-.52 0-1.04.2-1.43.59L10.3 9.45l-7.72 7.72c-.78.78-.78 2.05 0 2.83L4 21.41c.39.39.9.59 1.41.59.51 0 1.02-.2 1.41-.59l7.78-7.78 2.81-2.81c.8-.78.8-2.07 0-2.86zM5.41 20L4 18.59l7.72-7.72 1.47 1.35L5.41 20z\"/>\n",
              "  </svg>\n",
              "      </button>\n",
              "      \n",
              "  <style>\n",
              "    .colab-df-container {\n",
              "      display:flex;\n",
              "      flex-wrap:wrap;\n",
              "      gap: 12px;\n",
              "    }\n",
              "\n",
              "    .colab-df-convert {\n",
              "      background-color: #E8F0FE;\n",
              "      border: none;\n",
              "      border-radius: 50%;\n",
              "      cursor: pointer;\n",
              "      display: none;\n",
              "      fill: #1967D2;\n",
              "      height: 32px;\n",
              "      padding: 0 0 0 0;\n",
              "      width: 32px;\n",
              "    }\n",
              "\n",
              "    .colab-df-convert:hover {\n",
              "      background-color: #E2EBFA;\n",
              "      box-shadow: 0px 1px 2px rgba(60, 64, 67, 0.3), 0px 1px 3px 1px rgba(60, 64, 67, 0.15);\n",
              "      fill: #174EA6;\n",
              "    }\n",
              "\n",
              "    [theme=dark] .colab-df-convert {\n",
              "      background-color: #3B4455;\n",
              "      fill: #D2E3FC;\n",
              "    }\n",
              "\n",
              "    [theme=dark] .colab-df-convert:hover {\n",
              "      background-color: #434B5C;\n",
              "      box-shadow: 0px 1px 3px 1px rgba(0, 0, 0, 0.15);\n",
              "      filter: drop-shadow(0px 1px 2px rgba(0, 0, 0, 0.3));\n",
              "      fill: #FFFFFF;\n",
              "    }\n",
              "  </style>\n",
              "\n",
              "      <script>\n",
              "        const buttonEl =\n",
              "          document.querySelector('#df-14782883-843f-4211-951a-166f74666d67 button.colab-df-convert');\n",
              "        buttonEl.style.display =\n",
              "          google.colab.kernel.accessAllowed ? 'block' : 'none';\n",
              "\n",
              "        async function convertToInteractive(key) {\n",
              "          const element = document.querySelector('#df-14782883-843f-4211-951a-166f74666d67');\n",
              "          const dataTable =\n",
              "            await google.colab.kernel.invokeFunction('convertToInteractive',\n",
              "                                                     [key], {});\n",
              "          if (!dataTable) return;\n",
              "\n",
              "          const docLinkHtml = 'Like what you see? Visit the ' +\n",
              "            '<a target=\"_blank\" href=https://colab.research.google.com/notebooks/data_table.ipynb>data table notebook</a>'\n",
              "            + ' to learn more about interactive tables.';\n",
              "          element.innerHTML = '';\n",
              "          dataTable['output_type'] = 'display_data';\n",
              "          await google.colab.output.renderOutput(dataTable, element);\n",
              "          const docLink = document.createElement('div');\n",
              "          docLink.innerHTML = docLinkHtml;\n",
              "          element.appendChild(docLink);\n",
              "        }\n",
              "      </script>\n",
              "    </div>\n",
              "  </div>\n",
              "  "
            ]
          },
          "metadata": {},
          "execution_count": 23
        }
      ]
    },
    {
      "cell_type": "code",
      "source": [
        "from sklearn.model_selection import train_test_split\n",
        "X_train, X_test, y_train, y_test = train_test_split(X, y, test_size=0.35, shuffle=False) \n",
        "print(\"Jumlah Data X_train = \",X_train.shape)\n",
        "print(\"Jumlah Data Y_train = \",y_train.shape)\n",
        "print(\"Jumlah Data X_test = \",X_test.shape)\n",
        "print(\"Jumlah Data Y_test = \",y_test.shape)"
      ],
      "metadata": {
        "execution": {
          "iopub.status.busy": "2022-09-17T16:31:33.086818Z",
          "iopub.execute_input": "2022-09-17T16:31:33.087212Z",
          "iopub.status.idle": "2022-09-17T16:31:33.096891Z",
          "shell.execute_reply.started": "2022-09-17T16:31:33.087179Z",
          "shell.execute_reply": "2022-09-17T16:31:33.095917Z"
        },
        "trusted": true,
        "id": "-AlRGjErljs9",
        "colab": {
          "base_uri": "https://localhost:8080/"
        },
        "outputId": "e32bdec3-b33b-42a5-93f5-16d3b70da4c2"
      },
      "execution_count": null,
      "outputs": [
        {
          "output_type": "stream",
          "name": "stdout",
          "text": [
            "Jumlah Data X_train =  (2611, 5)\n",
            "Jumlah Data Y_train =  (2611, 1)\n",
            "Jumlah Data X_test =  (1407, 5)\n",
            "Jumlah Data Y_test =  (1407, 1)\n"
          ]
        }
      ]
    },
    {
      "cell_type": "code",
      "source": [
        "from tensorflow.keras.layers import Dense,Flatten,Dropout\n",
        "from tensorflow.keras import Sequential\n",
        "from sklearn.metrics import classification_report\n",
        "from sklearn.metrics import accuracy_score\n",
        "from ann_visualizer.visualize import ann_viz\n",
        "import graphviz\n",
        "import matplotlib.pyplot as plt\n",
        "import seaborn as sns"
      ],
      "metadata": {
        "execution": {
          "iopub.status.busy": "2022-09-17T16:31:33.884931Z",
          "iopub.execute_input": "2022-09-17T16:31:33.885937Z",
          "iopub.status.idle": "2022-09-17T16:31:34.201915Z",
          "shell.execute_reply.started": "2022-09-17T16:31:33.885895Z",
          "shell.execute_reply": "2022-09-17T16:31:34.200907Z"
        },
        "trusted": true,
        "id": "Kru0Re-Dljs-"
      },
      "execution_count": null,
      "outputs": []
    },
    {
      "cell_type": "code",
      "source": [
        "model = Sequential()\n",
        "model.add(Dense(15, input_dim=5, activation='sigmoid'))\n",
        "model.add(Dense(1, activation='sigmoid'))\n",
        "# Compile model\"\n",
        "model.compile(loss='binary_crossentropy', optimizer='adam', metrics=['accuracy'])\n",
        "# Fit the model\n",
        "model.fit(X_train, y_train, epochs=30, batch_size=10)\n",
        "# evaluate the model\n",
        "scores = model.evaluate(X, y)\n",
        "print(\"\\n%s: %.2f%%\" % (model.metrics_names[1], scores[1]*100))"
      ],
      "metadata": {
        "execution": {
          "iopub.status.busy": "2022-09-17T16:31:34.455416Z",
          "iopub.execute_input": "2022-09-17T16:31:34.456504Z",
          "iopub.status.idle": "2022-09-17T16:34:14.448262Z",
          "shell.execute_reply.started": "2022-09-17T16:31:34.456462Z",
          "shell.execute_reply": "2022-09-17T16:34:14.447237Z"
        },
        "trusted": true,
        "id": "1ltVCc0kljs_",
        "colab": {
          "base_uri": "https://localhost:8080/"
        },
        "outputId": "f78d0b42-50fc-4ea8-fc97-eec394386237"
      },
      "execution_count": null,
      "outputs": [
        {
          "output_type": "stream",
          "name": "stdout",
          "text": [
            "Epoch 1/30\n",
            "262/262 [==============================] - 2s 4ms/step - loss: 0.6345 - accuracy: 0.6515\n",
            "Epoch 2/30\n",
            "262/262 [==============================] - 0s 2ms/step - loss: 0.5747 - accuracy: 0.7350\n",
            "Epoch 3/30\n",
            "262/262 [==============================] - 0s 2ms/step - loss: 0.5686 - accuracy: 0.7350\n",
            "Epoch 4/30\n",
            "262/262 [==============================] - 0s 2ms/step - loss: 0.5656 - accuracy: 0.7350\n",
            "Epoch 5/30\n",
            "262/262 [==============================] - 0s 2ms/step - loss: 0.5618 - accuracy: 0.7350\n",
            "Epoch 6/30\n",
            "262/262 [==============================] - 1s 2ms/step - loss: 0.5578 - accuracy: 0.7350\n",
            "Epoch 7/30\n",
            "262/262 [==============================] - 1s 2ms/step - loss: 0.5554 - accuracy: 0.7350\n",
            "Epoch 8/30\n",
            "262/262 [==============================] - 1s 3ms/step - loss: 0.5483 - accuracy: 0.7350\n",
            "Epoch 9/30\n",
            "262/262 [==============================] - 1s 2ms/step - loss: 0.5408 - accuracy: 0.7350\n",
            "Epoch 10/30\n",
            "262/262 [==============================] - 1s 2ms/step - loss: 0.5350 - accuracy: 0.7350\n",
            "Epoch 11/30\n",
            "262/262 [==============================] - 1s 2ms/step - loss: 0.5265 - accuracy: 0.7350\n",
            "Epoch 12/30\n",
            "262/262 [==============================] - 1s 2ms/step - loss: 0.5214 - accuracy: 0.7350\n",
            "Epoch 13/30\n",
            "262/262 [==============================] - 0s 2ms/step - loss: 0.5124 - accuracy: 0.7380\n",
            "Epoch 14/30\n",
            "262/262 [==============================] - 0s 2ms/step - loss: 0.5056 - accuracy: 0.7442\n",
            "Epoch 15/30\n",
            "262/262 [==============================] - 1s 2ms/step - loss: 0.4995 - accuracy: 0.7610\n",
            "Epoch 16/30\n",
            "262/262 [==============================] - 1s 2ms/step - loss: 0.4948 - accuracy: 0.7714\n",
            "Epoch 17/30\n",
            "262/262 [==============================] - 0s 2ms/step - loss: 0.4878 - accuracy: 0.7805\n",
            "Epoch 18/30\n",
            "262/262 [==============================] - 1s 2ms/step - loss: 0.4823 - accuracy: 0.7909\n",
            "Epoch 19/30\n",
            "262/262 [==============================] - 1s 2ms/step - loss: 0.4761 - accuracy: 0.7920\n",
            "Epoch 20/30\n",
            "262/262 [==============================] - 0s 2ms/step - loss: 0.4737 - accuracy: 0.8016\n",
            "Epoch 21/30\n",
            "262/262 [==============================] - 0s 2ms/step - loss: 0.4707 - accuracy: 0.8001\n",
            "Epoch 22/30\n",
            "262/262 [==============================] - 0s 2ms/step - loss: 0.4662 - accuracy: 0.8066\n",
            "Epoch 23/30\n",
            "262/262 [==============================] - 0s 2ms/step - loss: 0.4625 - accuracy: 0.8077\n",
            "Epoch 24/30\n",
            "262/262 [==============================] - 0s 2ms/step - loss: 0.4590 - accuracy: 0.8028\n",
            "Epoch 25/30\n",
            "262/262 [==============================] - 0s 2ms/step - loss: 0.4587 - accuracy: 0.8093\n",
            "Epoch 26/30\n",
            "262/262 [==============================] - 0s 2ms/step - loss: 0.4549 - accuracy: 0.8146\n",
            "Epoch 27/30\n",
            "262/262 [==============================] - 0s 2ms/step - loss: 0.4544 - accuracy: 0.8104\n",
            "Epoch 28/30\n",
            "262/262 [==============================] - 0s 2ms/step - loss: 0.4528 - accuracy: 0.8077\n",
            "Epoch 29/30\n",
            "262/262 [==============================] - 1s 2ms/step - loss: 0.4563 - accuracy: 0.8047\n",
            "Epoch 30/30\n",
            "262/262 [==============================] - 1s 2ms/step - loss: 0.4514 - accuracy: 0.8123\n",
            "126/126 [==============================] - 0s 2ms/step - loss: 0.4453 - accuracy: 0.8111\n",
            "\n",
            "accuracy: 81.11%\n"
          ]
        }
      ]
    },
    {
      "cell_type": "code",
      "source": [
        "from sklearn.metrics import accuracy_score\n",
        "y_pred = model.predict(X_test)\n",
        "y_pred =(y_pred > 0.6)\n",
        "score = accuracy_score(y_test,y_pred)\n",
        "print('accuracy2 :',score)"
      ],
      "metadata": {
        "colab": {
          "base_uri": "https://localhost:8080/"
        },
        "id": "pRiSRmRJBku5",
        "outputId": "d970c2c8-a8b1-4a27-b968-4aac158f4396"
      },
      "execution_count": null,
      "outputs": [
        {
          "output_type": "stream",
          "name": "stdout",
          "text": [
            "accuracy2 : 0.8173418621179815\n"
          ]
        }
      ]
    },
    {
      "cell_type": "code",
      "source": [
        "model.summary()"
      ],
      "metadata": {
        "id": "C4CoRpymngN6",
        "colab": {
          "base_uri": "https://localhost:8080/"
        },
        "outputId": "061ed5d4-2d5b-4cc5-8962-baa1ac330700"
      },
      "execution_count": null,
      "outputs": [
        {
          "output_type": "stream",
          "name": "stdout",
          "text": [
            "Model: \"sequential_17\"\n",
            "_________________________________________________________________\n",
            " Layer (type)                Output Shape              Param #   \n",
            "=================================================================\n",
            " dense_44 (Dense)            (None, 15)                90        \n",
            "                                                                 \n",
            " dense_45 (Dense)            (None, 1)                 16        \n",
            "                                                                 \n",
            "=================================================================\n",
            "Total params: 106\n",
            "Trainable params: 106\n",
            "Non-trainable params: 0\n",
            "_________________________________________________________________\n"
          ]
        }
      ]
    },
    {
      "cell_type": "code",
      "source": [
        "from tensorflow.keras.utils import plot_model\n"
      ],
      "metadata": {
        "id": "lbPq3jyOljtA"
      },
      "execution_count": null,
      "outputs": []
    },
    {
      "cell_type": "code",
      "source": [
        "plot_model(model, to_file='modelfix.png', show_shapes=False)"
      ],
      "metadata": {
        "id": "nh4yvw8Ynwyn",
        "colab": {
          "base_uri": "https://localhost:8080/",
          "height": 272
        },
        "outputId": "cf57c2b2-5306-48fb-e40a-b46f81301574"
      },
      "execution_count": null,
      "outputs": [
        {
          "output_type": "execute_result",
          "data": {
            "image/png": "[encoded data removed]",
            "text/plain": [
              "<IPython.core.display.Image object>"
            ]
          },
          "metadata": {},
          "execution_count": 208
        }
      ]
    },
    {
      "cell_type": "code",
      "source": [
        "plot_model(model, to_file='modelfix2.png', show_shapes=True)"
      ],
      "metadata": {
        "id": "SoWJSHqjoQ6V",
        "colab": {
          "base_uri": "https://localhost:8080/",
          "height": 312
        },
        "outputId": "196a7b5d-c27d-4f91-ac88-2933d139b9b4"
      },
      "execution_count": null,
      "outputs": [
        {
          "output_type": "execute_result",
          "data": {
            "image/png": "[encoded data removed]",
            "text/plain": [
              "<IPython.core.display.Image object>"
            ]
          },
          "metadata": {},
          "execution_count": 209
        }
      ]
    },
    {
      "cell_type": "code",
      "source": [
        "from ann_visualizer.visualize import ann_viz\n",
        "import graphviz\n"
      ],
      "metadata": {
        "execution": {
          "iopub.status.busy": "2022-09-17T16:34:14.450522Z",
          "iopub.execute_input": "2022-09-17T16:34:14.451310Z",
          "iopub.status.idle": "2022-09-17T16:34:14.660196Z",
          "shell.execute_reply.started": "2022-09-17T16:34:14.451272Z",
          "shell.execute_reply": "2022-09-17T16:34:14.659041Z"
        },
        "trusted": true,
        "id": "BNXdHg0jljtB"
      },
      "execution_count": null,
      "outputs": []
    },
    {
      "cell_type": "code",
      "source": [
        "ann_viz(model, filename='ANN_Fix', title=\"Tugas Akhir Artificial Neural Network\")"
      ],
      "metadata": {
        "id": "jfFFfQLvotkP"
      },
      "execution_count": null,
      "outputs": []
    },
    {
      "cell_type": "code",
      "source": [
        "from sklearn.metrics import accuracy_score\n",
        "y_pred = model.predict(X_test)\n",
        "y_pred = (y_pred > 0.6)"
      ],
      "metadata": {
        "execution": {
          "iopub.status.busy": "2022-09-17T16:27:43.011261Z",
          "iopub.execute_input": "2022-09-17T16:27:43.013444Z",
          "iopub.status.idle": "2022-09-17T16:27:43.260781Z",
          "shell.execute_reply.started": "2022-09-17T16:27:43.013382Z",
          "shell.execute_reply": "2022-09-17T16:27:43.259788Z"
        },
        "trusted": true,
        "id": "Exdy17DbljtF"
      },
      "execution_count": null,
      "outputs": []
    },
    {
      "cell_type": "code",
      "source": [
        "from sklearn.metrics import confusion_matrix\n",
        "\n",
        "print(confusion_matrix(y_test,y_pred))"
      ],
      "metadata": {
        "execution": {
          "iopub.status.busy": "2022-09-17T16:27:43.262071Z",
          "iopub.execute_input": "2022-09-17T16:27:43.262627Z",
          "iopub.status.idle": "2022-09-17T16:27:43.274735Z",
          "shell.execute_reply.started": "2022-09-17T16:27:43.262590Z",
          "shell.execute_reply": "2022-09-17T16:27:43.273342Z"
        },
        "trusted": true,
        "id": "0akgB5GmljtF",
        "colab": {
          "base_uri": "https://localhost:8080/"
        },
        "outputId": "b2f73670-eedd-46de-a907-ab79e843eb06"
      },
      "execution_count": null,
      "outputs": [
        {
          "output_type": "stream",
          "name": "stdout",
          "text": [
            "[[200 186]\n",
            " [ 72 949]]\n"
          ]
        }
      ]
    },
    {
      "cell_type": "code",
      "source": [
        "import matplotlib.pyplot as plt\n",
        "import seaborn as sns\n",
        "\n",
        "cm = confusion_matrix(y_test, y_pred) \n",
        "cm_df = pd.DataFrame(cm,\n",
        "                     index = ['Tidak Hujan','Hujan'], \n",
        "                     columns = ['Tidak Hujan','Hujan'])\n",
        "\n",
        "f, ax=plt.subplots(figsize=(5,5))\n",
        "sns.heatmap(cm_df, annot=True, fmt=\".0f\",ax=ax, cmap = 'prism_r')\n",
        "plt.title('Confusion Matrix')\n",
        "plt.ylabel('Aktual')\n",
        "plt.xlabel('Prediksi')\n",
        "plt.savefig('plot_confusion_matrix_ANN.png')\n",
        "plt.show()"
      ],
      "metadata": {
        "execution": {
          "iopub.status.busy": "2022-09-17T16:27:43.276840Z",
          "iopub.execute_input": "2022-09-17T16:27:43.277328Z",
          "iopub.status.idle": "2022-09-17T16:27:43.670257Z",
          "shell.execute_reply.started": "2022-09-17T16:27:43.277281Z",
          "shell.execute_reply": "2022-09-17T16:27:43.669346Z"
        },
        "trusted": true,
        "id": "HV43Po9CljtG",
        "colab": {
          "base_uri": "https://localhost:8080/",
          "height": 350
        },
        "outputId": "19f9d5c9-23c9-4324-f928-7ec91eb68132"
      },
      "execution_count": null,
      "outputs": [
        {
          "output_type": "display_data",
          "data": {
            "text/plain": [
              "<Figure size 360x360 with 2 Axes>"
            ],
            "image/png": "[encoded data removed]"
          },
          "metadata": {
            "needs_background": "light"
          }
        }
      ]
    },
    {
      "cell_type": "code",
      "source": [
        "from sklearn.metrics import classification_report\n",
        "\n",
        "print(classification_report(y_test, y_pred))"
      ],
      "metadata": {
        "execution": {
          "iopub.status.busy": "2022-09-17T16:27:43.671622Z",
          "iopub.execute_input": "2022-09-17T16:27:43.672075Z",
          "iopub.status.idle": "2022-09-17T16:27:43.686293Z",
          "shell.execute_reply.started": "2022-09-17T16:27:43.672037Z",
          "shell.execute_reply": "2022-09-17T16:27:43.685165Z"
        },
        "trusted": true,
        "id": "neHZ-5pdljtH",
        "colab": {
          "base_uri": "https://localhost:8080/"
        },
        "outputId": "b0e2c1ee-17a2-4590-fb8b-6a51407fdd70"
      },
      "execution_count": null,
      "outputs": [
        {
          "output_type": "stream",
          "name": "stdout",
          "text": [
            "              precision    recall  f1-score   support\n",
            "\n",
            "           0       0.74      0.52      0.61       386\n",
            "           1       0.84      0.93      0.88      1021\n",
            "\n",
            "    accuracy                           0.82      1407\n",
            "   macro avg       0.79      0.72      0.74      1407\n",
            "weighted avg       0.81      0.82      0.81      1407\n",
            "\n"
          ]
        }
      ]
    },
    {
      "cell_type": "code",
      "source": [
        "comp_df = y_test.copy()\n",
        "comp_df['Prediksi'] = y_pred\n",
        "comp_df.rename(columns = {'Label Curah Hujan':'Aktual'}, inplace = False)\n",
        "comp_df"
      ],
      "metadata": {
        "id": "HsnhMFfRx1XT",
        "colab": {
          "base_uri": "https://localhost:8080/",
          "height": 424
        },
        "outputId": "bc52a981-063d-437a-a064-abc5051b16ef"
      },
      "execution_count": null,
      "outputs": [
        {
          "output_type": "execute_result",
          "data": {
            "text/plain": [
              "     Label Curah Hujan  Prediksi\n",
              "2611                 1      True\n",
              "2612                 1      True\n",
              "2613                 1      True\n",
              "2614                 1      True\n",
              "2615                 1      True\n",
              "...                ...       ...\n",
              "4013                 1      True\n",
              "4014                 1      True\n",
              "4015                 0      True\n",
              "4016                 1      True\n",
              "4017                 1      True\n",
              "\n",
              "[1407 rows x 2 columns]"
            ],
            "text/html": [
              "\n",
              "  <div id=\"df-23d37bab-823f-4599-a7fe-8a675e263056\">\n",
              "    <div class=\"colab-df-container\">\n",
              "      <div>\n",
              "<style scoped>\n",
              "    .dataframe tbody tr th:only-of-type {\n",
              "        vertical-align: middle;\n",
              "    }\n",
              "\n",
              "    .dataframe tbody tr th {\n",
              "        vertical-align: top;\n",
              "    }\n",
              "\n",
              "    .dataframe thead th {\n",
              "        text-align: right;\n",
              "    }\n",
              "</style>\n",
              "<table border=\"1\" class=\"dataframe\">\n",
              "  <thead>\n",
              "    <tr style=\"text-align: right;\">\n",
              "      <th></th>\n",
              "      <th>Label Curah Hujan</th>\n",
              "      <th>Prediksi</th>\n",
              "    </tr>\n",
              "  </thead>\n",
              "  <tbody>\n",
              "    <tr>\n",
              "      <th>2611</th>\n",
              "      <td>1</td>\n",
              "      <td>True</td>\n",
              "    </tr>\n",
              "    <tr>\n",
              "      <th>2612</th>\n",
              "      <td>1</td>\n",
              "      <td>True</td>\n",
              "    </tr>\n",
              "    <tr>\n",
              "      <th>2613</th>\n",
              "      <td>1</td>\n",
              "      <td>True</td>\n",
              "    </tr>\n",
              "    <tr>\n",
              "      <th>2614</th>\n",
              "      <td>1</td>\n",
              "      <td>True</td>\n",
              "    </tr>\n",
              "    <tr>\n",
              "      <th>2615</th>\n",
              "      <td>1</td>\n",
              "      <td>True</td>\n",
              "    </tr>\n",
              "    <tr>\n",
              "      <th>...</th>\n",
              "      <td>...</td>\n",
              "      <td>...</td>\n",
              "    </tr>\n",
              "    <tr>\n",
              "      <th>4013</th>\n",
              "      <td>1</td>\n",
              "      <td>True</td>\n",
              "    </tr>\n",
              "    <tr>\n",
              "      <th>4014</th>\n",
              "      <td>1</td>\n",
              "      <td>True</td>\n",
              "    </tr>\n",
              "    <tr>\n",
              "      <th>4015</th>\n",
              "      <td>0</td>\n",
              "      <td>True</td>\n",
              "    </tr>\n",
              "    <tr>\n",
              "      <th>4016</th>\n",
              "      <td>1</td>\n",
              "      <td>True</td>\n",
              "    </tr>\n",
              "    <tr>\n",
              "      <th>4017</th>\n",
              "      <td>1</td>\n",
              "      <td>True</td>\n",
              "    </tr>\n",
              "  </tbody>\n",
              "</table>\n",
              "<p>1407 rows × 2 columns</p>\n",
              "</div>\n",
              "      <button class=\"colab-df-convert\" onclick=\"convertToInteractive('df-23d37bab-823f-4599-a7fe-8a675e263056')\"\n",
              "              title=\"Convert this dataframe to an interactive table.\"\n",
              "              style=\"display:none;\">\n",
              "        \n",
              "  <svg xmlns=\"http://www.w3.org/2000/svg\" height=\"24px\"viewBox=\"0 0 24 24\"\n",
              "       width=\"24px\">\n",
              "    <path d=\"M0 0h24v24H0V0z\" fill=\"none\"/>\n",
              "    <path d=\"M18.56 5.44l.94 2.06.94-2.06 2.06-.94-2.06-.94-.94-2.06-.94 2.06-2.06.94zm-11 1L8.5 8.5l.94-2.06 2.06-.94-2.06-.94L8.5 2.5l-.94 2.06-2.06.94zm10 10l.94 2.06.94-2.06 2.06-.94-2.06-.94-.94-2.06-.94 2.06-2.06.94z\"/><path d=\"M17.41 7.96l-1.37-1.37c-.4-.4-.92-.59-1.43-.59-.52 0-1.04.2-1.43.59L10.3 9.45l-7.72 7.72c-.78.78-.78 2.05 0 2.83L4 21.41c.39.39.9.59 1.41.59.51 0 1.02-.2 1.41-.59l7.78-7.78 2.81-2.81c.8-.78.8-2.07 0-2.86zM5.41 20L4 18.59l7.72-7.72 1.47 1.35L5.41 20z\"/>\n",
              "  </svg>\n",
              "      </button>\n",
              "      \n",
              "  <style>\n",
              "    .colab-df-container {\n",
              "      display:flex;\n",
              "      flex-wrap:wrap;\n",
              "      gap: 12px;\n",
              "    }\n",
              "\n",
              "    .colab-df-convert {\n",
              "      background-color: #E8F0FE;\n",
              "      border: none;\n",
              "      border-radius: 50%;\n",
              "      cursor: pointer;\n",
              "      display: none;\n",
              "      fill: #1967D2;\n",
              "      height: 32px;\n",
              "      padding: 0 0 0 0;\n",
              "      width: 32px;\n",
              "    }\n",
              "\n",
              "    .colab-df-convert:hover {\n",
              "      background-color: #E2EBFA;\n",
              "      box-shadow: 0px 1px 2px rgba(60, 64, 67, 0.3), 0px 1px 3px 1px rgba(60, 64, 67, 0.15);\n",
              "      fill: #174EA6;\n",
              "    }\n",
              "\n",
              "    [theme=dark] .colab-df-convert {\n",
              "      background-color: #3B4455;\n",
              "      fill: #D2E3FC;\n",
              "    }\n",
              "\n",
              "    [theme=dark] .colab-df-convert:hover {\n",
              "      background-color: #434B5C;\n",
              "      box-shadow: 0px 1px 3px 1px rgba(0, 0, 0, 0.15);\n",
              "      filter: drop-shadow(0px 1px 2px rgba(0, 0, 0, 0.3));\n",
              "      fill: #FFFFFF;\n",
              "    }\n",
              "  </style>\n",
              "\n",
              "      <script>\n",
              "        const buttonEl =\n",
              "          document.querySelector('#df-23d37bab-823f-4599-a7fe-8a675e263056 button.colab-df-convert');\n",
              "        buttonEl.style.display =\n",
              "          google.colab.kernel.accessAllowed ? 'block' : 'none';\n",
              "\n",
              "        async function convertToInteractive(key) {\n",
              "          const element = document.querySelector('#df-23d37bab-823f-4599-a7fe-8a675e263056');\n",
              "          const dataTable =\n",
              "            await google.colab.kernel.invokeFunction('convertToInteractive',\n",
              "                                                     [key], {});\n",
              "          if (!dataTable) return;\n",
              "\n",
              "          const docLinkHtml = 'Like what you see? Visit the ' +\n",
              "            '<a target=\"_blank\" href=https://colab.research.google.com/notebooks/data_table.ipynb>data table notebook</a>'\n",
              "            + ' to learn more about interactive tables.';\n",
              "          element.innerHTML = '';\n",
              "          dataTable['output_type'] = 'display_data';\n",
              "          await google.colab.output.renderOutput(dataTable, element);\n",
              "          const docLink = document.createElement('div');\n",
              "          docLink.innerHTML = docLinkHtml;\n",
              "          element.appendChild(docLink);\n",
              "        }\n",
              "      </script>\n",
              "    </div>\n",
              "  </div>\n",
              "  "
            ]
          },
          "metadata": {},
          "execution_count": 216
        }
      ]
    },
    {
      "cell_type": "code",
      "source": [
        "comp_df.to_excel('ANN_fix.xlsx')"
      ],
      "metadata": {
        "execution": {
          "iopub.status.busy": "2022-09-17T16:27:54.183279Z",
          "iopub.execute_input": "2022-09-17T16:27:54.183684Z",
          "iopub.status.idle": "2022-09-17T16:27:54.233293Z",
          "shell.execute_reply.started": "2022-09-17T16:27:54.183642Z",
          "shell.execute_reply": "2022-09-17T16:27:54.231103Z"
        },
        "trusted": true,
        "id": "ET9XeMucljtI"
      },
      "execution_count": null,
      "outputs": []
    },
    {
      "cell_type": "code",
      "source": [],
      "metadata": {
        "id": "26sgnd5ozBDN"
      },
      "execution_count": null,
      "outputs": []
    }
  ]
}